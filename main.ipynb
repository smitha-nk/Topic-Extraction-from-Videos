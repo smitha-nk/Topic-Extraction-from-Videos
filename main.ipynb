{
 "cells": [
  {
   "cell_type": "markdown",
   "id": "9f6653fa",
   "metadata": {},
   "source": [
    "# Topic extractor for Video Transcripts"
   ]
  },
  {
   "cell_type": "markdown",
   "id": "ade9b9ed",
   "metadata": {},
   "source": [
    "<b>Contents</b>\n",
    "1. Introduction\n",
    "2. Import Packages\n",
    "3. Get data\n",
    "4. Pre process data\n",
    "5. Create the Dictionary and Corpus needed for Topic Modeling\n",
    "6. Creating Bigram and Trigram \n",
    "7. Building the Topic Model\n",
    "8. LDA<br>\n",
    "      a. LDA - bow unigram<br>\n",
    "      b. LDA - bow bigram<br>\n",
    "      c. LDA - bow trigram<br>\n",
    "      d. LDA - bow tfidf<br>\n",
    "   Compute Model Perplexity and Coherence Score<br>\n",
    "   Find optimal number of topics<br>\n",
    "   Visualize the topics-keywords\n",
    "9. LSA - tfidf\n",
    "10. NMF - tfidf\n",
    "11. Analysation\n",
    "12. Conclusion"
   ]
  },
  {
   "cell_type": "markdown",
   "id": "170cb75f",
   "metadata": {},
   "source": [
    "<b>Introduction<br>\n",
    "    <br>\n",
    "<b>Topic Modeling is a technique to extract the hidden topics from large volumes of text. LDA, LSA & NMF are excellent implementations for the same. The challenge, however, is how to extract good quality of topics that are clear, segregated and meaningful. This depends heavily on the quality of text preprocessing and the strategy of finding the optimal number of topics. Here we try to attempt to tackle these problems."
   ]
  },
  {
   "cell_type": "markdown",
   "id": "cf3fa8dc",
   "metadata": {},
   "source": [
    "<b>Import packages"
   ]
  },
  {
   "cell_type": "code",
   "execution_count": 1,
   "id": "e82d50c3",
   "metadata": {},
   "outputs": [
    {
     "name": "stdout",
     "output_type": "stream",
     "text": [
      "importing Jupyter notebook from C:\\Users\\Dell\\Desktop\\Imarticus-learning\\Capstone\\DL-capstone\\NLP\\TopicExtraction\\src\\get_data.ipynb\n",
      "importing Jupyter notebook from C:\\Users\\Dell\\Desktop\\Imarticus-learning\\Capstone\\DL-capstone\\NLP\\TopicExtraction\\src\\topic_modeling.ipynb\n",
      "importing Jupyter notebook from C:\\Users\\Dell\\Desktop\\Imarticus-learning\\Capstone\\DL-capstone\\NLP\\TopicExtraction\\src\\preprocessing.ipynb\n",
      "importing Jupyter notebook from C:\\Users\\Dell\\Desktop\\Imarticus-learning\\Capstone\\DL-capstone\\NLP\\TopicExtraction\\src\\stopwords.ipynb\n"
     ]
    },
    {
     "name": "stderr",
     "output_type": "stream",
     "text": [
      "[nltk_data] Downloading package stopwords to\n",
      "[nltk_data]     C:\\Users\\Dell\\AppData\\Roaming\\nltk_data...\n",
      "[nltk_data]   Package stopwords is already up-to-date!\n",
      "<string>:76: DeprecationWarning: invalid escape sequence \\S\n",
      "<string>:79: DeprecationWarning: invalid escape sequence \\s\n",
      "C:\\Users\\Dell\\anaconda3\\lib\\site-packages\\tensorflow\\core\\framework\\tensor_shape_pb2.py:18: DeprecationWarning: Call to deprecated create function FileDescriptor(). Note: Create unlinked descriptors is going to go away. Please use get/find descriptors from generated code or query the descriptor_pool.\n",
      "  DESCRIPTOR = _descriptor.FileDescriptor(\n",
      "C:\\Users\\Dell\\anaconda3\\lib\\site-packages\\tensorflow\\core\\framework\\tensor_shape_pb2.py:36: DeprecationWarning: Call to deprecated create function FieldDescriptor(). Note: Create unlinked descriptors is going to go away. Please use get/find descriptors from generated code or query the descriptor_pool.\n",
      "  _descriptor.FieldDescriptor(\n",
      "C:\\Users\\Dell\\anaconda3\\lib\\site-packages\\tensorflow\\core\\framework\\tensor_shape_pb2.py:43: DeprecationWarning: Call to deprecated create function FieldDescriptor(). Note: Create unlinked descriptors is going to go away. Please use get/find descriptors from generated code or query the descriptor_pool.\n",
      "  _descriptor.FieldDescriptor(\n",
      "C:\\Users\\Dell\\anaconda3\\lib\\site-packages\\tensorflow\\core\\framework\\tensor_shape_pb2.py:29: DeprecationWarning: Call to deprecated create function Descriptor(). Note: Create unlinked descriptors is going to go away. Please use get/find descriptors from generated code or query the descriptor_pool.\n",
      "  _TENSORSHAPEPROTO_DIM = _descriptor.Descriptor(\n",
      "C:\\Users\\Dell\\anaconda3\\lib\\site-packages\\tensorflow\\core\\framework\\tensor_shape_pb2.py:73: DeprecationWarning: Call to deprecated create function FieldDescriptor(). Note: Create unlinked descriptors is going to go away. Please use get/find descriptors from generated code or query the descriptor_pool.\n",
      "  _descriptor.FieldDescriptor(\n",
      "C:\\Users\\Dell\\anaconda3\\lib\\site-packages\\tensorflow\\core\\framework\\tensor_shape_pb2.py:80: DeprecationWarning: Call to deprecated create function FieldDescriptor(). Note: Create unlinked descriptors is going to go away. Please use get/find descriptors from generated code or query the descriptor_pool.\n",
      "  _descriptor.FieldDescriptor(\n",
      "C:\\Users\\Dell\\anaconda3\\lib\\site-packages\\tensorflow\\core\\framework\\tensor_shape_pb2.py:66: DeprecationWarning: Call to deprecated create function Descriptor(). Note: Create unlinked descriptors is going to go away. Please use get/find descriptors from generated code or query the descriptor_pool.\n",
      "  _TENSORSHAPEPROTO = _descriptor.Descriptor(\n",
      "C:\\Users\\Dell\\anaconda3\\lib\\site-packages\\tensorflow\\core\\framework\\types_pb2.py:19: DeprecationWarning: Call to deprecated create function FileDescriptor(). Note: Create unlinked descriptors is going to go away. Please use get/find descriptors from generated code or query the descriptor_pool.\n",
      "  DESCRIPTOR = _descriptor.FileDescriptor(\n",
      "C:\\Users\\Dell\\anaconda3\\lib\\site-packages\\tensorflow\\core\\framework\\types_pb2.py:33: DeprecationWarning: Call to deprecated create function EnumValueDescriptor(). Note: Create unlinked descriptors is going to go away. Please use get/find descriptors from generated code or query the descriptor_pool.\n",
      "  _descriptor.EnumValueDescriptor(\n",
      "C:\\Users\\Dell\\anaconda3\\lib\\site-packages\\tensorflow\\core\\framework\\types_pb2.py:37: DeprecationWarning: Call to deprecated create function EnumValueDescriptor(). Note: Create unlinked descriptors is going to go away. Please use get/find descriptors from generated code or query the descriptor_pool.\n",
      "  _descriptor.EnumValueDescriptor(\n",
      "C:\\Users\\Dell\\anaconda3\\lib\\site-packages\\tensorflow\\core\\framework\\types_pb2.py:41: DeprecationWarning: Call to deprecated create function EnumValueDescriptor(). Note: Create unlinked descriptors is going to go away. Please use get/find descriptors from generated code or query the descriptor_pool.\n",
      "  _descriptor.EnumValueDescriptor(\n",
      "C:\\Users\\Dell\\anaconda3\\lib\\site-packages\\tensorflow\\core\\framework\\types_pb2.py:45: DeprecationWarning: Call to deprecated create function EnumValueDescriptor(). Note: Create unlinked descriptors is going to go away. Please use get/find descriptors from generated code or query the descriptor_pool.\n",
      "  _descriptor.EnumValueDescriptor(\n",
      "C:\\Users\\Dell\\anaconda3\\lib\\site-packages\\tensorflow\\core\\framework\\types_pb2.py:49: DeprecationWarning: Call to deprecated create function EnumValueDescriptor(). Note: Create unlinked descriptors is going to go away. Please use get/find descriptors from generated code or query the descriptor_pool.\n",
      "  _descriptor.EnumValueDescriptor(\n",
      "C:\\Users\\Dell\\anaconda3\\lib\\site-packages\\tensorflow\\core\\framework\\types_pb2.py:53: DeprecationWarning: Call to deprecated create function EnumValueDescriptor(). Note: Create unlinked descriptors is going to go away. Please use get/find descriptors from generated code or query the descriptor_pool.\n",
      "  _descriptor.EnumValueDescriptor(\n",
      "C:\\Users\\Dell\\anaconda3\\lib\\site-packages\\tensorflow\\core\\framework\\types_pb2.py:57: DeprecationWarning: Call to deprecated create function EnumValueDescriptor(). Note: Create unlinked descriptors is going to go away. Please use get/find descriptors from generated code or query the descriptor_pool.\n",
      "  _descriptor.EnumValueDescriptor(\n",
      "C:\\Users\\Dell\\anaconda3\\lib\\site-packages\\tensorflow\\core\\framework\\types_pb2.py:61: DeprecationWarning: Call to deprecated create function EnumValueDescriptor(). Note: Create unlinked descriptors is going to go away. Please use get/find descriptors from generated code or query the descriptor_pool.\n",
      "  _descriptor.EnumValueDescriptor(\n",
      "C:\\Users\\Dell\\anaconda3\\lib\\site-packages\\tensorflow\\core\\framework\\types_pb2.py:65: DeprecationWarning: Call to deprecated create function EnumValueDescriptor(). Note: Create unlinked descriptors is going to go away. Please use get/find descriptors from generated code or query the descriptor_pool.\n",
      "  _descriptor.EnumValueDescriptor(\n",
      "C:\\Users\\Dell\\anaconda3\\lib\\site-packages\\tensorflow\\core\\framework\\types_pb2.py:69: DeprecationWarning: Call to deprecated create function EnumValueDescriptor(). Note: Create unlinked descriptors is going to go away. Please use get/find descriptors from generated code or query the descriptor_pool.\n",
      "  _descriptor.EnumValueDescriptor(\n",
      "C:\\Users\\Dell\\anaconda3\\lib\\site-packages\\tensorflow\\core\\framework\\types_pb2.py:73: DeprecationWarning: Call to deprecated create function EnumValueDescriptor(). Note: Create unlinked descriptors is going to go away. Please use get/find descriptors from generated code or query the descriptor_pool.\n",
      "  _descriptor.EnumValueDescriptor(\n",
      "C:\\Users\\Dell\\anaconda3\\lib\\site-packages\\tensorflow\\core\\framework\\types_pb2.py:77: DeprecationWarning: Call to deprecated create function EnumValueDescriptor(). Note: Create unlinked descriptors is going to go away. Please use get/find descriptors from generated code or query the descriptor_pool.\n",
      "  _descriptor.EnumValueDescriptor(\n",
      "C:\\Users\\Dell\\anaconda3\\lib\\site-packages\\tensorflow\\core\\framework\\types_pb2.py:81: DeprecationWarning: Call to deprecated create function EnumValueDescriptor(). Note: Create unlinked descriptors is going to go away. Please use get/find descriptors from generated code or query the descriptor_pool.\n",
      "  _descriptor.EnumValueDescriptor(\n",
      "C:\\Users\\Dell\\anaconda3\\lib\\site-packages\\tensorflow\\core\\framework\\types_pb2.py:85: DeprecationWarning: Call to deprecated create function EnumValueDescriptor(). Note: Create unlinked descriptors is going to go away. Please use get/find descriptors from generated code or query the descriptor_pool.\n",
      "  _descriptor.EnumValueDescriptor(\n",
      "C:\\Users\\Dell\\anaconda3\\lib\\site-packages\\tensorflow\\core\\framework\\types_pb2.py:89: DeprecationWarning: Call to deprecated create function EnumValueDescriptor(). Note: Create unlinked descriptors is going to go away. Please use get/find descriptors from generated code or query the descriptor_pool.\n",
      "  _descriptor.EnumValueDescriptor(\n",
      "C:\\Users\\Dell\\anaconda3\\lib\\site-packages\\tensorflow\\core\\framework\\types_pb2.py:93: DeprecationWarning: Call to deprecated create function EnumValueDescriptor(). Note: Create unlinked descriptors is going to go away. Please use get/find descriptors from generated code or query the descriptor_pool.\n",
      "  _descriptor.EnumValueDescriptor(\n",
      "C:\\Users\\Dell\\anaconda3\\lib\\site-packages\\tensorflow\\core\\framework\\types_pb2.py:97: DeprecationWarning: Call to deprecated create function EnumValueDescriptor(). Note: Create unlinked descriptors is going to go away. Please use get/find descriptors from generated code or query the descriptor_pool.\n",
      "  _descriptor.EnumValueDescriptor(\n",
      "C:\\Users\\Dell\\anaconda3\\lib\\site-packages\\tensorflow\\core\\framework\\types_pb2.py:101: DeprecationWarning: Call to deprecated create function EnumValueDescriptor(). Note: Create unlinked descriptors is going to go away. Please use get/find descriptors from generated code or query the descriptor_pool.\n",
      "  _descriptor.EnumValueDescriptor(\n",
      "C:\\Users\\Dell\\anaconda3\\lib\\site-packages\\tensorflow\\core\\framework\\types_pb2.py:105: DeprecationWarning: Call to deprecated create function EnumValueDescriptor(). Note: Create unlinked descriptors is going to go away. Please use get/find descriptors from generated code or query the descriptor_pool.\n",
      "  _descriptor.EnumValueDescriptor(\n",
      "C:\\Users\\Dell\\anaconda3\\lib\\site-packages\\tensorflow\\core\\framework\\types_pb2.py:109: DeprecationWarning: Call to deprecated create function EnumValueDescriptor(). Note: Create unlinked descriptors is going to go away. Please use get/find descriptors from generated code or query the descriptor_pool.\n",
      "  _descriptor.EnumValueDescriptor(\n",
      "C:\\Users\\Dell\\anaconda3\\lib\\site-packages\\tensorflow\\core\\framework\\types_pb2.py:113: DeprecationWarning: Call to deprecated create function EnumValueDescriptor(). Note: Create unlinked descriptors is going to go away. Please use get/find descriptors from generated code or query the descriptor_pool.\n",
      "  _descriptor.EnumValueDescriptor(\n",
      "C:\\Users\\Dell\\anaconda3\\lib\\site-packages\\tensorflow\\core\\framework\\types_pb2.py:117: DeprecationWarning: Call to deprecated create function EnumValueDescriptor(). Note: Create unlinked descriptors is going to go away. Please use get/find descriptors from generated code or query the descriptor_pool.\n",
      "  _descriptor.EnumValueDescriptor(\n",
      "C:\\Users\\Dell\\anaconda3\\lib\\site-packages\\tensorflow\\core\\framework\\types_pb2.py:121: DeprecationWarning: Call to deprecated create function EnumValueDescriptor(). Note: Create unlinked descriptors is going to go away. Please use get/find descriptors from generated code or query the descriptor_pool.\n",
      "  _descriptor.EnumValueDescriptor(\n",
      "C:\\Users\\Dell\\anaconda3\\lib\\site-packages\\tensorflow\\core\\framework\\types_pb2.py:125: DeprecationWarning: Call to deprecated create function EnumValueDescriptor(). Note: Create unlinked descriptors is going to go away. Please use get/find descriptors from generated code or query the descriptor_pool.\n",
      "  _descriptor.EnumValueDescriptor(\n",
      "C:\\Users\\Dell\\anaconda3\\lib\\site-packages\\tensorflow\\core\\framework\\types_pb2.py:129: DeprecationWarning: Call to deprecated create function EnumValueDescriptor(). Note: Create unlinked descriptors is going to go away. Please use get/find descriptors from generated code or query the descriptor_pool.\n",
      "  _descriptor.EnumValueDescriptor(\n",
      "C:\\Users\\Dell\\anaconda3\\lib\\site-packages\\tensorflow\\core\\framework\\types_pb2.py:133: DeprecationWarning: Call to deprecated create function EnumValueDescriptor(). Note: Create unlinked descriptors is going to go away. Please use get/find descriptors from generated code or query the descriptor_pool.\n",
      "  _descriptor.EnumValueDescriptor(\n",
      "C:\\Users\\Dell\\anaconda3\\lib\\site-packages\\tensorflow\\core\\framework\\types_pb2.py:137: DeprecationWarning: Call to deprecated create function EnumValueDescriptor(). Note: Create unlinked descriptors is going to go away. Please use get/find descriptors from generated code or query the descriptor_pool.\n",
      "  _descriptor.EnumValueDescriptor(\n",
      "C:\\Users\\Dell\\anaconda3\\lib\\site-packages\\tensorflow\\core\\framework\\types_pb2.py:141: DeprecationWarning: Call to deprecated create function EnumValueDescriptor(). Note: Create unlinked descriptors is going to go away. Please use get/find descriptors from generated code or query the descriptor_pool.\n",
      "  _descriptor.EnumValueDescriptor(\n",
      "C:\\Users\\Dell\\anaconda3\\lib\\site-packages\\tensorflow\\core\\framework\\types_pb2.py:145: DeprecationWarning: Call to deprecated create function EnumValueDescriptor(). Note: Create unlinked descriptors is going to go away. Please use get/find descriptors from generated code or query the descriptor_pool.\n",
      "  _descriptor.EnumValueDescriptor(\n",
      "C:\\Users\\Dell\\anaconda3\\lib\\site-packages\\tensorflow\\core\\framework\\types_pb2.py:149: DeprecationWarning: Call to deprecated create function EnumValueDescriptor(). Note: Create unlinked descriptors is going to go away. Please use get/find descriptors from generated code or query the descriptor_pool.\n",
      "  _descriptor.EnumValueDescriptor(\n",
      "C:\\Users\\Dell\\anaconda3\\lib\\site-packages\\tensorflow\\core\\framework\\types_pb2.py:153: DeprecationWarning: Call to deprecated create function EnumValueDescriptor(). Note: Create unlinked descriptors is going to go away. Please use get/find descriptors from generated code or query the descriptor_pool.\n",
      "  _descriptor.EnumValueDescriptor(\n",
      "C:\\Users\\Dell\\anaconda3\\lib\\site-packages\\tensorflow\\core\\framework\\types_pb2.py:157: DeprecationWarning: Call to deprecated create function EnumValueDescriptor(). Note: Create unlinked descriptors is going to go away. Please use get/find descriptors from generated code or query the descriptor_pool.\n",
      "  _descriptor.EnumValueDescriptor(\n",
      "C:\\Users\\Dell\\anaconda3\\lib\\site-packages\\tensorflow\\core\\framework\\types_pb2.py:161: DeprecationWarning: Call to deprecated create function EnumValueDescriptor(). Note: Create unlinked descriptors is going to go away. Please use get/find descriptors from generated code or query the descriptor_pool.\n",
      "  _descriptor.EnumValueDescriptor(\n",
      "C:\\Users\\Dell\\anaconda3\\lib\\site-packages\\tensorflow\\core\\framework\\types_pb2.py:165: DeprecationWarning: Call to deprecated create function EnumValueDescriptor(). Note: Create unlinked descriptors is going to go away. Please use get/find descriptors from generated code or query the descriptor_pool.\n",
      "  _descriptor.EnumValueDescriptor(\n",
      "C:\\Users\\Dell\\anaconda3\\lib\\site-packages\\tensorflow\\core\\framework\\types_pb2.py:169: DeprecationWarning: Call to deprecated create function EnumValueDescriptor(). Note: Create unlinked descriptors is going to go away. Please use get/find descriptors from generated code or query the descriptor_pool.\n",
      "  _descriptor.EnumValueDescriptor(\n",
      "C:\\Users\\Dell\\anaconda3\\lib\\site-packages\\tensorflow\\core\\framework\\types_pb2.py:173: DeprecationWarning: Call to deprecated create function EnumValueDescriptor(). Note: Create unlinked descriptors is going to go away. Please use get/find descriptors from generated code or query the descriptor_pool.\n",
      "  _descriptor.EnumValueDescriptor(\n",
      "C:\\Users\\Dell\\anaconda3\\lib\\site-packages\\tensorflow\\core\\framework\\types_pb2.py:177: DeprecationWarning: Call to deprecated create function EnumValueDescriptor(). Note: Create unlinked descriptors is going to go away. Please use get/find descriptors from generated code or query the descriptor_pool.\n",
      "  _descriptor.EnumValueDescriptor(\n",
      "C:\\Users\\Dell\\anaconda3\\lib\\site-packages\\tensorflow\\core\\framework\\types_pb2.py:181: DeprecationWarning: Call to deprecated create function EnumValueDescriptor(). Note: Create unlinked descriptors is going to go away. Please use get/find descriptors from generated code or query the descriptor_pool.\n",
      "  _descriptor.EnumValueDescriptor(\n",
      "C:\\Users\\Dell\\anaconda3\\lib\\site-packages\\tensorflow\\core\\framework\\types_pb2.py:185: DeprecationWarning: Call to deprecated create function EnumValueDescriptor(). Note: Create unlinked descriptors is going to go away. Please use get/find descriptors from generated code or query the descriptor_pool.\n",
      "  _descriptor.EnumValueDescriptor(\n",
      "C:\\Users\\Dell\\anaconda3\\lib\\site-packages\\tensorflow\\core\\framework\\types_pb2.py:189: DeprecationWarning: Call to deprecated create function EnumValueDescriptor(). Note: Create unlinked descriptors is going to go away. Please use get/find descriptors from generated code or query the descriptor_pool.\n",
      "  _descriptor.EnumValueDescriptor(\n",
      "C:\\Users\\Dell\\anaconda3\\lib\\site-packages\\tensorflow\\core\\framework\\types_pb2.py:193: DeprecationWarning: Call to deprecated create function EnumValueDescriptor(). Note: Create unlinked descriptors is going to go away. Please use get/find descriptors from generated code or query the descriptor_pool.\n",
      "  _descriptor.EnumValueDescriptor(\n",
      "C:\\Users\\Dell\\anaconda3\\lib\\site-packages\\tensorflow\\core\\framework\\types_pb2.py:197: DeprecationWarning: Call to deprecated create function EnumValueDescriptor(). Note: Create unlinked descriptors is going to go away. Please use get/find descriptors from generated code or query the descriptor_pool.\n",
      "  _descriptor.EnumValueDescriptor(\n",
      "C:\\Users\\Dell\\anaconda3\\lib\\site-packages\\tensorflow\\core\\framework\\types_pb2.py:201: DeprecationWarning: Call to deprecated create function EnumValueDescriptor(). Note: Create unlinked descriptors is going to go away. Please use get/find descriptors from generated code or query the descriptor_pool.\n",
      "  _descriptor.EnumValueDescriptor(\n",
      "C:\\Users\\Dell\\anaconda3\\lib\\site-packages\\tensorflow\\core\\framework\\types_pb2.py:205: DeprecationWarning: Call to deprecated create function EnumValueDescriptor(). Note: Create unlinked descriptors is going to go away. Please use get/find descriptors from generated code or query the descriptor_pool.\n",
      "  _descriptor.EnumValueDescriptor(\n",
      "C:\\Users\\Dell\\anaconda3\\lib\\site-packages\\tensorflow\\core\\framework\\types_pb2.py:209: DeprecationWarning: Call to deprecated create function EnumValueDescriptor(). Note: Create unlinked descriptors is going to go away. Please use get/find descriptors from generated code or query the descriptor_pool.\n",
      "  _descriptor.EnumValueDescriptor(\n",
      "C:\\Users\\Dell\\anaconda3\\lib\\site-packages\\tensorflow\\core\\framework\\types_pb2.py:213: DeprecationWarning: Call to deprecated create function EnumValueDescriptor(). Note: Create unlinked descriptors is going to go away. Please use get/find descriptors from generated code or query the descriptor_pool.\n",
      "  _descriptor.EnumValueDescriptor(\n",
      "C:\\Users\\Dell\\anaconda3\\lib\\site-packages\\tensorflow\\core\\framework\\types_pb2.py:217: DeprecationWarning: Call to deprecated create function EnumValueDescriptor(). Note: Create unlinked descriptors is going to go away. Please use get/find descriptors from generated code or query the descriptor_pool.\n",
      "  _descriptor.EnumValueDescriptor(\n",
      "C:\\Users\\Dell\\anaconda3\\lib\\site-packages\\tensorflow\\core\\framework\\types_pb2.py:27: DeprecationWarning: Call to deprecated create function EnumDescriptor(). Note: Create unlinked descriptors is going to go away. Please use get/find descriptors from generated code or query the descriptor_pool.\n",
      "  _DATATYPE = _descriptor.EnumDescriptor(\n",
      "C:\\Users\\Dell\\anaconda3\\lib\\site-packages\\tensorflow\\core\\framework\\resource_handle_pb2.py:20: DeprecationWarning: Call to deprecated create function FileDescriptor(). Note: Create unlinked descriptors is going to go away. Please use get/find descriptors from generated code or query the descriptor_pool.\n",
      "  DESCRIPTOR = _descriptor.FileDescriptor(\n",
      "C:\\Users\\Dell\\anaconda3\\lib\\site-packages\\tensorflow\\core\\framework\\resource_handle_pb2.py:39: DeprecationWarning: Call to deprecated create function FieldDescriptor(). Note: Create unlinked descriptors is going to go away. Please use get/find descriptors from generated code or query the descriptor_pool.\n",
      "  _descriptor.FieldDescriptor(\n",
      "C:\\Users\\Dell\\anaconda3\\lib\\site-packages\\tensorflow\\core\\framework\\resource_handle_pb2.py:46: DeprecationWarning: Call to deprecated create function FieldDescriptor(). Note: Create unlinked descriptors is going to go away. Please use get/find descriptors from generated code or query the descriptor_pool.\n",
      "  _descriptor.FieldDescriptor(\n",
      "C:\\Users\\Dell\\anaconda3\\lib\\site-packages\\tensorflow\\core\\framework\\resource_handle_pb2.py:32: DeprecationWarning: Call to deprecated create function Descriptor(). Note: Create unlinked descriptors is going to go away. Please use get/find descriptors from generated code or query the descriptor_pool.\n",
      "  _RESOURCEHANDLEPROTO_DTYPEANDSHAPE = _descriptor.Descriptor(\n",
      "C:\\Users\\Dell\\anaconda3\\lib\\site-packages\\tensorflow\\core\\framework\\resource_handle_pb2.py:76: DeprecationWarning: Call to deprecated create function FieldDescriptor(). Note: Create unlinked descriptors is going to go away. Please use get/find descriptors from generated code or query the descriptor_pool.\n",
      "  _descriptor.FieldDescriptor(\n",
      "C:\\Users\\Dell\\anaconda3\\lib\\site-packages\\tensorflow\\core\\framework\\resource_handle_pb2.py:83: DeprecationWarning: Call to deprecated create function FieldDescriptor(). Note: Create unlinked descriptors is going to go away. Please use get/find descriptors from generated code or query the descriptor_pool.\n",
      "  _descriptor.FieldDescriptor(\n",
      "C:\\Users\\Dell\\anaconda3\\lib\\site-packages\\tensorflow\\core\\framework\\resource_handle_pb2.py:90: DeprecationWarning: Call to deprecated create function FieldDescriptor(). Note: Create unlinked descriptors is going to go away. Please use get/find descriptors from generated code or query the descriptor_pool.\n",
      "  _descriptor.FieldDescriptor(\n",
      "C:\\Users\\Dell\\anaconda3\\lib\\site-packages\\tensorflow\\core\\framework\\resource_handle_pb2.py:97: DeprecationWarning: Call to deprecated create function FieldDescriptor(). Note: Create unlinked descriptors is going to go away. Please use get/find descriptors from generated code or query the descriptor_pool.\n",
      "  _descriptor.FieldDescriptor(\n",
      "C:\\Users\\Dell\\anaconda3\\lib\\site-packages\\tensorflow\\core\\framework\\resource_handle_pb2.py:104: DeprecationWarning: Call to deprecated create function FieldDescriptor(). Note: Create unlinked descriptors is going to go away. Please use get/find descriptors from generated code or query the descriptor_pool.\n",
      "  _descriptor.FieldDescriptor(\n",
      "C:\\Users\\Dell\\anaconda3\\lib\\site-packages\\tensorflow\\core\\framework\\resource_handle_pb2.py:111: DeprecationWarning: Call to deprecated create function FieldDescriptor(). Note: Create unlinked descriptors is going to go away. Please use get/find descriptors from generated code or query the descriptor_pool.\n",
      "  _descriptor.FieldDescriptor(\n",
      "C:\\Users\\Dell\\anaconda3\\lib\\site-packages\\tensorflow\\core\\framework\\resource_handle_pb2.py:69: DeprecationWarning: Call to deprecated create function Descriptor(). Note: Create unlinked descriptors is going to go away. Please use get/find descriptors from generated code or query the descriptor_pool.\n",
      "  _RESOURCEHANDLEPROTO = _descriptor.Descriptor(\n",
      "C:\\Users\\Dell\\anaconda3\\lib\\site-packages\\tensorflow\\core\\framework\\tensor_pb2.py:21: DeprecationWarning: Call to deprecated create function FileDescriptor(). Note: Create unlinked descriptors is going to go away. Please use get/find descriptors from generated code or query the descriptor_pool.\n",
      "  DESCRIPTOR = _descriptor.FileDescriptor(\n",
      "C:\\Users\\Dell\\anaconda3\\lib\\site-packages\\tensorflow\\core\\framework\\tensor_pb2.py:40: DeprecationWarning: Call to deprecated create function FieldDescriptor(). Note: Create unlinked descriptors is going to go away. Please use get/find descriptors from generated code or query the descriptor_pool.\n",
      "  _descriptor.FieldDescriptor(\n",
      "C:\\Users\\Dell\\anaconda3\\lib\\site-packages\\tensorflow\\core\\framework\\tensor_pb2.py:47: DeprecationWarning: Call to deprecated create function FieldDescriptor(). Note: Create unlinked descriptors is going to go away. Please use get/find descriptors from generated code or query the descriptor_pool.\n",
      "  _descriptor.FieldDescriptor(\n",
      "C:\\Users\\Dell\\anaconda3\\lib\\site-packages\\tensorflow\\core\\framework\\tensor_pb2.py:54: DeprecationWarning: Call to deprecated create function FieldDescriptor(). Note: Create unlinked descriptors is going to go away. Please use get/find descriptors from generated code or query the descriptor_pool.\n",
      "  _descriptor.FieldDescriptor(\n",
      "C:\\Users\\Dell\\anaconda3\\lib\\site-packages\\tensorflow\\core\\framework\\tensor_pb2.py:61: DeprecationWarning: Call to deprecated create function FieldDescriptor(). Note: Create unlinked descriptors is going to go away. Please use get/find descriptors from generated code or query the descriptor_pool.\n",
      "  _descriptor.FieldDescriptor(\n",
      "C:\\Users\\Dell\\anaconda3\\lib\\site-packages\\tensorflow\\core\\framework\\tensor_pb2.py:68: DeprecationWarning: Call to deprecated create function FieldDescriptor(). Note: Create unlinked descriptors is going to go away. Please use get/find descriptors from generated code or query the descriptor_pool.\n",
      "  _descriptor.FieldDescriptor(\n",
      "C:\\Users\\Dell\\anaconda3\\lib\\site-packages\\tensorflow\\core\\framework\\tensor_pb2.py:75: DeprecationWarning: Call to deprecated create function FieldDescriptor(). Note: Create unlinked descriptors is going to go away. Please use get/find descriptors from generated code or query the descriptor_pool.\n",
      "  _descriptor.FieldDescriptor(\n",
      "C:\\Users\\Dell\\anaconda3\\lib\\site-packages\\tensorflow\\core\\framework\\tensor_pb2.py:82: DeprecationWarning: Call to deprecated create function FieldDescriptor(). Note: Create unlinked descriptors is going to go away. Please use get/find descriptors from generated code or query the descriptor_pool.\n",
      "  _descriptor.FieldDescriptor(\n",
      "C:\\Users\\Dell\\anaconda3\\lib\\site-packages\\tensorflow\\core\\framework\\tensor_pb2.py:89: DeprecationWarning: Call to deprecated create function FieldDescriptor(). Note: Create unlinked descriptors is going to go away. Please use get/find descriptors from generated code or query the descriptor_pool.\n",
      "  _descriptor.FieldDescriptor(\n",
      "C:\\Users\\Dell\\anaconda3\\lib\\site-packages\\tensorflow\\core\\framework\\tensor_pb2.py:96: DeprecationWarning: Call to deprecated create function FieldDescriptor(). Note: Create unlinked descriptors is going to go away. Please use get/find descriptors from generated code or query the descriptor_pool.\n",
      "  _descriptor.FieldDescriptor(\n",
      "C:\\Users\\Dell\\anaconda3\\lib\\site-packages\\tensorflow\\core\\framework\\tensor_pb2.py:103: DeprecationWarning: Call to deprecated create function FieldDescriptor(). Note: Create unlinked descriptors is going to go away. Please use get/find descriptors from generated code or query the descriptor_pool.\n",
      "  _descriptor.FieldDescriptor(\n",
      "C:\\Users\\Dell\\anaconda3\\lib\\site-packages\\tensorflow\\core\\framework\\tensor_pb2.py:110: DeprecationWarning: Call to deprecated create function FieldDescriptor(). Note: Create unlinked descriptors is going to go away. Please use get/find descriptors from generated code or query the descriptor_pool.\n",
      "  _descriptor.FieldDescriptor(\n",
      "C:\\Users\\Dell\\anaconda3\\lib\\site-packages\\tensorflow\\core\\framework\\tensor_pb2.py:117: DeprecationWarning: Call to deprecated create function FieldDescriptor(). Note: Create unlinked descriptors is going to go away. Please use get/find descriptors from generated code or query the descriptor_pool.\n",
      "  _descriptor.FieldDescriptor(\n",
      "C:\\Users\\Dell\\anaconda3\\lib\\site-packages\\tensorflow\\core\\framework\\tensor_pb2.py:124: DeprecationWarning: Call to deprecated create function FieldDescriptor(). Note: Create unlinked descriptors is going to go away. Please use get/find descriptors from generated code or query the descriptor_pool.\n",
      "  _descriptor.FieldDescriptor(\n",
      "C:\\Users\\Dell\\anaconda3\\lib\\site-packages\\tensorflow\\core\\framework\\tensor_pb2.py:131: DeprecationWarning: Call to deprecated create function FieldDescriptor(). Note: Create unlinked descriptors is going to go away. Please use get/find descriptors from generated code or query the descriptor_pool.\n",
      "  _descriptor.FieldDescriptor(\n",
      "C:\\Users\\Dell\\anaconda3\\lib\\site-packages\\tensorflow\\core\\framework\\tensor_pb2.py:138: DeprecationWarning: Call to deprecated create function FieldDescriptor(). Note: Create unlinked descriptors is going to go away. Please use get/find descriptors from generated code or query the descriptor_pool.\n",
      "  _descriptor.FieldDescriptor(\n",
      "C:\\Users\\Dell\\anaconda3\\lib\\site-packages\\tensorflow\\core\\framework\\tensor_pb2.py:145: DeprecationWarning: Call to deprecated create function FieldDescriptor(). Note: Create unlinked descriptors is going to go away. Please use get/find descriptors from generated code or query the descriptor_pool.\n",
      "  _descriptor.FieldDescriptor(\n",
      "C:\\Users\\Dell\\anaconda3\\lib\\site-packages\\tensorflow\\core\\framework\\tensor_pb2.py:152: DeprecationWarning: Call to deprecated create function FieldDescriptor(). Note: Create unlinked descriptors is going to go away. Please use get/find descriptors from generated code or query the descriptor_pool.\n",
      "  _descriptor.FieldDescriptor(\n",
      "C:\\Users\\Dell\\anaconda3\\lib\\site-packages\\tensorflow\\core\\framework\\tensor_pb2.py:33: DeprecationWarning: Call to deprecated create function Descriptor(). Note: Create unlinked descriptors is going to go away. Please use get/find descriptors from generated code or query the descriptor_pool.\n",
      "  _TENSORPROTO = _descriptor.Descriptor(\n",
      "C:\\Users\\Dell\\anaconda3\\lib\\site-packages\\tensorflow\\core\\framework\\tensor_pb2.py:183: DeprecationWarning: Call to deprecated create function FieldDescriptor(). Note: Create unlinked descriptors is going to go away. Please use get/find descriptors from generated code or query the descriptor_pool.\n",
      "  _descriptor.FieldDescriptor(\n",
      "C:\\Users\\Dell\\anaconda3\\lib\\site-packages\\tensorflow\\core\\framework\\tensor_pb2.py:190: DeprecationWarning: Call to deprecated create function FieldDescriptor(). Note: Create unlinked descriptors is going to go away. Please use get/find descriptors from generated code or query the descriptor_pool.\n",
      "  _descriptor.FieldDescriptor(\n",
      "C:\\Users\\Dell\\anaconda3\\lib\\site-packages\\tensorflow\\core\\framework\\tensor_pb2.py:197: DeprecationWarning: Call to deprecated create function FieldDescriptor(). Note: Create unlinked descriptors is going to go away. Please use get/find descriptors from generated code or query the descriptor_pool.\n",
      "  _descriptor.FieldDescriptor(\n",
      "C:\\Users\\Dell\\anaconda3\\lib\\site-packages\\tensorflow\\core\\framework\\tensor_pb2.py:176: DeprecationWarning: Call to deprecated create function Descriptor(). Note: Create unlinked descriptors is going to go away. Please use get/find descriptors from generated code or query the descriptor_pool.\n",
      "  _VARIANTTENSORDATAPROTO = _descriptor.Descriptor(\n",
      "C:\\Users\\Dell\\anaconda3\\lib\\site-packages\\tensorflow\\core\\framework\\attr_value_pb2.py:21: DeprecationWarning: Call to deprecated create function FileDescriptor(). Note: Create unlinked descriptors is going to go away. Please use get/find descriptors from generated code or query the descriptor_pool.\n",
      "  DESCRIPTOR = _descriptor.FileDescriptor(\n",
      "C:\\Users\\Dell\\anaconda3\\lib\\site-packages\\tensorflow\\core\\framework\\attr_value_pb2.py:40: DeprecationWarning: Call to deprecated create function FieldDescriptor(). Note: Create unlinked descriptors is going to go away. Please use get/find descriptors from generated code or query the descriptor_pool.\n",
      "  _descriptor.FieldDescriptor(\n",
      "C:\\Users\\Dell\\anaconda3\\lib\\site-packages\\tensorflow\\core\\framework\\attr_value_pb2.py:47: DeprecationWarning: Call to deprecated create function FieldDescriptor(). Note: Create unlinked descriptors is going to go away. Please use get/find descriptors from generated code or query the descriptor_pool.\n",
      "  _descriptor.FieldDescriptor(\n",
      "C:\\Users\\Dell\\anaconda3\\lib\\site-packages\\tensorflow\\core\\framework\\attr_value_pb2.py:54: DeprecationWarning: Call to deprecated create function FieldDescriptor(). Note: Create unlinked descriptors is going to go away. Please use get/find descriptors from generated code or query the descriptor_pool.\n",
      "  _descriptor.FieldDescriptor(\n",
      "C:\\Users\\Dell\\anaconda3\\lib\\site-packages\\tensorflow\\core\\framework\\attr_value_pb2.py:61: DeprecationWarning: Call to deprecated create function FieldDescriptor(). Note: Create unlinked descriptors is going to go away. Please use get/find descriptors from generated code or query the descriptor_pool.\n",
      "  _descriptor.FieldDescriptor(\n",
      "C:\\Users\\Dell\\anaconda3\\lib\\site-packages\\tensorflow\\core\\framework\\attr_value_pb2.py:68: DeprecationWarning: Call to deprecated create function FieldDescriptor(). Note: Create unlinked descriptors is going to go away. Please use get/find descriptors from generated code or query the descriptor_pool.\n",
      "  _descriptor.FieldDescriptor(\n",
      "C:\\Users\\Dell\\anaconda3\\lib\\site-packages\\tensorflow\\core\\framework\\attr_value_pb2.py:75: DeprecationWarning: Call to deprecated create function FieldDescriptor(). Note: Create unlinked descriptors is going to go away. Please use get/find descriptors from generated code or query the descriptor_pool.\n",
      "  _descriptor.FieldDescriptor(\n",
      "C:\\Users\\Dell\\anaconda3\\lib\\site-packages\\tensorflow\\core\\framework\\attr_value_pb2.py:82: DeprecationWarning: Call to deprecated create function FieldDescriptor(). Note: Create unlinked descriptors is going to go away. Please use get/find descriptors from generated code or query the descriptor_pool.\n",
      "  _descriptor.FieldDescriptor(\n",
      "C:\\Users\\Dell\\anaconda3\\lib\\site-packages\\tensorflow\\core\\framework\\attr_value_pb2.py:89: DeprecationWarning: Call to deprecated create function FieldDescriptor(). Note: Create unlinked descriptors is going to go away. Please use get/find descriptors from generated code or query the descriptor_pool.\n",
      "  _descriptor.FieldDescriptor(\n",
      "C:\\Users\\Dell\\anaconda3\\lib\\site-packages\\tensorflow\\core\\framework\\attr_value_pb2.py:33: DeprecationWarning: Call to deprecated create function Descriptor(). Note: Create unlinked descriptors is going to go away. Please use get/find descriptors from generated code or query the descriptor_pool.\n",
      "  _ATTRVALUE_LISTVALUE = _descriptor.Descriptor(\n"
     ]
    },
    {
     "name": "stderr",
     "output_type": "stream",
     "text": [
      "C:\\Users\\Dell\\anaconda3\\lib\\site-packages\\tensorflow\\python\\framework\\dtypes.py:513: DeprecationWarning: `np.object` is a deprecated alias for the builtin `object`. To silence this warning, use `object` by itself. Doing this will not modify any behavior and is safe. \n",
      "Deprecated in NumPy 1.20; for more details and guidance: https://numpy.org/devdocs/release/1.20.0-notes.html#deprecations\n",
      "  np.object,\n",
      "C:\\Users\\Dell\\anaconda3\\lib\\site-packages\\tensorflow\\python\\framework\\dtypes.py:521: DeprecationWarning: `np.bool` is a deprecated alias for the builtin `bool`. To silence this warning, use `bool` by itself. Doing this will not modify any behavior and is safe. If you specifically wanted the numpy scalar type, use `np.bool_` here.\n",
      "Deprecated in NumPy 1.20; for more details and guidance: https://numpy.org/devdocs/release/1.20.0-notes.html#deprecations\n",
      "  np.bool,\n",
      "C:\\Users\\Dell\\anaconda3\\lib\\site-packages\\tensorflow\\python\\framework\\dtypes.py:555: DeprecationWarning: `np.object` is a deprecated alias for the builtin `object`. To silence this warning, use `object` by itself. Doing this will not modify any behavior and is safe. \n",
      "Deprecated in NumPy 1.20; for more details and guidance: https://numpy.org/devdocs/release/1.20.0-notes.html#deprecations\n",
      "  np.object,\n",
      "C:\\Users\\Dell\\anaconda3\\lib\\site-packages\\tensorflow\\python\\framework\\dtypes.py:565: DeprecationWarning: `np.bool` is a deprecated alias for the builtin `bool`. To silence this warning, use `bool` by itself. Doing this will not modify any behavior and is safe. If you specifically wanted the numpy scalar type, use `np.bool_` here.\n",
      "Deprecated in NumPy 1.20; for more details and guidance: https://numpy.org/devdocs/release/1.20.0-notes.html#deprecations\n",
      "  np.bool,\n",
      "C:\\Users\\Dell\\anaconda3\\lib\\site-packages\\tensorflow\\python\\framework\\tensor_util.py:175: DeprecationWarning: `np.object` is a deprecated alias for the builtin `object`. To silence this warning, use `object` by itself. Doing this will not modify any behavior and is safe. \n",
      "Deprecated in NumPy 1.20; for more details and guidance: https://numpy.org/devdocs/release/1.20.0-notes.html#deprecations\n",
      "  np.object: SlowAppendObjectArrayToTensorProto,\n",
      "C:\\Users\\Dell\\anaconda3\\lib\\site-packages\\tensorflow\\python\\framework\\tensor_util.py:176: DeprecationWarning: `np.bool` is a deprecated alias for the builtin `bool`. To silence this warning, use `bool` by itself. Doing this will not modify any behavior and is safe. If you specifically wanted the numpy scalar type, use `np.bool_` here.\n",
      "Deprecated in NumPy 1.20; for more details and guidance: https://numpy.org/devdocs/release/1.20.0-notes.html#deprecations\n",
      "  np.bool: SlowAppendBoolArrayToTensorProto,\n",
      "C:\\Users\\Dell\\anaconda3\\lib\\site-packages\\tensorflow\\python\\data\\ops\\iterator_ops.py:546: DeprecationWarning: Using or importing the ABCs from 'collections' instead of from 'collections.abc' is deprecated since Python 3.3, and in 3.9 it will stop working\n",
      "  class IteratorBase(collections.Iterator, trackable.Trackable,\n",
      "C:\\Users\\Dell\\anaconda3\\lib\\site-packages\\tensorflow\\python\\data\\ops\\dataset_ops.py:106: DeprecationWarning: Using or importing the ABCs from 'collections' instead of from 'collections.abc' is deprecated since Python 3.3, and in 3.9 it will stop working\n",
      "  class DatasetV2(collections.Iterable, tracking_base.Trackable,\n"
     ]
    }
   ],
   "source": [
    "# import all necessary files\n",
    "import import_ipynb\n",
    "from src.get_data import *\n",
    "from src.topic_modeling import *\n",
    "from src.preprocessing import *\n",
    "import gensim\n",
    "from gensim import corpora, models\n",
    "import matplotlib.pyplot as plt\n",
    "import warnings\n",
    "warnings.filterwarnings(\"ignore\", category=DeprecationWarning)"
   ]
  },
  {
   "cell_type": "markdown",
   "id": "fc61d455",
   "metadata": {},
   "source": [
    "<b> Get data"
   ]
  },
  {
   "cell_type": "code",
   "execution_count": 2,
   "id": "03ab5ace",
   "metadata": {},
   "outputs": [],
   "source": [
    "# set dataset name\n",
    "df_name = \"MUSE\""
   ]
  },
  {
   "cell_type": "code",
   "execution_count": 3,
   "id": "d5abd2ab",
   "metadata": {},
   "outputs": [],
   "source": [
    "# extract dataset\n",
    "X_train, Y_train, X_test, Y_test = get_data(data_set=df_name, get_test_data=\"YES\")"
   ]
  },
  {
   "cell_type": "markdown",
   "id": "9d234572",
   "metadata": {},
   "source": [
    "<b>Pre processing "
   ]
  },
  {
   "cell_type": "code",
   "execution_count": 4,
   "id": "378c6678",
   "metadata": {},
   "outputs": [
    {
     "name": "stdout",
     "output_type": "stream",
     "text": [
      "5317\n",
      "5317\n"
     ]
    }
   ],
   "source": [
    "# preprocess the data\n",
    "processed_train_text, processed_train_label, train_vocabulary, train_raw_tokens = do_preprocessing(\n",
    "    X_train, Y_train, dataset=df_name, dataset_type='train')"
   ]
  },
  {
   "cell_type": "raw",
   "id": "bf8e5583",
   "metadata": {},
   "source": [
    "The two main inputs to the LDA topic model are the dictionary(id2word) and the corpus. Let’s create them."
   ]
  },
  {
   "cell_type": "markdown",
   "id": "9a67c127",
   "metadata": {},
   "source": [
    "<b>Dictionary of Data</b>\n",
    "\n",
    "The basic steps of this approach are following. First, take the corpus which can be collection of words, sentences or texts. Then, for each given word, return the corresponding integer representation by looking it up in the dictionary."
   ]
  },
  {
   "cell_type": "code",
   "execution_count": 5,
   "id": "16dd6953",
   "metadata": {},
   "outputs": [],
   "source": [
    "#create dictionary\n",
    "dictionary = corpora.Dictionary(processed_train_text)"
   ]
  },
  {
   "cell_type": "markdown",
   "id": "8339be12",
   "metadata": {},
   "source": [
    "<b>BOW corpus</b>\n",
    "\n",
    "creating bow model based upon the supplied dictionary."
   ]
  },
  {
   "cell_type": "code",
   "execution_count": 6,
   "id": "92ae2349",
   "metadata": {},
   "outputs": [],
   "source": [
    "bow_corpus = [dictionary.doc2bow(doc) for doc in processed_train_text]\n",
    "# bow_corpus"
   ]
  },
  {
   "cell_type": "markdown",
   "id": "e44bf956",
   "metadata": {},
   "source": [
    "<b>Creating bigrams & Trigrams</b>\n",
    "\n",
    "We can explore some word associations to see which words often show up together. Lets investigate combinations of two words or three words, i.e., Bigrams/Trigrams."
   ]
  },
  {
   "cell_type": "code",
   "execution_count": 7,
   "id": "1e053b18",
   "metadata": {},
   "outputs": [],
   "source": [
    "bigrams_text = make_bigrams(processed_train_text)\n",
    "trigrams_text = make_bigrams(processed_train_text)"
   ]
  },
  {
   "cell_type": "code",
   "execution_count": 8,
   "id": "f4b1fa4b",
   "metadata": {},
   "outputs": [],
   "source": [
    "bigrams_dictionary = corpora.Dictionary(bigrams_text)\n",
    "trigrams_dictionary = corpora.Dictionary(trigrams_text)"
   ]
  },
  {
   "cell_type": "code",
   "execution_count": 9,
   "id": "2a4228d2",
   "metadata": {},
   "outputs": [],
   "source": [
    "bigrams_corpus = [dictionary.doc2bow(doc) for doc in bigrams_text]\n",
    "trigrams_corpus = [dictionary.doc2bow(doc) for doc in trigrams_text]"
   ]
  },
  {
   "cell_type": "markdown",
   "id": "1b238b88",
   "metadata": {},
   "source": [
    "# <b>Building the Topic Model :</b>"
   ]
  },
  {
   "cell_type": "markdown",
   "id": "6ec350ca",
   "metadata": {},
   "source": [
    "# LDA"
   ]
  },
  {
   "cell_type": "raw",
   "id": "c42dcd31",
   "metadata": {},
   "source": [
    "We will do LDA with both BOW & TFIDF & evaluate which performs better"
   ]
  },
  {
   "cell_type": "markdown",
   "id": "49b539c0",
   "metadata": {},
   "source": [
    "<b>BOW Models - Unigrams"
   ]
  },
  {
   "cell_type": "code",
   "execution_count": 11,
   "id": "1b8ad293",
   "metadata": {},
   "outputs": [
    {
     "data": {
      "text/plain": [
       "[0.3846901689081334,\n",
       " 0.38816280355307603,\n",
       " 0.36017989654150556,\n",
       " 0.3439748161553739,\n",
       " 0.3714204560922049,\n",
       " 0.4057816929094664,\n",
       " 0.399226652011597,\n",
       " 0.4067524865081474,\n",
       " 0.44136138058745633,\n",
       " 0.43258107880121327,\n",
       " 0.41536903479109905,\n",
       " 0.4151806005124973]"
      ]
     },
     "execution_count": 11,
     "metadata": {},
     "output_type": "execute_result"
    }
   ],
   "source": [
    "bow_model_list, bow_coherence_values = select_lda_topics(bow_corpus, processed_train_text, dictionary, range(3, 15, 1))\n",
    "bow_coherence_values"
   ]
  },
  {
   "cell_type": "markdown",
   "id": "c467ad0a",
   "metadata": {},
   "source": [
    "<b>Find the optimal number of topics"
   ]
  },
  {
   "cell_type": "code",
   "execution_count": 12,
   "id": "b4a1ee7e",
   "metadata": {},
   "outputs": [
    {
     "data": {
      "image/png": "[encoded data removed]",
      "text/plain": [
       "<Figure size 432x288 with 1 Axes>"
      ]
     },
     "metadata": {
      "needs_background": "light"
     },
     "output_type": "display_data"
    }
   ],
   "source": [
    "# Show graph\n",
    "x = range(3, 15, 1)\n",
    "plt.plot(x, bow_coherence_values)\n",
    "plt.xlabel(\"Num Topics\")\n",
    "plt.ylabel(\"Coherence score\")\n",
    "plt.legend((\"coherence_values\"), loc='best')\n",
    "plt.show()"
   ]
  },
  {
   "cell_type": "raw",
   "id": "7ceda67d",
   "metadata": {},
   "source": [
    "Coherence values for 11 topics is the highest. but we need to still evaluate it by checking if the topics are overlapping."
   ]
  },
  {
   "cell_type": "markdown",
   "id": "e4e7fcfe",
   "metadata": {},
   "source": [
    "<b>Compute Model Perplexity and Coherence Score"
   ]
  },
  {
   "cell_type": "code",
   "execution_count": 13,
   "id": "3618f7a6",
   "metadata": {},
   "outputs": [
    {
     "name": "stdout",
     "output_type": "stream",
     "text": [
      "\n",
      "Perplexity:  -8.621706031212916\n",
      "\n",
      "Coherence Score:  0.44136138058745633\n"
     ]
    }
   ],
   "source": [
    "bow_vis, bow_lda_model = lda_modelling(bow_corpus, processed_train_text, dictionary, noof_topics=11)"
   ]
  },
  {
   "cell_type": "code",
   "execution_count": 14,
   "id": "c75bebf3",
   "metadata": {},
   "outputs": [
    {
     "data": {
      "text/html": [
       "\n",
       "<link rel=\"stylesheet\" type=\"text/css\" href=\"https://cdn.rawgit.com/bmabey/pyLDAvis/files/ldavis.v1.0.0.css\">\n",
       "\n",
       "\n",
       "<div id=\"ldavis_el1627223407459366722189446247\"></div>\n",
       "<script type=\"text/javascript\">\n",
       "\n",
       "var ldavis_el1627223407459366722189446247_data = {\"mdsDat\": {\"x\": [-0.13660175921186096, -0.30444789101677244, -0.1985238109282215, 0.08678119542224647, -0.035430699961891576, 0.0754579169577509, 0.10252760349846812, 0.10497173847241532, 0.10407327027416274, 0.10189921646758746, 0.09929322002611526], \"y\": [0.3155422322289062, -0.22592835371103975, 0.1302430817246553, -0.0026860391055165693, -0.16571100731907742, 0.0065183564851467824, -0.011416499211359324, -0.012561569479637814, -0.012317910279989, -0.01130812259395881, -0.010374168738129734], \"topics\": [1, 2, 3, 4, 5, 6, 7, 8, 9, 10, 11], \"cluster\": [1, 1, 1, 1, 1, 1, 1, 1, 1, 1, 1], \"Freq\": [20.37298116256095, 15.592713948859451, 13.976157845775262, 9.814106679088534, 8.996738222819706, 8.943644221017129, 6.132653942011431, 5.995154107227729, 4.551945173740918, 3.4221719273881326, 2.201732769510757]}, \"tinfo\": {\"Term\": [\"bmw\", \"sport\", \"wheel\", \"audi\", \"seat\", \"power\", \"comfort\", \"engine\", \"inch\", \"vehicle\", \"price\", \"system\", \"suspension\", \"performance\", \"class\", \"air\", \"speed\", \"package\", \"tire\", \"transmission\", \"control\", \"mercedes\", \"model\", \"video\", \"luxury\", \"brand\", \"guy\", \"okay\", \"door\", \"technology\", \"system\", \"door\", \"thing\", \"design\", \"everything\", \"use\", \"feel\", \"space\", \"corner\", \"screen\", \"coupe\", \"size\", \"jaguar\", \"line\", \"news\", \"phone\", \"quality\", \"anything\", \"city\", \"hand\", \"fan\", \"yes\", \"functionality\", \"someone\", \"cut\", \"cup\", \"assistance\", \"nothing\", \"material\", \"premium\", \"point\", \"control\", \"world\", \"power\", \"engine\", \"performance\", \"torque\", \"turbo\", \"mile\", \"second\", \"fuel\", \"cylinder\", \"clutch\", \"adult\", \"hour\", \"horsepower\", \"highway\", \"diesel\", \"fit\", \"sound\", \"summer\", \"traction\", \"utility\", \"drive\", \"segment\", \"chassis\", \"shifter\", \"amount\", \"liter\", \"scroll\", \"one\", \"detail\", \"number\", \"wheel\", \"talk\", \"foot\", \"speed\", \"sport\", \"seat\", \"vehicle\", \"guy\", \"setting\", \"camera\", \"push\", \"style\", \"mind\", \"base\", \"display\", \"headlight\", \"track\", \"head\", \"lane\", \"buy\", \"shift\", \"view\", \"sea\", \"position\", \"sense\", \"leg\", \"knee\", \"cruise\", \"mode\", \"row\", \"goody\", \"massage\", \"cockpit\", \"force\", \"button\", \"wheel\", \"audi\", \"class\", \"mercedes\", \"video\", \"coop\", \"com\", \"ride\", \"tfl\", \"forget\", \"passenger\", \"challenge\", \"dart\", \"headroom\", \"spot\", \"disclosure\", \"enjoy\", \"speaker\", \"eye\", \"machine\", \"water\", \"gift\", \"watch\", \"panel\", \"america\", \"friend\", \"degree\", \"share\", \"porsche\", \"nathan\", \"lady\", \"transmission\", \"brand\", \"level\", \"family\", \"change\", \"journalist\", \"term\", \"gallon\", \"supercar\", \"comment\", \"fast\", \"acceleration\", \"experience\", \"hell\", \"state\", \"none\", \"gearbox\", \"figure\", \"noise\", \"bottom\", \"accelerate\", \"baby\", \"day\", \"mpg\", \"moment\", \"deal\", \"mean\", \"paddle\", \"trip\", \"everybody\", \"speed\", \"gear\", \"foot\", \"bmw\", \"package\", \"luxury\", \"technology\", \"feature\", \"siri\", \"year\", \"version\", \"generation\", \"start\", \"option\", \"hood\", \"money\", \"crossover\", \"cool\", \"call\", \"example\", \"exhaust\", \"amg\", \"business\", \"rpm\", \"wait\", \"half\", \"german\", \"field\", \"lexus\", \"name\", \"pop\", \"form\", \"sheet\", \"comfort\", \"suspension\", \"air\", \"sedan\", \"brake\", \"country\", \"navigation\", \"standard\", \"week\", \"departure\", \"auto\", \"product\", \"apple\", \"series\", \"information\", \"competition\", \"top\", \"carplay\", \"tech\", \"street\", \"steer\", \"doubt\", \"cross\", \"equipment\", \"collision\", \"sign\", \"pad\", \"magic\", \"length\", \"cover\", \"model\", \"okay\", \"light\", \"center\", \"suv\", \"way\", \"rest\", \"wagon\", \"answer\", \"color\", \"issue\", \"place\", \"touch\", \"lease\", \"gene\", \"profile\", \"manufacturer\", \"map\", \"sort\", \"entry\", \"pull\", \"scale\", \"keep\", \"train\", \"night\", \"ask\", \"bag\", \"battery\", \"improvement\", \"type\", \"tire\", \"question\", \"rear\", \"trunk\", \"ground\", \"problem\", \"tyre\", \"hatchback\", \"shut\", \"floor\", \"area\", \"gas\", \"boot\", \"tailgate\", \"stay\", \"play\", \"matter\", \"market\", \"distribution\", \"volkswagen\", \"infotainment\", \"home\", \"output\", \"dial\", \"capacity\", \"golf\", \"wind\", \"process\", \"boat\", \"suit\", \"inch\", \"face\", \"interior\", \"life\", \"break\", \"roman\", \"roof\", \"end\", \"look\", \"maur\", \"review\", \"treat\", \"aluminum\", \"downside\", \"safety\", \"pay\", \"grill\", \"step\", \"hit\", \"google\", \"time\", \"dollar\", \"yesterday\", \"caliper\", \"month\", \"moon\", \"beautiful\", \"skin\", \"spend\", \"spending\", \"price\", \"cost\", \"word\", \"offer\", \"help\", \"buyer\", \"destination\", \"house\", \"carbon\", \"competitor\", \"canyon\", \"prestige\", \"purchase\", \"mass\", \"cadillac\", \"compete\", \"pleasure\", \"ideal\", \"fire\", \"afford\", \"roadster\", \"preference\", \"alternative\", \"lincoln\", \"count\", \"fee\", \"speak\", \"motorway\", \"tag\", \"blast\"], \"Freq\": [907.0, 749.0, 1014.0, 607.0, 713.0, 592.0, 335.0, 485.0, 256.0, 374.0, 188.0, 459.0, 250.0, 372.0, 291.0, 238.0, 328.0, 262.0, 193.0, 237.0, 424.0, 242.0, 197.0, 220.0, 208.0, 198.0, 242.0, 160.0, 285.0, 183.0, 459.1360963720179, 284.8379803364579, 261.6985508573882, 245.23142352790936, 213.47782077978266, 189.73380511090653, 181.8817141940988, 172.404966618398, 177.07058841843156, 160.99795445012742, 147.20930867336824, 136.98197508376808, 114.91087865714555, 113.05941724007043, 112.57929819589785, 109.39061612581513, 102.53545608333215, 97.31095797552571, 96.95177086112062, 121.34749668818341, 87.80469823412461, 86.07820899352146, 83.69854041411185, 82.40256700700519, 81.40920807806235, 80.12215076084212, 78.56604056024167, 71.52928979315111, 68.74473339968168, 68.64331861621038, 209.03224550708003, 400.4293650919382, 162.1878621988632, 591.6616159996717, 484.62063758792846, 371.5218794200084, 215.03567791242688, 208.29799606622876, 198.85376360082057, 179.55949669280648, 154.59086128330026, 107.80720355406488, 101.87380264504353, 95.67283752148386, 90.3745291460672, 82.18593410329775, 79.41697619723382, 77.86294339255363, 73.02384160838902, 69.56781320773264, 64.05085443720367, 65.40974499705602, 60.305714441210114, 60.23915369641361, 53.40772387690614, 51.68865612659653, 51.68368392440631, 51.22244277126865, 47.99241940825754, 43.64070237037206, 43.30168602909465, 43.22488219639393, 42.677880218765544, 900.8860678797938, 69.5388233363056, 224.0506494452862, 67.75514155498985, 748.3957269404575, 712.8348827328846, 373.3672199776064, 242.06295885625843, 166.01261605858505, 150.5307754415646, 128.95227464511962, 124.6836424359677, 112.99931357965816, 109.98668760415586, 98.47568244271001, 94.8038342978027, 93.21440278729209, 89.29214710038147, 87.72066213563377, 79.53348449420595, 79.51489542556911, 79.2541697221198, 74.09912051519112, 72.85358362484017, 67.03900358555723, 64.72723778138794, 57.55668880760886, 56.536425476251736, 55.66175026903379, 47.646941987024555, 46.835259218426884, 44.06112576516287, 43.33699933662545, 37.702902082855374, 149.66488138029032, 73.75932670278563, 606.527548452302, 291.0223804516094, 241.8302059303349, 219.19710451314563, 153.63361266425332, 151.3797207214038, 137.59923082615313, 134.83731702525748, 102.44380861479225, 87.73598088365178, 87.5035249438691, 83.986447819949, 75.9797048558724, 64.83896465463434, 63.308777162763754, 61.77725381890249, 54.15272818814682, 50.704951703756635, 49.4222860850471, 48.947607446556475, 45.38287313936613, 45.08097501282275, 41.370256853816144, 41.138296329341266, 37.16036353868845, 36.07398411894102, 35.64241988228214, 34.049095690447935, 36.01404329004783, 30.966254507168102, 236.64936188178052, 197.67634315208517, 138.18797643772825, 117.80342498205376, 115.86063264009653, 99.39764140173098, 89.4510795401667, 80.7328842623715, 75.78850297389128, 64.24948445101514, 63.77151510387681, 63.52241535275438, 61.554279561325146, 60.94937399942332, 58.14331888921872, 53.926493293229115, 51.6831722450049, 50.828907415058055, 47.14349948740527, 47.06603368601114, 45.721581938804505, 44.21553630281241, 42.13777488634704, 41.466108596108064, 40.241440128485955, 37.738148003053794, 37.12801560813286, 35.17163106735481, 34.893761432391756, 34.3740625750908, 259.73259737588853, 52.85247439917247, 82.39839088244149, 906.5550515691708, 261.4061156912598, 207.4708030967551, 182.11538618816567, 169.3782927217602, 143.2437115611407, 143.0798585899028, 130.29059564028142, 115.61678972216389, 114.08746845046525, 90.2717728496351, 86.04499664349558, 85.34203482622941, 75.05912413292337, 67.81424133789282, 58.10791589962901, 55.353954102591864, 42.68553715338234, 33.11398086458214, 32.406212053904206, 29.107790229493617, 26.880229482484264, 25.73608644556179, 25.45049460259907, 20.684750636191797, 20.489362981968405, 19.55733029291182, 19.06912115825486, 17.51131265599782, 17.471661510761113, 334.19067051895104, 249.31016266612045, 237.5966740316153, 125.5918358114055, 110.36597671877406, 95.38369855658222, 76.25190962132412, 67.43791966717177, 52.63146401627381, 49.99407106545966, 46.61604547982084, 45.00554057551393, 43.7801480568941, 43.63069477618886, 40.48773125634873, 39.82052338476901, 31.42750962834647, 30.92501823362613, 25.057640537959035, 24.821669093034174, 24.205668387689798, 23.454394082239734, 23.2206781186734, 22.88629056895567, 22.69606448736855, 22.432846219537236, 19.757010579097628, 18.221453440766727, 17.67427117552516, 16.85106608682315, 196.55755796360103, 159.6943799426077, 141.8649154754099, 95.12572331494631, 89.8486246568338, 69.92215438348356, 66.75796607595016, 65.91952151116537, 63.8785031600792, 60.66156991418219, 58.489159382108866, 55.46802550730326, 53.03669461232635, 48.495906647058675, 46.66836478728802, 41.23448504240637, 40.74968285970225, 40.73089247541021, 40.19922241586608, 38.961334920575254, 38.930512097219015, 35.13679187395732, 29.37014344826851, 27.503005055363616, 27.193985107306343, 25.115710239306367, 23.849923589886217, 22.11859800907312, 21.94470454040558, 20.73909359679269, 192.92079702508954, 122.81941816735934, 87.29118466579455, 77.42551852790423, 74.74452270039811, 66.56453190943539, 63.45054096007506, 58.897151538591125, 56.3258354988809, 52.771672848958744, 48.99616054873168, 47.223853351458615, 39.57799040699676, 30.80993048669122, 29.21854570031942, 29.013799838316654, 27.697367467228126, 26.498195632455996, 23.569316509011514, 21.561154683885526, 21.06722224334233, 20.45221119530637, 19.442958140112744, 18.174695835198175, 17.139663105976318, 16.35775249308445, 15.59485324857288, 15.446803999659151, 14.517257539971789, 13.652518786546883, 255.96633263664117, 79.12387632635398, 66.30208407287695, 62.05893178457722, 61.47608855167861, 61.643885261764915, 55.707576127401076, 55.011531657724014, 48.774941250489796, 46.81485332151638, 45.99188316818853, 39.593196832576275, 29.90138360886357, 29.494986973448444, 25.315647656153704, 22.837396304929545, 21.73611047188809, 21.119500595819193, 17.27965393467069, 15.062345994658994, 12.812794550529205, 12.081771096117272, 10.648154830918308, 10.172745729060273, 9.905010274489488, 9.904349347822283, 9.139485214113979, 8.831720894041853, 8.762160868749795, 7.921219988234979, 187.1456143474243, 80.69402272003661, 67.99278967424924, 45.01280276034635, 35.185874157280836, 26.036993065244772, 23.106954231327787, 20.926023165628134, 20.9090023644427, 16.99108027851439, 19.51732362684584, 12.849073470263003, 12.670159564705303, 11.327962415815849, 10.531084864047653, 9.955786348793698, 9.296969604215548, 8.434357742085622, 6.220101055128396, 5.597933810863941, 5.493656594832766, 5.584134180425235, 5.253516628667618, 4.903297171253755, 4.716706935963668, 4.679176724301322, 4.225644615848837, 4.221863759242231, 4.1080537731907905, 3.6745547468238335], \"Total\": [907.0, 749.0, 1014.0, 607.0, 713.0, 592.0, 335.0, 485.0, 256.0, 374.0, 188.0, 459.0, 250.0, 372.0, 291.0, 238.0, 328.0, 262.0, 193.0, 237.0, 424.0, 242.0, 197.0, 220.0, 208.0, 198.0, 242.0, 160.0, 285.0, 183.0, 459.99232995579507, 285.6942149185314, 262.5573509155045, 246.0876754264505, 214.33408939308043, 190.5900497689415, 182.73795912896318, 173.2612087617162, 177.9549570281877, 161.85417685169747, 148.0656087691703, 137.8454217405667, 115.76900901980275, 113.91574459163516, 113.4356111897552, 110.24684821339183, 103.39168470545675, 98.16724508055519, 97.80809454964376, 122.46923606090152, 88.66110709586366, 86.9344715995283, 84.55490119827266, 83.25888954865547, 82.26553540967754, 80.97861466079846, 79.42246064755504, 72.38553881360144, 69.60097073819223, 69.49957832831586, 212.30138579080642, 424.8796438717816, 171.35415995129028, 592.5470159186877, 485.5059987332359, 372.4073463487606, 215.92110979730714, 209.18336760297245, 199.73912422806873, 180.4448644570223, 155.47624014347141, 108.6925606871647, 102.75918532706342, 96.55855845848151, 91.25988568709055, 83.07129856122276, 80.30238989124842, 78.74831108382809, 73.90928440918142, 70.45318642492337, 64.93647826840306, 66.32508566013041, 61.1914535342575, 61.12457392870312, 54.29322361600418, 52.574066515369054, 52.569056563939675, 52.10787974752354, 48.877767852542036, 44.52648706860439, 44.187141649107815, 44.11026495329486, 43.563277909646466, 1014.5188914509741, 74.31939640869724, 307.2386154937787, 328.2772976205803, 749.27751742835, 713.7166316106625, 374.2490233859758, 242.94475015652046, 166.89443804384746, 151.41252864696267, 129.83408431424033, 125.5654767279946, 113.88112868187555, 110.8685038976963, 99.35742986932911, 95.685589390829, 94.09617511106536, 90.17388929229593, 88.60246936100536, 80.4153067924021, 80.39666846094255, 80.1359228410686, 74.98095063195322, 73.73532615102451, 67.9207752106283, 65.60899061668748, 58.4385553352541, 57.418169839315674, 56.54351375026303, 48.52870877843342, 47.72127711932761, 44.94308189952051, 44.21876368702026, 38.58472959839454, 158.43616752873513, 1014.5188914509741, 607.404949862015, 291.8997649596113, 242.70759565881485, 220.07447427826472, 154.51111860957604, 152.2572020210885, 138.47667526980692, 135.7163627721051, 103.32144653059254, 88.61335976508448, 88.3826356988745, 84.87862101877677, 76.85711661328133, 65.71634427978336, 64.20447223308875, 62.65469294180619, 55.030162856063576, 51.582328934311754, 50.2997681135243, 49.825088813593794, 46.261375725193034, 45.9583405869936, 42.247663382282795, 42.01593611962986, 38.037849340396136, 36.951415513169096, 36.519810991626215, 34.92648928734432, 36.953048745742834, 31.843664192195465, 237.52454822664117, 198.55160741877037, 139.06316234815702, 118.67868124681812, 116.73585341087811, 100.27310973465394, 90.32627406444098, 81.60807043577937, 76.66370189534523, 65.12491798540259, 64.64670563209017, 64.39758946128903, 62.429463668162775, 61.824664422736824, 59.018555438536936, 54.802198987444896, 52.55831337017749, 51.70410382172285, 48.01866089192308, 47.94120875738004, 46.59721780970018, 45.090733090864084, 43.01293236224808, 42.34128472706484, 41.11661072517444, 38.61330091874383, 38.0032155570991, 36.04678859047525, 35.76893028372901, 35.24932200539421, 328.2772976205803, 88.38337227747357, 307.2386154937787, 907.4446947766332, 262.2957500899496, 208.36038754652148, 183.00498790036343, 170.2678605161962, 144.13329739428153, 143.9694253374599, 131.180164480445, 116.50636425739725, 114.97703346478649, 91.16131778345492, 86.93463366112157, 86.23158773625562, 75.94876519116947, 68.7038289259084, 58.997482801146354, 56.24364770444663, 43.57512882847099, 34.00354184706209, 33.29578451748206, 29.99737316855624, 27.769777789049304, 26.625691267940155, 26.340143994288596, 21.574283551948582, 21.38219966046777, 20.44688585381299, 19.95868483978887, 18.400938048438842, 18.361226178895034, 335.0702281150228, 250.1896676027606, 238.47620745004008, 126.47146497450196, 111.24549906793536, 96.26372350887704, 77.13143457855303, 68.31742466135728, 53.51150463633382, 50.873622291309644, 47.49555266534308, 45.885150647333354, 44.65964233258433, 44.51029911472419, 41.367238628897994, 40.70008844630941, 32.30704176875135, 31.804511976524637, 25.937286882303184, 25.701196198644624, 25.08522649947334, 24.333992426000385, 24.10023723532686, 23.765811852202063, 23.57557769366623, 23.31240222477439, 20.636555714943782, 19.101197929569143, 18.55381012887381, 17.730592425354608, 197.43656024026464, 160.5734487306072, 142.74393387712905, 96.00471357093961, 90.72762201842542, 70.80120463621118, 67.63695517384265, 66.79869369333468, 64.75761284700968, 61.54055352446683, 59.36816680592509, 56.347246786450036, 53.91569973461262, 49.37524159133201, 47.54886915648248, 42.11426799203851, 41.62877310049433, 41.609946045674654, 41.07819668706994, 39.84033988802779, 39.809522360179905, 36.02097908194554, 30.24915728186618, 28.38203248045335, 28.07296799853246, 25.994759099940232, 24.728946309449178, 22.99758402404711, 22.823727517254785, 21.618100685186644, 193.79705131270518, 123.69570269946936, 88.16742481238514, 78.30176433479845, 75.62086143783394, 67.44074165907955, 64.34601217527278, 59.7734321548686, 57.20252962917459, 53.647883529015886, 49.87237209498486, 48.10014508932071, 40.454184442047485, 31.68619018717893, 30.094826923356052, 29.890069522151617, 28.573598780487785, 27.37444058408464, 24.445625109593497, 22.43745372550248, 21.943519918545867, 21.328510975682413, 20.31929342232744, 19.05094127141693, 18.015894087732605, 17.234050253932477, 16.47111346970609, 16.323138375780992, 15.393564563667649, 14.528743938573479, 256.8665206798447, 80.02407789599725, 67.20226120995675, 62.95923193516621, 62.37628250682418, 62.57550565068096, 56.607739989631035, 55.91169955512639, 49.67510309606817, 47.71513241039701, 46.892210962909935, 40.49380862028701, 30.801584515487175, 30.42891567298894, 26.215823446619126, 23.737551541591287, 22.636298291363552, 22.01965464344027, 18.17984642772734, 15.962628515463798, 13.71296097217178, 12.98196269091883, 11.548374218186597, 11.072912956461753, 10.805155637226733, 10.804530246011707, 10.041588596452355, 9.731910390560982, 9.662351701764528, 8.821432522795984, 188.05500753816844, 81.60341663267238, 68.90224204222662, 45.92224795389168, 36.095278260330026, 26.94643801979062, 24.016365565216926, 21.835417019827474, 21.818376837301937, 17.90097150874732, 20.59302765160048, 13.758667423473625, 13.581398781326353, 12.237370245050363, 11.450168110469857, 10.865944205891719, 10.206415133995373, 9.343846583944945, 7.129531731539457, 6.507314838604639, 6.403085579482373, 6.5128515265155364, 6.169135277589163, 5.817026100470351, 5.626100289874407, 5.6446041870465855, 5.135092734223294, 5.131219899519111, 5.017747890196995, 4.584182004077547], \"Category\": [\"Default\", \"Default\", \"Default\", \"Default\", \"Default\", \"Default\", \"Default\", \"Default\", \"Default\", \"Default\", \"Default\", \"Default\", \"Default\", \"Default\", \"Default\", \"Default\", \"Default\", \"Default\", \"Default\", \"Default\", \"Default\", \"Default\", \"Default\", \"Default\", \"Default\", \"Default\", \"Default\", \"Default\", \"Default\", \"Default\", \"Topic1\", \"Topic1\", \"Topic1\", \"Topic1\", \"Topic1\", \"Topic1\", \"Topic1\", \"Topic1\", \"Topic1\", \"Topic1\", \"Topic1\", \"Topic1\", \"Topic1\", \"Topic1\", \"Topic1\", \"Topic1\", \"Topic1\", \"Topic1\", \"Topic1\", \"Topic1\", \"Topic1\", \"Topic1\", \"Topic1\", \"Topic1\", \"Topic1\", \"Topic1\", \"Topic1\", \"Topic1\", \"Topic1\", \"Topic1\", \"Topic1\", \"Topic1\", \"Topic1\", \"Topic2\", \"Topic2\", \"Topic2\", \"Topic2\", \"Topic2\", \"Topic2\", \"Topic2\", \"Topic2\", \"Topic2\", \"Topic2\", \"Topic2\", \"Topic2\", \"Topic2\", \"Topic2\", \"Topic2\", \"Topic2\", \"Topic2\", \"Topic2\", \"Topic2\", \"Topic2\", \"Topic2\", \"Topic2\", \"Topic2\", \"Topic2\", \"Topic2\", \"Topic2\", \"Topic2\", \"Topic2\", \"Topic2\", \"Topic2\", \"Topic2\", \"Topic2\", \"Topic2\", \"Topic2\", \"Topic3\", \"Topic3\", \"Topic3\", \"Topic3\", \"Topic3\", \"Topic3\", \"Topic3\", \"Topic3\", \"Topic3\", \"Topic3\", \"Topic3\", \"Topic3\", \"Topic3\", \"Topic3\", \"Topic3\", \"Topic3\", \"Topic3\", \"Topic3\", \"Topic3\", \"Topic3\", \"Topic3\", \"Topic3\", \"Topic3\", \"Topic3\", \"Topic3\", \"Topic3\", \"Topic3\", \"Topic3\", \"Topic3\", \"Topic3\", \"Topic3\", \"Topic3\", \"Topic4\", \"Topic4\", \"Topic4\", \"Topic4\", \"Topic4\", \"Topic4\", \"Topic4\", \"Topic4\", \"Topic4\", \"Topic4\", \"Topic4\", \"Topic4\", \"Topic4\", \"Topic4\", \"Topic4\", \"Topic4\", \"Topic4\", \"Topic4\", \"Topic4\", \"Topic4\", \"Topic4\", \"Topic4\", \"Topic4\", \"Topic4\", \"Topic4\", \"Topic4\", \"Topic4\", \"Topic4\", \"Topic4\", \"Topic4\", \"Topic5\", \"Topic5\", \"Topic5\", \"Topic5\", \"Topic5\", \"Topic5\", \"Topic5\", \"Topic5\", \"Topic5\", \"Topic5\", \"Topic5\", \"Topic5\", \"Topic5\", \"Topic5\", \"Topic5\", \"Topic5\", \"Topic5\", \"Topic5\", \"Topic5\", \"Topic5\", \"Topic5\", \"Topic5\", \"Topic5\", \"Topic5\", \"Topic5\", \"Topic5\", \"Topic5\", \"Topic5\", \"Topic5\", \"Topic5\", \"Topic5\", \"Topic5\", \"Topic5\", \"Topic6\", \"Topic6\", \"Topic6\", \"Topic6\", \"Topic6\", \"Topic6\", \"Topic6\", \"Topic6\", \"Topic6\", \"Topic6\", \"Topic6\", \"Topic6\", \"Topic6\", \"Topic6\", \"Topic6\", \"Topic6\", \"Topic6\", \"Topic6\", \"Topic6\", \"Topic6\", \"Topic6\", \"Topic6\", \"Topic6\", \"Topic6\", \"Topic6\", \"Topic6\", \"Topic6\", \"Topic6\", \"Topic6\", \"Topic6\", \"Topic7\", \"Topic7\", \"Topic7\", \"Topic7\", \"Topic7\", \"Topic7\", \"Topic7\", \"Topic7\", \"Topic7\", \"Topic7\", \"Topic7\", \"Topic7\", \"Topic7\", \"Topic7\", \"Topic7\", \"Topic7\", \"Topic7\", \"Topic7\", \"Topic7\", \"Topic7\", \"Topic7\", \"Topic7\", \"Topic7\", \"Topic7\", \"Topic7\", \"Topic7\", \"Topic7\", \"Topic7\", \"Topic7\", \"Topic7\", \"Topic8\", \"Topic8\", \"Topic8\", \"Topic8\", \"Topic8\", \"Topic8\", \"Topic8\", \"Topic8\", \"Topic8\", \"Topic8\", \"Topic8\", \"Topic8\", \"Topic8\", \"Topic8\", \"Topic8\", \"Topic8\", \"Topic8\", \"Topic8\", \"Topic8\", \"Topic8\", \"Topic8\", \"Topic8\", \"Topic8\", \"Topic8\", \"Topic8\", \"Topic8\", \"Topic8\", \"Topic8\", \"Topic8\", \"Topic8\", \"Topic9\", \"Topic9\", \"Topic9\", \"Topic9\", \"Topic9\", \"Topic9\", \"Topic9\", \"Topic9\", \"Topic9\", \"Topic9\", \"Topic9\", \"Topic9\", \"Topic9\", \"Topic9\", \"Topic9\", \"Topic9\", \"Topic9\", \"Topic9\", \"Topic9\", \"Topic9\", \"Topic9\", \"Topic9\", \"Topic9\", \"Topic9\", \"Topic9\", \"Topic9\", \"Topic9\", \"Topic9\", \"Topic9\", \"Topic9\", \"Topic10\", \"Topic10\", \"Topic10\", \"Topic10\", \"Topic10\", \"Topic10\", \"Topic10\", \"Topic10\", \"Topic10\", \"Topic10\", \"Topic10\", \"Topic10\", \"Topic10\", \"Topic10\", \"Topic10\", \"Topic10\", \"Topic10\", \"Topic10\", \"Topic10\", \"Topic10\", \"Topic10\", \"Topic10\", \"Topic10\", \"Topic10\", \"Topic10\", \"Topic10\", \"Topic10\", \"Topic10\", \"Topic10\", \"Topic10\", \"Topic11\", \"Topic11\", \"Topic11\", \"Topic11\", \"Topic11\", \"Topic11\", \"Topic11\", \"Topic11\", \"Topic11\", \"Topic11\", \"Topic11\", \"Topic11\", \"Topic11\", \"Topic11\", \"Topic11\", \"Topic11\", \"Topic11\", \"Topic11\", \"Topic11\", \"Topic11\", \"Topic11\", \"Topic11\", \"Topic11\", \"Topic11\", \"Topic11\", \"Topic11\", \"Topic11\", \"Topic11\", \"Topic11\", \"Topic11\"], \"logprob\": [30.0, 29.0, 28.0, 27.0, 26.0, 25.0, 24.0, 23.0, 22.0, 21.0, 20.0, 19.0, 18.0, 17.0, 16.0, 15.0, 14.0, 13.0, 12.0, 11.0, 10.0, 9.0, 8.0, 7.0, 6.0, 5.0, 4.0, 3.0, 2.0, 1.0, -3.066800117492676, -3.544300079345703, -3.628999948501587, -3.694000005722046, -3.83270001411438, -3.9505999088287354, -3.992799997329712, -4.046299934387207, -4.019599914550781, -4.114799976348877, -4.2042999267578125, -4.276299953460693, -4.452000141143799, -4.468299865722656, -4.472499847412109, -4.501299858093262, -4.565999984741211, -4.618299961090088, -4.622000217437744, -4.397500038146973, -4.721099853515625, -4.740900039672852, -4.769000053405762, -4.784599781036377, -4.7967000007629395, -4.812600135803223, -4.832300186157227, -4.92609977722168, -4.965799808502197, -4.967299938201904, -3.8536999225616455, -3.203700065612793, -4.107399940490723, -2.5459001064300537, -2.7453999519348145, -3.011199951171875, -3.558000087738037, -3.5897998809814453, -3.636199951171875, -3.738300085067749, -3.888000011444092, -4.2484002113342285, -4.305099964141846, -4.3678998947143555, -4.424799919128418, -4.519800186157227, -4.554100036621094, -4.573800086975098, -4.638000011444092, -4.686500072479248, -4.769100189208984, -4.7480998039245605, -4.829400062561035, -4.83050012588501, -4.950799942016602, -4.983500003814697, -4.98360013961792, -4.992599964141846, -5.057700157165527, -5.1528000831604, -5.160600185394287, -5.162399768829346, -5.175099849700928, -2.1254000663757324, -4.6869001388549805, -3.516900062561035, -4.712900161743164, -2.2014000415802, -2.2500998973846436, -2.8968000411987305, -3.3301000595092773, -3.7072999477386475, -3.8052000999450684, -3.95989990234375, -3.9935998916625977, -4.0920000076293945, -4.11899995803833, -4.229499816894531, -4.267499923706055, -4.28439998626709, -4.327400207519531, -4.345200061798096, -4.44320011138916, -4.443399906158447, -4.446700096130371, -4.513899803161621, -4.530900001525879, -4.614099979400635, -4.649199962615967, -4.766600131988525, -4.78439998626709, -4.800000190734863, -4.95550012588501, -4.972700119018555, -5.03380012512207, -5.050300121307373, -5.189599990844727, -3.8108999729156494, -4.518499851226807, -2.0580999851226807, -2.7923998832702637, -2.97760009765625, -3.0757999420166016, -3.4312000274658203, -3.446000099182129, -3.5415000915527344, -3.5617001056671143, -3.8364999294281006, -3.991499900817871, -3.9941000938415527, -4.035099983215332, -4.135300159454346, -4.293900012969971, -4.317800045013428, -4.342299938201904, -4.473999977111816, -4.53980016708374, -4.565400123596191, -4.575099945068359, -4.650700092315674, -4.657299995422363, -4.743199825286865, -4.748899936676025, -4.850599765777588, -4.880199909210205, -4.892300128936768, -4.938000202178955, -4.881899833679199, -5.032899856567383, -2.9123001098632812, -3.0922000408172607, -3.450200080871582, -3.609800100326538, -3.626499891281128, -3.7797000408172607, -3.885200023651123, -3.9876999855041504, -4.050899982452393, -4.216100215911865, -4.223499774932861, -4.227499961853027, -4.258900165557861, -4.268799781799316, -4.315899848937988, -4.391200065612793, -4.433700084686279, -4.450399875640869, -4.525599956512451, -4.527299880981445, -4.556300163269043, -4.589799880981445, -4.637899875640869, -4.6539998054504395, -4.683899879455566, -4.748199939727783, -4.764500141143799, -4.818600177764893, -4.826499938964844, -4.8414998054504395, -2.819200038909912, -4.411300182342529, -3.9672999382019043, -1.5633000135421753, -2.80679988861084, -3.037899971008301, -3.168299913406372, -3.240799903869629, -3.408400058746338, -3.4094998836517334, -3.503200054168701, -3.6226000785827637, -3.635999917984009, -3.8701000213623047, -3.918100118637085, -3.926300048828125, -4.054599761962891, -4.156199932098389, -4.3105998039245605, -4.3592000007629395, -4.619100093841553, -4.873000144958496, -4.894599914550781, -5.0019001960754395, -5.081500053405762, -5.125, -5.136199951171875, -5.343500137329102, -5.353000164031982, -5.399600028991699, -5.424900054931641, -5.5100998878479, -5.51230001449585, -2.1839001178741455, -2.476900100708008, -2.5250000953674316, -3.162600040435791, -3.291800022125244, -3.437700033187866, -3.661600112915039, -3.78439998626709, -4.032299995422363, -4.083700180053711, -4.15369987487793, -4.188799858093262, -4.216400146484375, -4.219799995422363, -4.294600009918213, -4.311200141906738, -4.547900199890137, -4.564000129699707, -4.774400234222412, -4.783899784088135, -4.809000015258789, -4.84060001373291, -4.850599765777588, -4.865099906921387, -4.8734002113342285, -4.8850998878479, -5.0121002197265625, -5.0929999351501465, -5.123499870300293, -5.171199798583984, -2.691999912261963, -2.8996999263763428, -3.0181000232696533, -3.4177000522613525, -3.4748001098632812, -3.725600004196167, -3.771899938583374, -3.7844998836517334, -3.815999984741211, -3.8675999641418457, -3.904099941253662, -3.9570999145507812, -4.0019001960754395, -4.0914998054504395, -4.129899978637695, -4.253699779510498, -4.265500068664551, -4.265900135040283, -4.279099941253662, -4.310400009155273, -4.311200141906738, -4.413700103759766, -4.5929999351501465, -4.658599853515625, -4.669899940490723, -4.7494001388549805, -4.801199913024902, -4.876500129699707, -4.884399890899658, -4.940899848937988, -2.43530011177063, -2.8868000507354736, -3.228300094604492, -3.3482000827789307, -3.383500099182129, -3.4993999004364014, -3.547300100326538, -3.6217000484466553, -3.6663999557495117, -3.731600046157837, -3.805799961090088, -3.842600107192993, -4.0192999839782715, -4.269700050354004, -4.322700023651123, -4.329800128936768, -4.376200199127197, -4.420499801635742, -4.537600040435791, -4.6265997886657715, -4.649799823760986, -4.6793999671936035, -4.730100154876709, -4.797500133514404, -4.856100082397461, -4.9028000831604, -4.9506001472473145, -4.960100173950195, -5.022200107574463, -5.083600044250488, -1.8672000169754028, -3.0411999225616455, -3.2179999351501465, -3.2841999530792236, -3.293600082397461, -3.2908999919891357, -3.3921000957489014, -3.4047000408172607, -3.5250000953674316, -3.5660998821258545, -3.5838000774383545, -3.733599901199341, -4.014400005340576, -4.0279998779296875, -4.180799961090088, -4.283899784088135, -4.3333001136779785, -4.362100124359131, -4.562699794769287, -4.700099945068359, -4.861800193786621, -4.920599937438965, -5.046899795532227, -5.09250020980835, -5.119200229644775, -5.11929988861084, -5.199699878692627, -5.23390007019043, -5.241799831390381, -5.342700004577637, -1.739300012588501, -2.5806000232696533, -2.751800060272217, -3.164299964904785, -3.410599946975708, -3.711699962615967, -3.8310999870300293, -3.9302000999450684, -3.930999994277954, -4.138500213623047, -3.9999001026153564, -4.418000221252441, -4.432000160217285, -4.544000148773193, -4.6168999671936035, -4.673099994659424, -4.741499900817871, -4.838900089263916, -5.143400192260742, -5.248799800872803, -5.267600059509277, -5.251299858093262, -5.312300205230713, -5.38129997253418, -5.420100212097168, -5.428100109100342, -5.530099868774414, -5.530900001525879, -5.558300018310547, -5.6697998046875], \"loglift\": [30.0, 29.0, 28.0, 27.0, 26.0, 25.0, 24.0, 23.0, 22.0, 21.0, 20.0, 19.0, 18.0, 17.0, 16.0, 15.0, 14.0, 13.0, 12.0, 11.0, 10.0, 9.0, 8.0, 7.0, 6.0, 5.0, 4.0, 3.0, 2.0, 1.0, 1.5891, 1.588, 1.5877, 1.5875, 1.587, 1.5865, 1.5863, 1.586, 1.586, 1.5857, 1.5852, 1.5847, 1.5835, 1.5834, 1.5834, 1.5832, 1.5826, 1.5822, 1.5822, 1.5818, 1.5813, 1.5811, 1.5808, 1.5806, 1.5805, 1.5803, 1.5801, 1.5791, 1.5786, 1.5786, 1.5754, 1.5317, 1.536, 1.8569, 1.8565, 1.856, 1.8543, 1.8541, 1.8539, 1.8534, 1.8527, 1.8502, 1.8497, 1.8492, 1.8486, 1.8477, 1.8473, 1.8471, 1.8463, 1.8457, 1.8446, 1.8445, 1.8438, 1.8438, 1.8419, 1.8414, 1.8414, 1.8412, 1.8401, 1.8383, 1.8381, 1.8381, 1.8378, 1.7396, 1.7919, 1.5426, 0.2804, 1.9666, 1.9666, 1.9655, 1.9642, 1.9625, 1.962, 1.961, 1.9608, 1.96, 1.9598, 1.9589, 1.9586, 1.9584, 1.958, 1.9578, 1.9568, 1.9568, 1.9568, 1.956, 1.9558, 1.9547, 1.9543, 1.9526, 1.9523, 1.9521, 1.9495, 1.9491, 1.948, 1.9477, 1.9447, 1.9109, -0.6535, 2.3199, 2.3183, 2.3177, 2.3174, 2.3157, 2.3156, 2.315, 2.3149, 2.3128, 2.3114, 2.3114, 2.3108, 2.3099, 2.3079, 2.3073, 2.3072, 2.3053, 2.3042, 2.3038, 2.3036, 2.3022, 2.3021, 2.3004, 2.3002, 2.298, 2.2973, 2.297, 2.2959, 2.2956, 2.2934, 2.4046, 2.4039, 2.402, 2.4009, 2.4008, 2.3995, 2.3986, 2.3975, 2.3968, 2.3948, 2.3947, 2.3946, 2.3942, 2.394, 2.3934, 2.3922, 2.3915, 2.3912, 2.3899, 2.3899, 2.3893, 2.3887, 2.3878, 2.3874, 2.3868, 2.3854, 2.385, 2.3837, 2.3835, 2.3832, 2.1741, 1.8941, 1.0922, 2.4132, 2.4108, 2.4099, 2.4094, 2.409, 2.408, 2.408, 2.4074, 2.4066, 2.4065, 2.4044, 2.4039, 2.4039, 2.4024, 2.4012, 2.399, 2.3983, 2.3936, 2.3877, 2.3871, 2.3841, 2.3817, 2.3802, 2.3799, 2.3721, 2.3716, 2.3697, 2.3686, 2.3647, 2.3646, 2.7889, 2.788, 2.7878, 2.7846, 2.7836, 2.7824, 2.7801, 2.7786, 2.775, 2.7741, 2.7729, 2.7722, 2.7717, 2.7716, 2.7701, 2.7697, 2.7639, 2.7635, 2.757, 2.7567, 2.7559, 2.7547, 2.7544, 2.7538, 2.7535, 2.7531, 2.748, 2.7444, 2.743, 2.7407, 2.8098, 2.8087, 2.808, 2.805, 2.8045, 2.8017, 2.8011, 2.801, 2.8006, 2.7998, 2.7993, 2.7985, 2.7978, 2.7962, 2.7955, 2.7931, 2.7929, 2.7929, 2.7926, 2.7919, 2.7919, 2.7894, 2.7847, 2.7828, 2.7824, 2.7798, 2.778, 2.7752, 2.7749, 2.7727, 3.0851, 3.0825, 3.0796, 3.0784, 3.078, 3.0765, 3.0756, 3.0748, 3.0742, 3.0731, 3.0719, 3.0712, 3.0677, 3.0616, 3.0601, 3.0599, 3.0585, 3.0571, 3.0531, 3.0498, 3.0489, 3.0477, 3.0455, 3.0425, 3.0398, 3.0374, 3.0349, 3.0344, 3.031, 3.0274, 3.3714, 3.3636, 3.3614, 3.3605, 3.3604, 3.3599, 3.3589, 3.3587, 3.3566, 3.3558, 3.3555, 3.3524, 3.3452, 3.3437, 3.34, 3.3362, 3.3343, 3.3332, 3.3241, 3.3168, 3.307, 3.303, 3.2937, 3.2901, 3.2879, 3.2879, 3.2808, 3.2778, 3.2771, 3.2673, 3.8111, 3.8047, 3.8026, 3.7959, 3.7904, 3.7816, 3.7773, 3.7734, 3.7734, 3.7638, 3.7623, 3.7475, 3.7465, 3.7387, 3.7323, 3.7284, 3.7226, 3.7135, 3.6795, 3.6654, 3.6627, 3.6621, 3.6553, 3.645, 3.6396, 3.6283, 3.621, 3.6209, 3.6159, 3.5947]}, \"token.table\": {\"Topic\": [5, 5, 2, 11, 7, 11, 10, 4, 6, 2, 8, 1, 7, 9, 8, 1, 4, 7, 5, 8, 3, 8, 10, 11, 6, 9, 9, 5, 7, 5, 10, 6, 1, 3, 3, 11, 11, 10, 6, 3, 11, 9, 11, 7, 8, 4, 5, 2, 1, 4, 2, 3, 7, 8, 4, 7, 5, 11, 7, 11, 1, 3, 6, 4, 1, 11, 11, 7, 1, 7, 7, 6, 3, 1, 1, 2, 4, 5, 5, 4, 7, 1, 11, 2, 9, 2, 4, 3, 9, 10, 1, 7, 10, 2, 10, 2, 4, 8, 7, 5, 1, 6, 6, 5, 4, 10, 5, 1, 5, 6, 11, 1, 6, 5, 11, 2, 9, 2, 5, 3, 4, 6, 4, 2, 1, 5, 9, 1, 5, 5, 8, 6, 6, 4, 9, 3, 10, 10, 9, 3, 6, 1, 9, 3, 3, 4, 5, 11, 2, 10, 9, 6, 2, 2, 11, 11, 8, 10, 7, 9, 10, 8, 1, 5, 8, 3, 4, 3, 8, 3, 7, 5, 6, 10, 8, 11, 1, 2, 10, 6, 4, 7, 8, 8, 9, 11, 3, 1, 9, 10, 5, 4, 2, 3, 3, 8, 5, 6, 10, 10, 11, 5, 6, 4, 7, 1, 8, 5, 5, 1, 2, 11, 8, 2, 6, 9, 6, 7, 5, 4, 4, 10, 2, 1, 8, 9, 11, 1, 2, 6, 4, 3, 2, 11, 1, 11, 11, 9, 9, 7, 8, 8, 11, 3, 1, 9, 9, 8, 10, 4, 11, 10, 10, 3, 6, 10, 8, 1, 2, 3, 3, 2, 7, 2, 3, 7, 3, 4, 6, 3, 2, 9, 7, 6, 1, 10, 1, 8, 2, 1, 11, 4, 2, 5, 10, 10, 3, 4, 7, 6, 5, 9, 7, 10, 7, 3, 9, 2, 5, 7, 8, 1, 11, 9, 1, 2, 7, 6, 5, 4, 1, 10, 9, 7, 2, 8, 3, 2, 8, 5, 10, 5, 9, 2, 8, 9, 1, 2, 3, 6, 4, 3, 9, 8, 6, 4, 4, 8, 7, 1, 2, 3, 9, 11, 1, 2, 6, 1, 10], \"Freq\": [0.9871834019760755, 0.993826019504534, 0.9942153397130334, 0.9220392971314383, 0.9980031238540229, 0.8104863607325451, 0.9739758675374595, 0.9758202193392231, 0.970487137734777, 0.9787387290964148, 0.9883007910004412, 0.9881096278132553, 0.9852295652600189, 0.9825079085205055, 0.9617323208837693, 0.9946808416144426, 0.9993333115541667, 0.989566335424397, 0.9758102604216679, 0.970522548743994, 0.9921663604435601, 0.9566222250561623, 0.896272528350709, 0.8725657045121838, 0.9995099483426451, 0.9744331754974704, 0.9887728686584172, 0.9803674379145655, 0.9888040497964349, 0.9972218436005559, 0.9779358042590369, 0.9610826254356102, 0.05049352130124621, 0.9467535243983665, 0.9948354758693609, 0.9648770639334403, 0.960684585053539, 0.9031047240522523, 0.9830927905092424, 0.9972754655730998, 0.9712025030202691, 0.9436112311281655, 0.9624913968896718, 0.9747044703242591, 0.9895347474767766, 0.9956706914672905, 0.993696423254918, 0.989080804407602, 0.9917379583626016, 0.996917555039019, 0.9926119954664191, 0.9724378615456857, 0.9755858498508453, 0.9912163038271679, 0.9917429060537027, 0.9968059587954337, 0.9827267654194246, 0.9203065845467725, 0.9827988470532946, 0.9496691278287853, 0.9414430786915043, 0.05648658472149026, 0.9897556084295183, 0.996692026993426, 0.9946337149347493, 0.9926054979365805, 0.8887150499252149, 0.9868722768784183, 0.9928031311387674, 0.9587948102450391, 0.9543474520776045, 0.9875078259826694, 0.9927171165419253, 0.9879151469199905, 0.9846164568992927, 0.9936282604551198, 0.9896485003145562, 0.9764505160048768, 0.9841168482323116, 0.974252257999967, 0.9828275980368145, 0.995580130436985, 0.9576802925298182, 0.9748297827167794, 0.9448352049148505, 0.9904974332334379, 0.9812400570988884, 0.9863379128152334, 0.9817707623513128, 0.924359458250043, 0.9975700770884376, 0.945179878309856, 0.9530408612536477, 0.9816019342725424, 0.9836939395085371, 0.998957790975691, 0.9895507756711174, 0.9789073112732073, 0.9677767434596978, 0.9645575592857353, 0.9937756546480399, 0.9778882103987664, 0.9868014428428904, 0.9931208175927068, 0.988710689370902, 0.9872028778972225, 0.9942813550025329, 0.9925434373930291, 0.9899963095448261, 0.9925537296800907, 0.8858017027082531, 0.9959616538759614, 0.9733811066974359, 0.986382051526304, 0.8415699972913143, 0.9876972911258701, 0.9879234093425984, 0.7290750208595956, 0.2668935344218163, 0.984845569620919, 0.9872103365277481, 0.9782109994945144, 0.9727153517248426, 0.996936894389574, 0.9934373857646469, 0.9925488933565966, 0.9771280297122229, 0.39600208838060497, 0.5996603052620589, 0.9893772586223385, 0.9884567358547232, 0.9956537631173646, 0.9491216147269664, 0.9727337178062754, 0.9283946468909193, 0.9848856283220575, 0.9396948620002494, 0.9718903557828481, 0.9917898126782868, 0.9961112551067196, 0.97650046860216, 0.9880032234366931, 0.9870606032314709, 0.9869819378812552, 0.9928349776053665, 0.988847921297984, 0.9866612389984354, 0.9696559130967062, 0.9837814305027258, 0.9351014084515106, 0.937711967928886, 0.9892490067334402, 0.9871038664403058, 0.9861945291997143, 0.9617402764019171, 0.8561784408731616, 0.9639091591576334, 0.9966265721295585, 0.9669487576590892, 0.9570023441066792, 0.9821098101714081, 0.976954538441491, 0.9933573844475838, 0.9873035778183913, 0.9587043939695131, 0.992495445297404, 0.9735060579993732, 0.9932003095923813, 0.9721471420289022, 0.9907178785870151, 0.9701511374199114, 0.9923548240223726, 0.9353574617010413, 0.9847642370200131, 0.9947883328074073, 0.8595457392903414, 0.9919612113767248, 0.982041572454983, 0.9864096286873815, 0.9934709876357005, 0.9741595605253928, 0.9423492739235763, 0.9848957090573764, 0.9853413401448509, 0.9497910987491108, 0.8988859354361007, 0.9790160830174273, 0.99136548338596, 0.9799255674829632, 0.9850124609474795, 0.9736018244142582, 0.9970845755490506, 0.9962995520736099, 0.9922627331492563, 0.9903876905728997, 0.9977888581540654, 0.9728428315106533, 0.9857176729712724, 0.9254841240367931, 0.9255376931996943, 0.7795417226953911, 0.9683220588201122, 0.9781440627678931, 0.9742091984804737, 0.9853310834326472, 0.9961598374162545, 0.961779317434888, 0.9787861453651152, 0.9853619197355807, 0.9946738144120991, 0.9870698915078258, 0.9799171862227288, 0.9964287450064719, 0.9731337759175517, 0.9872608491003441, 0.9350718848876033, 0.995059965365412, 0.9691539749298946, 0.9709602815838122, 0.9704678724834278, 0.993078247267562, 0.9689289124744395, 0.9989061806842577, 0.9886903958380883, 0.976090281898671, 0.9702218985642712, 0.88179834759248, 0.9844495325430448, 0.009420569689407127, 0.9519665324902735, 0.9734731630275811, 0.9900274917138304, 0.9990768396363626, 0.9212554555515994, 0.992811779001653, 0.9448589459921631, 0.994389899253524, 0.9934647566406143, 0.9189409324775337, 0.9807094313771247, 0.9735417936683796, 0.9796651074369673, 0.9571915389064533, 0.9935757677296697, 0.9962116421008848, 0.9943756922489083, 0.9867590006754837, 0.9905827343616292, 0.980973152159201, 0.9965577215882879, 0.7808735238556973, 0.9908030203720024, 0.98926401248765, 0.9891052370495301, 0.9667513164252094, 0.953622534531681, 0.9716559874837695, 0.9947225529281204, 0.9881758678201313, 0.9869173353540387, 0.9989959157753614, 0.9975346238954433, 0.9962721632536081, 0.976180754615886, 0.9864433936778121, 0.9885352575724349, 0.9946406959133506, 0.9857663285347943, 0.9258640917751086, 0.9950661082289093, 0.9891750660724236, 0.9789776844316117, 0.9437036899020349, 0.9921371576535757, 0.9938668856035143, 0.9247927322398216, 0.9848798181734121, 0.9737525798592488, 0.9935675524710823, 0.9927207666924988, 0.7789538002579067, 0.9812800325748978, 0.2071419513103027, 0.7920133432452751, 0.9314502595011553, 0.9068821848749314, 0.9982950009861037, 0.9890994502564908, 0.980716125236166, 0.9915023597726956, 0.9827417761927827, 0.9636207602673941, 0.9567384213375102, 0.9536934316204624, 0.9727173710816774, 0.9954965589051237, 0.9636070440219078, 0.9855785485542917, 0.991342683969902, 0.9952449371144715, 0.9919801489090317, 0.9978427249952397, 0.7971703815200969, 0.9783441877005277, 0.053821750354418905, 0.9418806312023308, 0.9638633413526884, 0.9945084125198238, 0.9853168518442952, 0.9947216182524136, 0.9978772222009359, 0.9480082402612668, 0.9958871855515538, 0.9595431306243715, 0.9957340447250765, 0.98301608364317, 0.9883504817302987, 0.9800213501883654, 0.9865396362745883, 0.9977916041497291, 0.9878053303180867, 0.9785028437353411, 0.9833750318928647, 0.9943429173335689, 0.9714081873246995, 0.9790816535513287, 0.9969040893286043, 0.9805290859189923, 0.996662587454002, 0.9910034837574783, 0.9951176787685693, 0.9858250482330946, 0.9805034149215752, 0.9880432737651818, 0.9722800162501531, 0.9791476242450579, 0.9834402941722667, 0.9886837428779932, 0.9904412211951426, 0.03844186671006377, 0.8881056898914732, 0.07294097786012099, 0.9713975943051714, 0.9869054762880767, 0.9454103713971733, 0.046686931920848065, 0.9932664499063769, 0.9892508508726777, 0.9525150287108807], \"Term\": [\"accelerate\", \"acceleration\", \"adult\", \"afford\", \"air\", \"alternative\", \"aluminum\", \"america\", \"amg\", \"amount\", \"answer\", \"anything\", \"apple\", \"area\", \"ask\", \"assistance\", \"audi\", \"auto\", \"baby\", \"bag\", \"base\", \"battery\", \"beautiful\", \"blast\", \"bmw\", \"boat\", \"boot\", \"bottom\", \"brake\", \"brand\", \"break\", \"business\", \"button\", \"button\", \"buy\", \"buyer\", \"cadillac\", \"caliper\", \"call\", \"camera\", \"canyon\", \"capacity\", \"carbon\", \"carplay\", \"center\", \"challenge\", \"change\", \"chassis\", \"city\", \"class\", \"clutch\", \"cockpit\", \"collision\", \"color\", \"com\", \"comfort\", \"comment\", \"compete\", \"competition\", \"competitor\", \"control\", \"control\", \"cool\", \"coop\", \"corner\", \"cost\", \"count\", \"country\", \"coupe\", \"cover\", \"cross\", \"crossover\", \"cruise\", \"cup\", \"cut\", \"cylinder\", \"dart\", \"day\", \"deal\", \"degree\", \"departure\", \"design\", \"destination\", \"detail\", \"dial\", \"diesel\", \"disclosure\", \"display\", \"distribution\", \"dollar\", \"door\", \"doubt\", \"downside\", \"drive\", \"end\", \"engine\", \"enjoy\", \"entry\", \"equipment\", \"everybody\", \"everything\", \"example\", \"exhaust\", \"experience\", \"eye\", \"face\", \"family\", \"fan\", \"fast\", \"feature\", \"fee\", \"feel\", \"field\", \"figure\", \"fire\", \"fit\", \"floor\", \"foot\", \"foot\", \"force\", \"forget\", \"form\", \"friend\", \"fuel\", \"functionality\", \"gallon\", \"gas\", \"gear\", \"gear\", \"gearbox\", \"gene\", \"generation\", \"german\", \"gift\", \"golf\", \"goody\", \"google\", \"grill\", \"ground\", \"guy\", \"half\", \"hand\", \"hatchback\", \"head\", \"headlight\", \"headroom\", \"hell\", \"help\", \"highway\", \"hit\", \"home\", \"hood\", \"horsepower\", \"hour\", \"house\", \"ideal\", \"improvement\", \"inch\", \"information\", \"infotainment\", \"interior\", \"issue\", \"jaguar\", \"journalist\", \"keep\", \"knee\", \"lady\", \"lane\", \"lease\", \"leg\", \"length\", \"level\", \"lexus\", \"life\", \"light\", \"lincoln\", \"line\", \"liter\", \"look\", \"luxury\", \"machine\", \"magic\", \"manufacturer\", \"map\", \"market\", \"mass\", \"massage\", \"material\", \"matter\", \"maur\", \"mean\", \"mercedes\", \"mile\", \"mind\", \"mode\", \"model\", \"moment\", \"money\", \"month\", \"moon\", \"motorway\", \"mpg\", \"name\", \"nathan\", \"navigation\", \"news\", \"night\", \"noise\", \"none\", \"nothing\", \"number\", \"offer\", \"okay\", \"one\", \"option\", \"output\", \"package\", \"pad\", \"paddle\", \"panel\", \"passenger\", \"pay\", \"performance\", \"phone\", \"place\", \"play\", \"pleasure\", \"point\", \"point\", \"pop\", \"porsche\", \"position\", \"power\", \"preference\", \"premium\", \"prestige\", \"price\", \"problem\", \"process\", \"product\", \"profile\", \"pull\", \"purchase\", \"push\", \"quality\", \"question\", \"rear\", \"rest\", \"review\", \"ride\", \"roadster\", \"roman\", \"roof\", \"row\", \"rpm\", \"safety\", \"scale\", \"screen\", \"scroll\", \"sea\", \"seat\", \"second\", \"sedan\", \"segment\", \"sense\", \"series\", \"setting\", \"share\", \"sheet\", \"shift\", \"shifter\", \"shut\", \"sign\", \"siri\", \"size\", \"skin\", \"someone\", \"sort\", \"sound\", \"space\", \"speak\", \"speaker\", \"speed\", \"speed\", \"spend\", \"spending\", \"sport\", \"spot\", \"standard\", \"start\", \"state\", \"stay\", \"steer\", \"step\", \"street\", \"style\", \"suit\", \"summer\", \"supercar\", \"suspension\", \"suv\", \"system\", \"tag\", \"tailgate\", \"talk\", \"talk\", \"tech\", \"technology\", \"term\", \"tfl\", \"thing\", \"time\", \"tire\", \"top\", \"torque\", \"touch\", \"track\", \"traction\", \"train\", \"transmission\", \"treat\", \"trip\", \"trunk\", \"turbo\", \"type\", \"tyre\", \"use\", \"utility\", \"vehicle\", \"version\", \"video\", \"view\", \"volkswagen\", \"wagon\", \"wait\", \"watch\", \"water\", \"way\", \"week\", \"wheel\", \"wheel\", \"wheel\", \"wind\", \"word\", \"world\", \"world\", \"year\", \"yes\", \"yesterday\"]}, \"R\": 30, \"lambda.step\": 0.01, \"plot.opts\": {\"xlab\": \"PC1\", \"ylab\": \"PC2\"}, \"topic.order\": [5, 9, 11, 4, 6, 8, 10, 1, 7, 3, 2]};\n",
       "\n",
       "function LDAvis_load_lib(url, callback){\n",
       "  var s = document.createElement('script');\n",
       "  s.src = url;\n",
       "  s.async = true;\n",
       "  s.onreadystatechange = s.onload = callback;\n",
       "  s.onerror = function(){console.warn(\"failed to load library \" + url);};\n",
       "  document.getElementsByTagName(\"head\")[0].appendChild(s);\n",
       "}\n",
       "\n",
       "if(typeof(LDAvis) !== \"undefined\"){\n",
       "   // already loaded: just create the visualization\n",
       "   !function(LDAvis){\n",
       "       new LDAvis(\"#\" + \"ldavis_el1627223407459366722189446247\", ldavis_el1627223407459366722189446247_data);\n",
       "   }(LDAvis);\n",
       "}else if(typeof define === \"function\" && define.amd){\n",
       "   // require.js is available: use it to load d3/LDAvis\n",
       "   require.config({paths: {d3: \"https://cdnjs.cloudflare.com/ajax/libs/d3/3.5.5/d3.min\"}});\n",
       "   require([\"d3\"], function(d3){\n",
       "      window.d3 = d3;\n",
       "      LDAvis_load_lib(\"https://cdn.rawgit.com/bmabey/pyLDAvis/files/ldavis.v1.0.0.js\", function(){\n",
       "        new LDAvis(\"#\" + \"ldavis_el1627223407459366722189446247\", ldavis_el1627223407459366722189446247_data);\n",
       "      });\n",
       "    });\n",
       "}else{\n",
       "    // require.js not available: dynamically load d3 & LDAvis\n",
       "    LDAvis_load_lib(\"https://cdnjs.cloudflare.com/ajax/libs/d3/3.5.5/d3.min.js\", function(){\n",
       "         LDAvis_load_lib(\"https://cdn.rawgit.com/bmabey/pyLDAvis/files/ldavis.v1.0.0.js\", function(){\n",
       "                 new LDAvis(\"#\" + \"ldavis_el1627223407459366722189446247\", ldavis_el1627223407459366722189446247_data);\n",
       "            })\n",
       "         });\n",
       "}\n",
       "</script>"
      ],
      "text/plain": [
       "PreparedData(topic_coordinates=              x         y  topics  cluster       Freq\n",
       "topic                                                \n",
       "4     -0.136602  0.315542       1        1  20.372981\n",
       "8     -0.304448 -0.225928       2        1  15.592714\n",
       "10    -0.198524  0.130243       3        1  13.976158\n",
       "3      0.086781 -0.002686       4        1   9.814107\n",
       "5     -0.035431 -0.165711       5        1   8.996738\n",
       "7      0.075458  0.006518       6        1   8.943644\n",
       "9      0.102528 -0.011416       7        1   6.132654\n",
       "0      0.104972 -0.012562       8        1   5.995154\n",
       "6      0.104073 -0.012318       9        1   4.551945\n",
       "2      0.101899 -0.011308      10        1   3.422172\n",
       "1      0.099293 -0.010374      11        1   2.201733, topic_info=          Term         Freq        Total Category  logprob  loglift\n",
       "0          bmw   907.000000   907.000000  Default  30.0000  30.0000\n",
       "169      sport   749.000000   749.000000  Default  29.0000  29.0000\n",
       "242      wheel  1014.000000  1014.000000  Default  28.0000  28.0000\n",
       "172       audi   607.000000   607.000000  Default  27.0000  27.0000\n",
       "156       seat   713.000000   713.000000  Default  26.0000  26.0000\n",
       "...        ...          ...          ...      ...      ...      ...\n",
       "4341       fee     4.679177     5.644604  Topic11  -5.4281   3.6283\n",
       "2040     speak     4.225645     5.135093  Topic11  -5.5301   3.6210\n",
       "481   motorway     4.221864     5.131220  Topic11  -5.5309   3.6209\n",
       "893        tag     4.108054     5.017748  Topic11  -5.5583   3.6159\n",
       "1124     blast     3.674555     4.584182  Topic11  -5.6698   3.5947\n",
       "\n",
       "[372 rows x 6 columns], token_table=      Topic      Freq          Term\n",
       "term                               \n",
       "304       5  0.987183    accelerate\n",
       "972       5  0.993826  acceleration\n",
       "512       2  0.994215         adult\n",
       "567      11  0.922039        afford\n",
       "352       7  0.998003           air\n",
       "...     ...       ...           ...\n",
       "243       1  0.945410         world\n",
       "243       2  0.046687         world\n",
       "36        6  0.993266          year\n",
       "109       1  0.989251           yes\n",
       "3544     10  0.952515     yesterday\n",
       "\n",
       "[349 rows x 3 columns], R=30, lambda_step=0.01, plot_opts={'xlab': 'PC1', 'ylab': 'PC2'}, topic_order=[5, 9, 11, 4, 6, 8, 10, 1, 7, 3, 2])"
      ]
     },
     "execution_count": 14,
     "metadata": {},
     "output_type": "execute_result"
    }
   ],
   "source": [
    "bow_vis"
   ]
  },
  {
   "cell_type": "raw",
   "id": "2ebbb570",
   "metadata": {},
   "source": [
    "Clearly 11 topics are overlapping. We need to find the no of topics that do not overlap.\n",
    "Lets try 8 topics since thats d second highest"
   ]
  },
  {
   "cell_type": "code",
   "execution_count": 15,
   "id": "7f2a53be",
   "metadata": {},
   "outputs": [
    {
     "name": "stdout",
     "output_type": "stream",
     "text": [
      "\n",
      "Perplexity:  -8.059035857196546\n",
      "\n",
      "Coherence Score:  0.4057816929094664\n"
     ]
    }
   ],
   "source": [
    "bow_vis, bow_lda_model = lda_modelling(bow_corpus, processed_train_text, dictionary, noof_topics=8)"
   ]
  },
  {
   "cell_type": "code",
   "execution_count": 16,
   "id": "873ca88d",
   "metadata": {},
   "outputs": [
    {
     "data": {
      "text/html": [
       "\n",
       "<link rel=\"stylesheet\" type=\"text/css\" href=\"https://cdn.rawgit.com/bmabey/pyLDAvis/files/ldavis.v1.0.0.css\">\n",
       "\n",
       "\n",
       "<div id=\"ldavis_el1627223407455875048461291212\"></div>\n",
       "<script type=\"text/javascript\">\n",
       "\n",
       "var ldavis_el1627223407455875048461291212_data = {\"mdsDat\": {\"x\": [-0.19219156320571437, 0.3312306281310404, -0.12917306260527547, -0.07888278411844368, -0.032790122528007726, 0.13453721535759428, -0.018443988692634746, -0.014286322338558399], \"y\": [0.32270676512674495, 0.13406801224893503, 0.0034312429057119513, -0.21011978590178115, -0.07268601869167983, -0.02557786407539147, -0.08930112356668479, -0.06252122804585501], \"topics\": [1, 2, 3, 4, 5, 6, 7, 8], \"cluster\": [1, 1, 1, 1, 1, 1, 1, 1], \"Freq\": [23.668773567115206, 17.846987244413942, 15.504031696131888, 12.288990452100384, 9.370076362203708, 8.730459229375787, 7.801089087540274, 4.78959236111881]}, \"tinfo\": {\"Term\": [\"wheel\", \"bmw\", \"seat\", \"power\", \"sport\", \"engine\", \"audi\", \"comfort\", \"performance\", \"package\", \"vehicle\", \"system\", \"technology\", \"control\", \"class\", \"suspension\", \"luxury\", \"inch\", \"speed\", \"price\", \"guy\", \"air\", \"mercedes\", \"year\", \"transmission\", \"foot\", \"door\", \"design\", \"video\", \"tire\", \"seat\", \"system\", \"control\", \"inch\", \"thing\", \"feature\", \"button\", \"camera\", \"use\", \"space\", \"screen\", \"size\", \"adult\", \"hour\", \"news\", \"phone\", \"interior\", \"rear\", \"buy\", \"fit\", \"trunk\", \"way\", \"offer\", \"functionality\", \"rest\", \"someone\", \"wagon\", \"problem\", \"cup\", \"assistance\", \"dart\", \"point\", \"audi\", \"wheel\", \"bmw\", \"vehicle\", \"speed\", \"mile\", \"model\", \"brand\", \"siri\", \"okay\", \"coop\", \"world\", \"sedan\", \"brake\", \"crossover\", \"shift\", \"gallon\", \"navigation\", \"yes\", \"comment\", \"acceleration\", \"experience\", \"issue\", \"hell\", \"gearbox\", \"bottom\", \"cockpit\", \"manufacturer\", \"day\", \"sort\", \"competition\", \"foot\", \"sport\", \"center\", \"auto\", \"class\", \"guy\", \"air\", \"mercedes\", \"transmission\", \"video\", \"com\", \"ride\", \"tfl\", \"coupe\", \"base\", \"word\", \"headlight\", \"hood\", \"track\", \"head\", \"passenger\", \"challenge\", \"view\", \"sea\", \"position\", \"headroom\", \"roof\", \"standard\", \"leg\", \"utility\", \"spot\", \"enjoy\", \"speaker\", \"week\", \"corner\", \"hand\", \"power\", \"engine\", \"performance\", \"price\", \"torque\", \"turbo\", \"second\", \"fuel\", \"level\", \"start\", \"cost\", \"cylinder\", \"clutch\", \"face\", \"forget\", \"journalist\", \"horsepower\", \"highway\", \"diesel\", \"break\", \"sound\", \"end\", \"traction\", \"roman\", \"maur\", \"shifter\", \"treat\", \"figure\", \"lease\", \"scroll\", \"talk\", \"design\", \"everything\", \"feel\", \"style\", \"mind\", \"family\", \"line\", \"lane\", \"quality\", \"city\", \"supercar\", \"fan\", \"cut\", \"fast\", \"knee\", \"cruise\", \"nothing\", \"state\", \"chassis\", \"material\", \"premium\", \"truck\", \"liter\", \"none\", \"let\", \"sunroof\", \"take\", \"water\", \"event\", \"responsibility\", \"tyre\", \"door\", \"comfort\", \"suspension\", \"tire\", \"setting\", \"push\", \"question\", \"change\", \"display\", \"jaguar\", \"suv\", \"life\", \"gear\", \"cool\", \"sense\", \"drive\", \"answer\", \"amount\", \"departure\", \"one\", \"gas\", \"boy\", \"traffic\", \"handle\", \"moment\", \"friend\", \"spring\", \"grip\", \"rent\", \"road\", \"visibility\", \"sport\", \"package\", \"luxury\", \"light\", \"option\", \"money\", \"country\", \"summer\", \"call\", \"look\", \"example\", \"mode\", \"weight\", \"disclosure\", \"response\", \"exhaust\", \"buck\", \"noise\", \"massage\", \"apple\", \"accelerate\", \"baby\", \"movie\", \"goody\", \"stop\", \"prius\", \"station\", \"amg\", \"business\", \"rpm\", \"order\", \"technology\", \"year\", \"version\", \"generation\", \"ground\", \"segment\", \"number\", \"ability\", \"product\", \"mpg\", \"buyer\", \"safety\", \"sporty\", \"efficiency\", \"beam\", \"dealership\", \"battery\", \"becomes\", \"output\", \"factor\", \"radius\", \"put\", \"production\", \"notice\", \"golf\", \"clearance\", \"predecessor\", \"dollar\", \"wind\", \"heart\"], \"Freq\": [976.0, 930.0, 818.0, 528.0, 696.0, 433.0, 661.0, 295.0, 332.0, 259.0, 350.0, 410.0, 179.0, 385.0, 294.0, 220.0, 206.0, 370.0, 293.0, 233.0, 256.0, 246.0, 244.0, 141.0, 233.0, 295.0, 208.0, 174.0, 221.0, 164.0, 817.9434455907311, 409.7468478466689, 384.4311313899199, 370.17156141226263, 233.5667696602041, 213.02862275996634, 178.80264861706442, 172.75403826110863, 169.34597364144258, 153.8833063194983, 143.70412006566738, 122.281726807358, 114.47540891867307, 108.12543216168068, 100.4946001950153, 97.65188827585672, 95.910139827586, 94.36461557686103, 91.2872965818937, 87.37972648686704, 83.70216562981383, 77.86763209696609, 74.86149957966664, 74.7200013869817, 74.34407213780189, 73.57187540781126, 73.39478397629239, 71.96905953737772, 71.53717748205855, 70.13791994724909, 90.38767787040992, 184.80039472522753, 623.1805710566517, 976.1713909799699, 929.7694696378745, 349.4213810579469, 292.4180774356993, 193.99910837493442, 178.46570202452378, 172.32206061139638, 146.93535274303136, 144.9977270423888, 137.09733459548747, 126.17245967089913, 114.69338560358878, 100.79449549918475, 77.00304974650885, 74.44003657254801, 70.39352293999458, 69.64616612692137, 62.67625342418804, 56.037656038377165, 55.39494204934088, 53.67606562060791, 53.12657214719647, 53.13848915417707, 45.07766555930094, 41.053409340392676, 40.58297915527848, 37.014633919594445, 36.75622027953005, 36.522348514793244, 36.38627021098569, 270.85272697822444, 557.5161810848975, 78.48439444548566, 41.46002743210348, 293.54037778259146, 256.09977829197817, 245.25149006389825, 243.92793019526263, 233.19274774958754, 221.10188915108478, 152.70063266914147, 138.80610510241658, 135.9636182908543, 121.1412822999962, 116.38156652578076, 104.24940258440174, 100.32011916377635, 99.78187791271168, 98.63957659404511, 94.49125117074692, 88.51925048644118, 88.21404795633406, 83.87329036722193, 78.41757502342136, 77.1008632745656, 76.6637156447817, 74.30145672672047, 69.63526670264135, 68.50340527270039, 66.52551454697688, 65.42649614046994, 62.33114599997515, 54.64871210067456, 54.37550356690628, 133.73669359297315, 91.43063078056427, 528.1460486301683, 432.60154039310305, 331.6497754409381, 232.2325944730533, 191.9673616998112, 185.95517780494112, 160.3030550857171, 138.01547424219876, 110.24351422852715, 107.09599418806313, 100.14862575167196, 96.25716536159194, 90.96056308537881, 85.41461445168237, 83.65759167144213, 79.27769091229496, 73.38728893492421, 70.91190405107754, 69.52856847818384, 66.371649069275, 62.12429214447353, 59.3953237099436, 58.437568498762715, 67.65598386928548, 50.53771780272835, 46.1596697770784, 42.74261163035935, 40.566405819316, 40.31522888359403, 38.9660484111806, 60.28178883788739, 173.4714333355416, 151.01222858087434, 128.66628215299863, 113.42012681453113, 102.78864226068104, 99.81253034306354, 79.9916812250278, 79.80300462693177, 72.54882104327173, 68.60121637966932, 64.21989119614872, 62.12925346981069, 57.607818723696425, 54.04236483474965, 52.364872098158735, 51.443779265363865, 50.61860843929644, 49.269893416954275, 49.02764104386838, 48.650638374976005, 48.57753442849372, 46.206339719330096, 45.521987956896716, 45.694223557670085, 44.94837325862925, 42.98466442377159, 42.627477105364186, 42.466821575142774, 39.84884297731986, 38.748069006048084, 53.795627401515624, 176.2353622098799, 294.4657686267508, 219.68236600243642, 164.10417580667607, 149.94614885379008, 116.47489546917926, 104.4835310464909, 97.47754211907683, 88.95612262958066, 80.77173043959566, 78.73959551378434, 70.65005102989876, 68.82465766061186, 67.14232283774676, 60.56810660759783, 56.732696589797364, 55.98888737386399, 48.23865245258023, 44.074328974049614, 40.790510465774815, 40.18854783586337, 36.96053066015561, 33.89052872398632, 33.88377637318701, 33.87565466453329, 32.02383623009908, 30.927259969201618, 29.918788900945188, 35.24648025020283, 25.827790994075286, 25.578979065423344, 137.94929912981135, 258.9721137750713, 205.54359385273867, 124.4209382091124, 89.4505904964533, 84.56614087230038, 84.14079646872747, 60.374820319385, 57.58767738326583, 55.58889060221975, 54.859351042581686, 50.33791668598559, 47.78223927438124, 55.37156665750165, 45.08917898177299, 42.31399415427855, 41.748144611407476, 39.71682024223635, 39.8474136178729, 38.635784016586484, 38.50679396277671, 37.250956981384796, 37.79398380062071, 42.211814032331056, 34.9896754759964, 37.27768956000104, 33.851011082055024, 32.830697154537816, 32.13033031682255, 28.858880465344956, 28.81379582910836, 179.04477771617996, 140.67200751393284, 128.10224211716545, 113.67812402029436, 63.16607888315326, 49.961662893826045, 39.930361708307416, 39.43335200999511, 39.41322828954067, 34.66848804846879, 33.8656526310983, 28.645898034742473, 27.904918987882773, 22.502246205624058, 20.951489252123164, 20.623376760916113, 19.275050791986605, 17.361484012064732, 16.455843194651123, 15.755880098084752, 16.055831901314093, 14.523212632779755, 14.332680591261886, 13.92336191530961, 13.839358011007532, 13.804469627814603, 13.788934296957448, 13.685210355501185, 13.201380809005512, 13.003143165668062], \"Total\": [976.0, 930.0, 818.0, 528.0, 696.0, 433.0, 661.0, 295.0, 332.0, 259.0, 350.0, 410.0, 179.0, 385.0, 294.0, 220.0, 206.0, 370.0, 293.0, 233.0, 256.0, 246.0, 244.0, 141.0, 233.0, 295.0, 208.0, 174.0, 221.0, 164.0, 818.7372454040662, 410.5404774249034, 385.2250104700164, 370.96622858187897, 234.36048188358237, 213.8225507482356, 179.5963895469541, 173.54815052593378, 170.1397172836721, 154.67691790555384, 144.4974889319695, 123.07562096197552, 115.27127072888904, 108.91919011861265, 101.289587373957, 98.4454709046159, 96.70422785465172, 95.15882090913857, 92.0829193999358, 88.17352865255336, 84.49646851292557, 78.66182905910793, 75.65752346219875, 75.51589807407866, 75.13783936737258, 74.36609654257714, 74.19296706154925, 72.76247802180185, 72.33253237064409, 70.93525034728302, 91.57725655926778, 189.38792122407708, 661.169859501562, 976.991566459946, 930.5907572534787, 350.2419421423755, 293.23782213190054, 194.8189194135682, 179.28560684474564, 173.1429949837704, 147.75581621510207, 145.81899539872552, 137.91863625047705, 126.9924659941351, 115.51477889664852, 101.6141222488798, 77.82488338265094, 75.25994288793764, 71.2140441278852, 70.46630630970459, 63.4961090094068, 56.85885361363395, 56.214894017184186, 54.49923882706478, 53.94652573340023, 53.96240236663524, 45.896790711977445, 41.872924039326364, 41.40320463444301, 37.83712246273961, 37.57593890669585, 37.34196484683732, 37.20646979294044, 295.53115088668886, 696.188784954383, 86.9813072777282, 43.3717798952178, 294.3451519947437, 256.90495092252263, 246.05685600432443, 244.73282108047982, 233.99881698393833, 221.9064716473872, 153.5074078519805, 139.6119665084395, 136.80499954713196, 121.94716965208545, 117.18730943768873, 105.05551591666169, 101.12531667834229, 100.58913596714285, 99.44478972733198, 95.2959887634873, 89.3238586695973, 89.05259949931764, 84.67804848038648, 79.22362547173475, 77.90572659620763, 77.46856454897085, 75.10618198283308, 70.43989478148936, 69.30859577620348, 67.33538264512131, 66.23118692535309, 63.137649389408416, 55.454165051225075, 55.182669311595035, 144.78669138564146, 101.67469120343316, 528.9758804735371, 433.4308154622199, 332.4801927730788, 233.06271135986938, 192.79794725259165, 186.78459274033548, 161.13243284267787, 138.8451583572115, 111.07296323286744, 107.92568621151075, 100.9787106948512, 97.08633300568509, 91.79011872628479, 86.24515519518285, 84.49137993640666, 80.11650619277589, 74.21660404562779, 71.74281816526864, 70.35791718170944, 67.20157574611308, 62.953726065730436, 60.22488388733923, 59.267389228863095, 68.65849069294022, 51.37131172967263, 46.9893516256929, 43.58088597115857, 41.396425018060896, 41.14892373129291, 39.80441176079588, 67.0207658415248, 174.29434078499716, 151.83563167620107, 129.48923873382438, 114.24358214164965, 103.61301772821412, 100.63616017097361, 80.81575466102173, 80.62664626770157, 73.37146791247051, 69.4250878918189, 65.04379222158735, 62.95444453734178, 58.4317345226816, 54.86605589451057, 53.19043001795299, 52.26672794056304, 51.44174753157873, 50.09505417574207, 49.850942114834126, 49.473319024466235, 49.400761585106025, 47.03270635902285, 46.3448925075948, 46.52528301400024, 45.78138282801078, 43.80841169681916, 43.45140718891722, 43.2910644039614, 40.67159333783058, 39.60048424934093, 55.07016717814435, 208.91275251601985, 295.2899756309054, 220.50591388574122, 164.92852820511214, 150.77045096251396, 117.30010393310441, 105.30835321990236, 98.30196885556312, 89.77984434401596, 81.61135370045646, 79.56335319178544, 71.47658782202448, 69.64937721447403, 67.966659623382, 61.39215841572885, 57.55707455358418, 56.81379956803401, 49.06452442619623, 44.89880704090447, 41.61487721712197, 41.01393443478636, 37.78503061793725, 34.71402694431363, 34.70726880663615, 34.699715946602716, 32.84850260081188, 31.75126191199257, 30.742495580705327, 36.32420899545531, 26.65112386037477, 26.4024903397484, 696.188784954383, 259.79674787367026, 206.36788970025168, 125.24468860326458, 90.27402255407681, 85.38995561116096, 84.96991280763926, 61.20126772534257, 58.41184583971242, 56.41243236524644, 55.685016909726585, 51.16205060012943, 48.605993646509646, 56.36197813881864, 45.91292346953121, 43.137765059147895, 42.58501321788915, 40.54033687024697, 40.67522988840809, 39.459201764895916, 39.340745110868305, 38.07505378450611, 38.64069711696022, 43.181720938460394, 35.81338773971585, 38.173463901692216, 34.67723479221634, 33.65449002692589, 32.95410642810839, 29.683712279675213, 29.637907579588838, 179.86992524436326, 141.49703737565736, 128.92691002826882, 114.50287583311571, 63.99246370206491, 50.78795349193822, 40.755049480327415, 40.258142552779255, 40.23863328855184, 35.49329041841513, 34.6910861755556, 29.470214680164027, 28.72960369200912, 23.326532285715704, 21.777042135695073, 21.448520210291726, 20.09931536138929, 18.202344714940832, 17.281089918336143, 16.58187679909803, 16.952251500772242, 15.3485314969527, 15.158312185982457, 14.748254436203686, 14.666150257232102, 14.629533962590056, 14.613427333034684, 14.509955370585935, 14.026389715362644, 13.82923214245986], \"Category\": [\"Default\", \"Default\", \"Default\", \"Default\", \"Default\", \"Default\", \"Default\", \"Default\", \"Default\", \"Default\", \"Default\", \"Default\", \"Default\", \"Default\", \"Default\", \"Default\", \"Default\", \"Default\", \"Default\", \"Default\", \"Default\", \"Default\", \"Default\", \"Default\", \"Default\", \"Default\", \"Default\", \"Default\", \"Default\", \"Default\", \"Topic1\", \"Topic1\", \"Topic1\", \"Topic1\", \"Topic1\", \"Topic1\", \"Topic1\", \"Topic1\", \"Topic1\", \"Topic1\", \"Topic1\", \"Topic1\", \"Topic1\", \"Topic1\", \"Topic1\", \"Topic1\", \"Topic1\", \"Topic1\", \"Topic1\", \"Topic1\", \"Topic1\", \"Topic1\", \"Topic1\", \"Topic1\", \"Topic1\", \"Topic1\", \"Topic1\", \"Topic1\", \"Topic1\", \"Topic1\", \"Topic1\", \"Topic1\", \"Topic1\", \"Topic2\", \"Topic2\", \"Topic2\", \"Topic2\", \"Topic2\", \"Topic2\", \"Topic2\", \"Topic2\", \"Topic2\", \"Topic2\", \"Topic2\", \"Topic2\", \"Topic2\", \"Topic2\", \"Topic2\", \"Topic2\", \"Topic2\", \"Topic2\", \"Topic2\", \"Topic2\", \"Topic2\", \"Topic2\", \"Topic2\", \"Topic2\", \"Topic2\", \"Topic2\", \"Topic2\", \"Topic2\", \"Topic2\", \"Topic2\", \"Topic2\", \"Topic2\", \"Topic2\", \"Topic2\", \"Topic3\", \"Topic3\", \"Topic3\", \"Topic3\", \"Topic3\", \"Topic3\", \"Topic3\", \"Topic3\", \"Topic3\", \"Topic3\", \"Topic3\", \"Topic3\", \"Topic3\", \"Topic3\", \"Topic3\", \"Topic3\", \"Topic3\", \"Topic3\", \"Topic3\", \"Topic3\", \"Topic3\", \"Topic3\", \"Topic3\", \"Topic3\", \"Topic3\", \"Topic3\", \"Topic3\", \"Topic3\", \"Topic3\", \"Topic3\", \"Topic3\", \"Topic3\", \"Topic4\", \"Topic4\", \"Topic4\", \"Topic4\", \"Topic4\", \"Topic4\", \"Topic4\", \"Topic4\", \"Topic4\", \"Topic4\", \"Topic4\", \"Topic4\", \"Topic4\", \"Topic4\", \"Topic4\", \"Topic4\", \"Topic4\", \"Topic4\", \"Topic4\", \"Topic4\", \"Topic4\", \"Topic4\", \"Topic4\", \"Topic4\", \"Topic4\", \"Topic4\", \"Topic4\", \"Topic4\", \"Topic4\", \"Topic4\", \"Topic4\", \"Topic5\", \"Topic5\", \"Topic5\", \"Topic5\", \"Topic5\", \"Topic5\", \"Topic5\", \"Topic5\", \"Topic5\", \"Topic5\", \"Topic5\", \"Topic5\", \"Topic5\", \"Topic5\", \"Topic5\", \"Topic5\", \"Topic5\", \"Topic5\", \"Topic5\", \"Topic5\", \"Topic5\", \"Topic5\", \"Topic5\", \"Topic5\", \"Topic5\", \"Topic5\", \"Topic5\", \"Topic5\", \"Topic5\", \"Topic5\", \"Topic5\", \"Topic5\", \"Topic6\", \"Topic6\", \"Topic6\", \"Topic6\", \"Topic6\", \"Topic6\", \"Topic6\", \"Topic6\", \"Topic6\", \"Topic6\", \"Topic6\", \"Topic6\", \"Topic6\", \"Topic6\", \"Topic6\", \"Topic6\", \"Topic6\", \"Topic6\", \"Topic6\", \"Topic6\", \"Topic6\", \"Topic6\", \"Topic6\", \"Topic6\", \"Topic6\", \"Topic6\", \"Topic6\", \"Topic6\", \"Topic6\", \"Topic6\", \"Topic6\", \"Topic7\", \"Topic7\", \"Topic7\", \"Topic7\", \"Topic7\", \"Topic7\", \"Topic7\", \"Topic7\", \"Topic7\", \"Topic7\", \"Topic7\", \"Topic7\", \"Topic7\", \"Topic7\", \"Topic7\", \"Topic7\", \"Topic7\", \"Topic7\", \"Topic7\", \"Topic7\", \"Topic7\", \"Topic7\", \"Topic7\", \"Topic7\", \"Topic7\", \"Topic7\", \"Topic7\", \"Topic7\", \"Topic7\", \"Topic7\", \"Topic8\", \"Topic8\", \"Topic8\", \"Topic8\", \"Topic8\", \"Topic8\", \"Topic8\", \"Topic8\", \"Topic8\", \"Topic8\", \"Topic8\", \"Topic8\", \"Topic8\", \"Topic8\", \"Topic8\", \"Topic8\", \"Topic8\", \"Topic8\", \"Topic8\", \"Topic8\", \"Topic8\", \"Topic8\", \"Topic8\", \"Topic8\", \"Topic8\", \"Topic8\", \"Topic8\", \"Topic8\", \"Topic8\", \"Topic8\"], \"logprob\": [30.0, 29.0, 28.0, 27.0, 26.0, 25.0, 24.0, 23.0, 22.0, 21.0, 20.0, 19.0, 18.0, 17.0, 16.0, 15.0, 14.0, 13.0, 12.0, 11.0, 10.0, 9.0, 8.0, 7.0, 6.0, 5.0, 4.0, 3.0, 2.0, 1.0, -2.6393001079559326, -3.3306000232696533, -3.394399881362915, -3.4321999549865723, -3.892699956893921, -3.9846999645233154, -4.159900188446045, -4.194300174713135, -4.214200019836426, -4.309899806976318, -4.378399848937988, -4.53980016708374, -4.605800151824951, -4.662799835205078, -4.736000061035156, -4.764699935913086, -4.782700061798096, -4.798999786376953, -4.832099914550781, -4.875899791717529, -4.918900012969971, -4.991099834442139, -5.0304999351501465, -5.032400131225586, -5.037399768829346, -5.047900199890137, -5.050300121307373, -5.069900035858154, -5.075900077819824, -5.095699787139893, -4.8420000076293945, -4.1269001960754395, -2.91129994392395, -2.1802000999450684, -2.2288999557495117, -3.2074999809265137, -3.3856000900268555, -3.7960000038146973, -3.8794000148773193, -3.9144999980926514, -4.073800086975098, -4.087100028991699, -4.143099784851074, -4.226200103759766, -4.321599960327148, -4.450699806213379, -4.71999979019165, -4.753799915313721, -4.809700012207031, -4.820400238037109, -4.92579984664917, -5.037799835205078, -5.049300193786621, -5.0808000564575195, -5.091100215911865, -5.09089994430542, -5.25540018081665, -5.348899841308594, -5.360499858856201, -5.452499866485596, -5.459499835968018, -5.46589994430542, -5.469600200653076, -3.4621999263763428, -2.740299940109253, -4.700900077819824, -5.339099884033203, -3.2411000728607178, -3.377500057220459, -3.420799970626831, -3.4261999130249023, -3.4711999893188477, -3.5244998931884766, -3.8945999145507812, -3.990000009536743, -4.010700225830078, -4.126100063323975, -4.166200160980225, -4.276299953460693, -4.314700126647949, -4.320099830627441, -4.331600189208984, -4.374599933624268, -4.439899921417236, -4.443299770355225, -4.493800163269043, -4.560999870300293, -4.578000068664551, -4.583700180053711, -4.614999771118164, -4.679800033569336, -4.696199893951416, -4.725500106811523, -4.742199897766113, -4.790599822998047, -4.9222002029418945, -4.927199840545654, -4.027200222015381, -4.40749979019165, -2.421299934387207, -2.6208999156951904, -2.8866000175476074, -3.2428998947143555, -3.4333999156951904, -3.4651999473571777, -3.613600015640259, -3.7632999420166016, -3.98799991607666, -4.017000198364258, -4.084000110626221, -4.123700141906738, -4.180300235748291, -4.243199825286865, -4.263999938964844, -4.317699909210205, -4.394899845123291, -4.429200172424316, -4.44890022277832, -4.4953999519348145, -4.561500072479248, -4.606500148773193, -4.622700214385986, -4.476200103759766, -4.76800012588501, -4.85860013961792, -4.935500144958496, -4.98769998550415, -4.99399995803833, -5.0279998779296875, -4.591700077056885, -3.2634999752044678, -3.402100086212158, -3.562299966812134, -3.6884000301361084, -3.786799907684326, -3.816200017929077, -4.037600040435791, -4.039899826049805, -4.135200023651123, -4.191199779510498, -4.257199764251709, -4.290299892425537, -4.365799903869629, -4.429699897766113, -4.461299896240234, -4.479000091552734, -4.495200157165527, -4.522200107574463, -4.527100086212158, -4.534800052642822, -4.536300182342529, -4.586400032043457, -4.60129976272583, -4.597499847412109, -4.613999843597412, -4.658699989318848, -4.666999816894531, -4.67080020904541, -4.734399795532227, -4.762400150299072, -4.434299945831299, -3.2476999759674072, -2.663599967956543, -2.9565999507904053, -3.248300075531006, -3.3385000228881836, -3.591099977493286, -3.6998000144958496, -3.769200086593628, -3.8606998920440674, -3.957200050354004, -3.9827001094818115, -4.091100215911865, -4.117199897766113, -4.142000198364258, -4.244999885559082, -4.310400009155273, -4.323599815368652, -4.472599983215332, -4.562900066375732, -4.640399932861328, -4.655200004577637, -4.738900184631348, -4.825699806213379, -4.825900077819824, -4.826099872589111, -4.882299900054932, -4.917200088500977, -4.950300216674805, -4.786399841308594, -5.097300052642822, -5.10699987411499, -3.4219000339508057, -2.679500102996826, -2.910599946975708, -3.412600040435791, -3.7425999641418457, -3.7987000942230225, -3.803800106048584, -4.135700225830078, -4.1828999519348145, -4.218299865722656, -4.231500148773193, -4.317500114440918, -4.36959981918335, -4.2221999168396, -4.427599906921387, -4.491099834442139, -4.5046000480651855, -4.554500102996826, -4.551199913024902, -4.582099914550781, -4.585400104522705, -4.618599891662598, -4.604100227355957, -4.493500232696533, -4.68120002746582, -4.617800235748291, -4.714300155639648, -4.744900226593018, -4.76639986038208, -4.873799800872803, -4.875400066375732, -2.560800075531006, -2.802000045776367, -2.8956000804901123, -3.0151000022888184, -3.6026999950408936, -3.8371999263763428, -4.061299800872803, -4.073800086975098, -4.0742998123168945, -4.202600002288818, -4.22599983215332, -4.393400192260742, -4.419600009918213, -4.634799957275391, -4.706200122833252, -4.7220001220703125, -4.789599895477295, -4.894199848175049, -4.947700023651123, -4.991199970245361, -4.972400188446045, -5.072700023651123, -5.085899829864502, -5.1149001121521, -5.1209001541137695, -5.1234002113342285, -5.124599933624268, -5.1321001052856445, -5.168099880218506, -5.183199882507324], \"loglift\": [30.0, 29.0, 28.0, 27.0, 26.0, 25.0, 24.0, 23.0, 22.0, 21.0, 20.0, 19.0, 18.0, 17.0, 16.0, 15.0, 14.0, 13.0, 12.0, 11.0, 10.0, 9.0, 8.0, 7.0, 6.0, 5.0, 4.0, 3.0, 2.0, 1.0, 1.44, 1.4391, 1.439, 1.4389, 1.4376, 1.4373, 1.4366, 1.4364, 1.4363, 1.4359, 1.4355, 1.4345, 1.4341, 1.4337, 1.4331, 1.4329, 1.4328, 1.4326, 1.4323, 1.432, 1.4316, 1.4309, 1.4304, 1.4304, 1.4304, 1.4303, 1.4302, 1.43, 1.43, 1.4297, 1.4279, 1.4165, 1.3818, 1.7225, 1.7225, 1.721, 1.7205, 1.7191, 1.7188, 1.7186, 1.7178, 1.7177, 1.7174, 1.7169, 1.7162, 1.7152, 1.7127, 1.7124, 1.7117, 1.7116, 1.7103, 1.7088, 1.7086, 1.7081, 1.708, 1.7079, 1.7053, 1.7036, 1.7033, 1.7014, 1.7013, 1.7011, 1.701, 1.6361, 1.5012, 1.6205, 1.6783, 1.8613, 1.8609, 1.8608, 1.8608, 1.8606, 1.8604, 1.8588, 1.8583, 1.8579, 1.8574, 1.8572, 1.8564, 1.8561, 1.856, 1.8559, 1.8556, 1.855, 1.8546, 1.8545, 1.8538, 1.8537, 1.8536, 1.8533, 1.8526, 1.8524, 1.852, 1.8518, 1.8512, 1.8494, 1.8493, 1.7847, 1.7579, 2.0949, 2.0946, 2.094, 2.0929, 2.0921, 2.092, 2.0913, 2.0905, 2.089, 2.0887, 2.0882, 2.0879, 2.0874, 2.0868, 2.0865, 2.0859, 2.0852, 2.0848, 2.0846, 2.084, 2.0832, 2.0826, 2.0824, 2.0818, 2.0801, 2.0787, 2.077, 2.0762, 2.076, 2.0752, 1.9905, 2.3629, 2.3622, 2.3613, 2.3604, 2.3597, 2.3594, 2.3574, 2.3574, 2.3564, 2.3557, 2.3549, 2.3545, 2.3534, 2.3525, 2.352, 2.3518, 2.3515, 2.351, 2.351, 2.3509, 2.3508, 2.3499, 2.3497, 2.3496, 2.3493, 2.3487, 2.3485, 2.3484, 2.3472, 2.3459, 2.3442, 2.1976, 2.4356, 2.4346, 2.4333, 2.4329, 2.4313, 2.4305, 2.4299, 2.4291, 2.428, 2.4279, 2.4267, 2.4264, 2.4261, 2.4248, 2.4239, 2.4237, 2.4214, 2.4198, 2.4183, 2.418, 2.4163, 2.4143, 2.4143, 2.4143, 2.4129, 2.4121, 2.4112, 2.4082, 2.407, 2.4067, 0.8196, 2.5477, 2.5469, 2.5443, 2.5417, 2.5412, 2.5411, 2.5373, 2.5367, 2.5362, 2.536, 2.5347, 2.5338, 2.5332, 2.5328, 2.5316, 2.5311, 2.5304, 2.5303, 2.5298, 2.5295, 2.529, 2.5288, 2.5282, 2.5276, 2.5272, 2.5268, 2.5261, 2.5256, 2.5227, 2.5227, 3.0341, 3.0329, 3.0323, 3.0315, 3.0257, 3.0223, 3.0183, 3.018, 3.018, 3.0152, 3.0146, 3.0104, 3.0096, 3.0027, 3.0001, 2.9995, 2.9969, 2.9914, 2.9898, 2.9876, 2.9844, 2.9835, 2.9827, 2.9812, 2.9807, 2.9807, 2.9807, 2.9802, 2.9781, 2.9771]}, \"token.table\": {\"Topic\": [8, 7, 2, 1, 3, 7, 6, 6, 7, 1, 1, 3, 2, 7, 7, 3, 8, 8, 8, 2, 2, 6, 2, 2, 4, 7, 7, 1, 1, 8, 7, 1, 2, 5, 3, 6, 5, 5, 3, 8, 4, 2, 3, 6, 2, 2, 1, 6, 2, 3, 6, 4, 7, 3, 2, 5, 1, 5, 4, 1, 2, 8, 6, 5, 4, 7, 6, 8, 1, 5, 6, 8, 4, 4, 3, 5, 5, 7, 7, 2, 4, 8, 5, 5, 5, 1, 5, 4, 1, 1, 2, 4, 6, 4, 1, 2, 6, 6, 2, 8, 8, 7, 6, 8, 3, 1, 3, 6, 3, 3, 3, 8, 2, 4, 3, 4, 1, 1, 1, 2, 6, 4, 5, 5, 4, 3, 5, 4, 6, 7, 5, 5, 7, 7, 2, 7, 5, 4, 3, 2, 5, 7, 2, 6, 7, 7, 8, 2, 1, 7, 5, 5, 8, 8, 1, 2, 6, 7, 7, 8, 7, 3, 4, 1, 1, 2, 3, 4, 8, 5, 4, 7, 1, 8, 8, 6, 8, 5, 6, 8, 1, 6, 7, 5, 1, 3, 6, 4, 3, 7, 8, 1, 4, 3, 1, 4, 2, 8, 6, 6, 2, 4, 2, 1, 1, 2, 4, 1, 3, 2, 2, 6, 8, 3, 6, 3, 4, 5, 7, 7, 5, 7, 5, 5, 6, 6, 1, 5, 1, 4, 8, 3, 1, 6, 4, 3, 4, 6, 3, 4, 5, 1, 4, 5, 1, 3, 2, 8, 3, 3, 6, 1, 5, 1, 3, 7, 2, 8, 3, 2, 8, 2], \"Freq\": [0.9687481221685823, 0.9913386208139161, 0.9783883961995409, 0.9889714868167022, 0.9957048300889212, 0.9805526684135681, 0.9783035820963167, 0.9856760228285826, 0.9883626189999506, 0.9868154360109502, 0.9422692082026588, 0.05596141364927509, 0.9453151357645962, 0.02305646672596576, 0.9717648781117787, 0.9898682763228722, 0.9453058304910688, 0.9643182884593215, 0.9339456133937556, 0.9993651803987155, 0.97915301929938, 0.979223766526086, 0.9939563297375571, 0.9933985490785953, 0.982119827805041, 0.9862624624560784, 0.9710474192286221, 0.9966792787513238, 0.9882397364571767, 0.980078854491372, 0.9929492753774198, 0.996841507533946, 0.8967443976318819, 0.0919737843725007, 0.9881800250050454, 0.9867554142534406, 0.9829302701466717, 0.9938770276750489, 0.998827390251191, 0.9569682831866093, 0.9913921156520028, 0.9902615114457207, 0.9966945709065078, 0.9956314953524944, 0.9848949889234487, 0.9675736558815006, 0.9968200131436904, 0.9857774439888841, 0.9933392884714384, 0.9254994275895776, 0.06906712146190877, 0.9903077521180799, 0.9885852206317427, 0.9922329509181089, 0.9894007758598862, 0.9757641622027011, 0.9954027273794296, 0.9926113005850611, 0.9888106495316753, 0.9827767655580838, 0.9846726675778892, 0.9790885242480966, 0.9799814939384552, 0.9925738220806962, 0.9949129082263043, 0.9758351607982226, 0.991313814924564, 0.9648547939975268, 0.15317399064734535, 0.8424569485603994, 0.9903213539272995, 0.986001679044439, 0.9796614985654338, 0.9990060340731416, 0.9819814421282642, 0.9834874101869547, 0.9944964718295959, 0.9876983621853416, 0.9736248491875307, 0.9908395266097395, 0.9855626070546813, 0.9649088697167452, 0.9936786124401724, 0.9848391238401659, 0.9842150874454013, 0.9961531150696816, 0.9962217807548468, 0.9904236895362839, 0.9866906919742587, 0.08120971318249279, 0.9169930113523144, 0.9941842595448612, 0.9741692152265441, 0.9939129432584382, 0.9931683514698775, 0.9829521810935911, 0.9752782938589188, 0.9906764821101791, 0.9804607098216256, 0.9956081816333711, 0.9545790650205828, 0.9726337692713891, 0.975847908028282, 0.9844909283898553, 0.9964774874159761, 0.0983528927566818, 0.8950113240858044, 0.979621882361976, 0.9864003849448083, 0.988872057806042, 0.9939515524561624, 0.9400377306622925, 0.9821653165087719, 0.9896460972085391, 0.9941431451669364, 0.983607387305409, 0.9915608065244366, 0.9973953731972512, 0.9927177138965404, 0.9824543708694441, 0.9925089626291416, 0.9860639680156627, 0.9776194699394009, 0.9922278018904452, 0.9720788874383323, 0.9955475107705265, 0.9829323017405079, 0.9903400143325793, 0.9933322527481141, 0.9900619450042519, 0.9899059946362764, 0.9925581334008212, 0.9926889809931237, 0.9982173113230647, 0.9778756309081387, 0.9833994819387482, 0.9904328427160474, 0.992772002170656, 0.9970056281080549, 0.9957965098254663, 0.9940835838811093, 0.977286864257812, 0.9928292802340852, 0.9798351102447217, 0.9954332379216041, 0.9834191108141523, 0.9861018684771139, 0.9933825634672102, 0.9872683124949863, 0.9866716235739145, 0.9887097298507099, 0.9914126647562361, 0.9492648815193419, 0.9814734740859073, 0.9913092124601821, 0.9943834793506424, 0.9852245817303772, 0.98588716312809, 0.9784766324047736, 0.925867527778046, 0.9969331876546135, 0.9963743318479419, 0.998555725172457, 0.9954749476992444, 0.9768310397214538, 0.021120671129112516, 0.9883740690732262, 0.9981551512846606, 0.9580230346341827, 0.9918875423728922, 0.9954402342885796, 0.9692596955645884, 0.9895209997991905, 0.9692178091718577, 0.9235856755177798, 0.9889164298281794, 0.9772921926099641, 0.9949371612284812, 0.9875759787338969, 0.9438274319650777, 0.9878222439279165, 0.96354472589834, 0.9801161982173267, 0.9848364417576302, 0.9848566397842594, 0.9956166614958287, 0.9755686152754379, 0.9904091877596731, 0.9852717585473069, 0.9769667529036333, 0.9840444094056593, 0.9965571101916952, 0.9797908893710079, 0.9845547907653972, 0.9990995335705017, 0.9929720365869265, 0.9955436100768621, 0.9844854254254743, 0.993612239317711, 0.9948899074215443, 0.9832587849579729, 0.978945195209888, 0.9948846939872623, 0.9912604872226659, 0.9950771042235955, 0.9908423445782799, 0.9848503635077193, 0.9956236656721648, 0.9918100822398904, 0.9957787773660938, 0.8015067350396378, 0.19822209576249106, 0.9746044637499802, 0.9814107676080045, 0.9763391479030061, 0.9937550335239149, 0.9914229295730712, 0.9781404732710652, 0.9804703346078693, 0.977288165374709, 0.9891146433056717, 0.9803718489830376, 0.9815466558702503, 0.9839524697755718, 0.9977056674951431, 0.9929194387970617, 0.9986834978409596, 0.9896112181832316, 0.08952449177001963, 0.8952449177001962, 0.9951635870022105, 0.994115715435863, 0.9984618486841931, 0.9943701176793539, 0.9958612253711071, 0.9955272696684104, 0.978615740538713, 0.9794311692659848, 0.9957315297709095, 0.9866710839347553, 0.9780428038493103, 0.9941243874251428, 0.9957994782716034, 0.9805672066568727, 0.9933012861319626, 0.995019221218525, 0.9964540450673077, 0.9928105774964623, 0.9959150734061167, 0.9919926298190076, 0.9847555918184558, 0.9839207527505999, 0.9701771157226788, 0.9915864013458088, 0.9785681025157199, 0.9875325324914295, 0.9989850818635633, 0.92682438345211, 0.9899527796570052, 0.9921848435151976, 0.9964872948234401, 0.9921867809359263], \"Term\": [\"ability\", \"accelerate\", \"acceleration\", \"adult\", \"air\", \"amg\", \"amount\", \"answer\", \"apple\", \"assistance\", \"audi\", \"audi\", \"auto\", \"auto\", \"baby\", \"base\", \"battery\", \"beam\", \"becomes\", \"bmw\", \"bottom\", \"boy\", \"brake\", \"brand\", \"break\", \"buck\", \"business\", \"button\", \"buy\", \"buyer\", \"call\", \"camera\", \"center\", \"center\", \"challenge\", \"change\", \"chassis\", \"city\", \"class\", \"clearance\", \"clutch\", \"cockpit\", \"com\", \"comfort\", \"comment\", \"competition\", \"control\", \"cool\", \"coop\", \"corner\", \"corner\", \"cost\", \"country\", \"coupe\", \"crossover\", \"cruise\", \"cup\", \"cut\", \"cylinder\", \"dart\", \"day\", \"dealership\", \"departure\", \"design\", \"diesel\", \"disclosure\", \"display\", \"dollar\", \"door\", \"door\", \"drive\", \"efficiency\", \"end\", \"engine\", \"enjoy\", \"event\", \"everything\", \"example\", \"exhaust\", \"experience\", \"face\", \"factor\", \"family\", \"fan\", \"fast\", \"feature\", \"feel\", \"figure\", \"fit\", \"foot\", \"foot\", \"forget\", \"friend\", \"fuel\", \"functionality\", \"gallon\", \"gas\", \"gear\", \"gearbox\", \"generation\", \"golf\", \"goody\", \"grip\", \"ground\", \"guy\", \"hand\", \"hand\", \"handle\", \"head\", \"headlight\", \"headroom\", \"heart\", \"hell\", \"highway\", \"hood\", \"horsepower\", \"hour\", \"inch\", \"interior\", \"issue\", \"jaguar\", \"journalist\", \"knee\", \"lane\", \"lease\", \"leg\", \"let\", \"level\", \"life\", \"light\", \"line\", \"liter\", \"look\", \"luxury\", \"manufacturer\", \"massage\", \"material\", \"maur\", \"mercedes\", \"mile\", \"mind\", \"mode\", \"model\", \"moment\", \"money\", \"movie\", \"mpg\", \"navigation\", \"news\", \"noise\", \"none\", \"nothing\", \"notice\", \"number\", \"offer\", \"okay\", \"one\", \"option\", \"order\", \"output\", \"package\", \"passenger\", \"performance\", \"phone\", \"point\", \"point\", \"position\", \"power\", \"predecessor\", \"premium\", \"price\", \"prius\", \"problem\", \"product\", \"production\", \"push\", \"put\", \"quality\", \"question\", \"radius\", \"rear\", \"rent\", \"response\", \"responsibility\", \"rest\", \"ride\", \"road\", \"roman\", \"roof\", \"rpm\", \"safety\", \"screen\", \"scroll\", \"sea\", \"seat\", \"second\", \"sedan\", \"segment\", \"sense\", \"setting\", \"shift\", \"shifter\", \"siri\", \"size\", \"someone\", \"sort\", \"sound\", \"space\", \"speaker\", \"speed\", \"sport\", \"sport\", \"sporty\", \"spot\", \"spring\", \"standard\", \"start\", \"state\", \"station\", \"stop\", \"style\", \"summer\", \"sunroof\", \"supercar\", \"suspension\", \"suv\", \"system\", \"take\", \"talk\", \"talk\", \"technology\", \"tfl\", \"thing\", \"tire\", \"torque\", \"track\", \"traction\", \"traffic\", \"transmission\", \"treat\", \"truck\", \"trunk\", \"turbo\", \"tyre\", \"use\", \"utility\", \"vehicle\", \"version\", \"video\", \"view\", \"visibility\", \"wagon\", \"water\", \"way\", \"week\", \"weight\", \"wheel\", \"wind\", \"word\", \"world\", \"year\", \"yes\"]}, \"R\": 30, \"lambda.step\": 0.01, \"plot.opts\": {\"xlab\": \"PC1\", \"ylab\": \"PC2\"}, \"topic.order\": [1, 6, 4, 2, 5, 7, 8, 3]};\n",
       "\n",
       "function LDAvis_load_lib(url, callback){\n",
       "  var s = document.createElement('script');\n",
       "  s.src = url;\n",
       "  s.async = true;\n",
       "  s.onreadystatechange = s.onload = callback;\n",
       "  s.onerror = function(){console.warn(\"failed to load library \" + url);};\n",
       "  document.getElementsByTagName(\"head\")[0].appendChild(s);\n",
       "}\n",
       "\n",
       "if(typeof(LDAvis) !== \"undefined\"){\n",
       "   // already loaded: just create the visualization\n",
       "   !function(LDAvis){\n",
       "       new LDAvis(\"#\" + \"ldavis_el1627223407455875048461291212\", ldavis_el1627223407455875048461291212_data);\n",
       "   }(LDAvis);\n",
       "}else if(typeof define === \"function\" && define.amd){\n",
       "   // require.js is available: use it to load d3/LDAvis\n",
       "   require.config({paths: {d3: \"https://cdnjs.cloudflare.com/ajax/libs/d3/3.5.5/d3.min\"}});\n",
       "   require([\"d3\"], function(d3){\n",
       "      window.d3 = d3;\n",
       "      LDAvis_load_lib(\"https://cdn.rawgit.com/bmabey/pyLDAvis/files/ldavis.v1.0.0.js\", function(){\n",
       "        new LDAvis(\"#\" + \"ldavis_el1627223407455875048461291212\", ldavis_el1627223407455875048461291212_data);\n",
       "      });\n",
       "    });\n",
       "}else{\n",
       "    // require.js not available: dynamically load d3 & LDAvis\n",
       "    LDAvis_load_lib(\"https://cdnjs.cloudflare.com/ajax/libs/d3/3.5.5/d3.min.js\", function(){\n",
       "         LDAvis_load_lib(\"https://cdn.rawgit.com/bmabey/pyLDAvis/files/ldavis.v1.0.0.js\", function(){\n",
       "                 new LDAvis(\"#\" + \"ldavis_el1627223407455875048461291212\", ldavis_el1627223407455875048461291212_data);\n",
       "            })\n",
       "         });\n",
       "}\n",
       "</script>"
      ],
      "text/plain": [
       "PreparedData(topic_coordinates=              x         y  topics  cluster       Freq\n",
       "topic                                                \n",
       "0     -0.192192  0.322707       1        1  23.668774\n",
       "5      0.331231  0.134068       2        1  17.846987\n",
       "3     -0.129173  0.003431       3        1  15.504032\n",
       "1     -0.078883 -0.210120       4        1  12.288990\n",
       "4     -0.032790 -0.072686       5        1   9.370076\n",
       "6      0.134537 -0.025578       6        1   8.730459\n",
       "7     -0.018444 -0.089301       7        1   7.801089\n",
       "2     -0.014286 -0.062521       8        1   4.789592, topic_info=             Term        Freq       Total Category  logprob  loglift\n",
       "242         wheel  976.000000  976.000000  Default  30.0000  30.0000\n",
       "0             bmw  930.000000  930.000000  Default  29.0000  29.0000\n",
       "156          seat  818.000000  818.000000  Default  28.0000  28.0000\n",
       "17          power  528.000000  528.000000  Default  27.0000  27.0000\n",
       "169         sport  696.000000  696.000000  Default  26.0000  26.0000\n",
       "...           ...         ...         ...      ...      ...      ...\n",
       "2812    clearance   13.804470   14.629534   Topic8  -5.1234   2.9807\n",
       "1023  predecessor   13.788934   14.613427   Topic8  -5.1246   2.9807\n",
       "463        dollar   13.685210   14.509955   Topic8  -5.1321   2.9802\n",
       "610          wind   13.201381   14.026390   Topic8  -5.1681   2.9781\n",
       "686         heart   13.003143   13.829232   Topic8  -5.1832   2.9771\n",
       "\n",
       "[283 rows x 6 columns], token_table=      Topic      Freq          Term\n",
       "term                               \n",
       "1405      8  0.968748       ability\n",
       "304       7  0.991339    accelerate\n",
       "972       2  0.978388  acceleration\n",
       "512       1  0.988971         adult\n",
       "352       3  0.995705           air\n",
       "...     ...       ...           ...\n",
       "610       8  0.926824          wind\n",
       "1035      3  0.989953          word\n",
       "243       2  0.992185         world\n",
       "36        8  0.996487          year\n",
       "109       2  0.992187           yes\n",
       "\n",
       "[262 rows x 3 columns], R=30, lambda_step=0.01, plot_opts={'xlab': 'PC1', 'ylab': 'PC2'}, topic_order=[1, 6, 4, 2, 5, 7, 8, 3])"
      ]
     },
     "execution_count": 16,
     "metadata": {},
     "output_type": "execute_result"
    }
   ],
   "source": [
    "bow_vis"
   ]
  },
  {
   "cell_type": "raw",
   "id": "a36b5162",
   "metadata": {},
   "source": [
    "this also is overlapping. So we will try other numbers."
   ]
  },
  {
   "cell_type": "code",
   "execution_count": 17,
   "id": "0f78c8bd",
   "metadata": {},
   "outputs": [
    {
     "name": "stdout",
     "output_type": "stream",
     "text": [
      "\n",
      "Perplexity:  -7.859085413299386\n",
      "\n",
      "Coherence Score:  0.36017989654150556\n"
     ]
    }
   ],
   "source": [
    "bow_vis, bow_lda_model = lda_modelling(bow_corpus, processed_train_text, dictionary, noof_topics=5)"
   ]
  },
  {
   "cell_type": "code",
   "execution_count": 18,
   "id": "51ef3b33",
   "metadata": {},
   "outputs": [
    {
     "data": {
      "text/html": [
       "\n",
       "<link rel=\"stylesheet\" type=\"text/css\" href=\"https://cdn.rawgit.com/bmabey/pyLDAvis/files/ldavis.v1.0.0.css\">\n",
       "\n",
       "\n",
       "<div id=\"ldavis_el1627223407455872801957299257\"></div>\n",
       "<script type=\"text/javascript\">\n",
       "\n",
       "var ldavis_el1627223407455872801957299257_data = {\"mdsDat\": {\"x\": [-0.1421983486084544, -0.04256353285656357, -0.15727787273096414, 0.3178841382691894, 0.02415561592679283], \"y\": [-0.2849747446321216, 0.20092019663887176, 0.1462100738899199, -0.025445435895990933, -0.036710090000678874], \"topics\": [1, 2, 3, 4, 5], \"cluster\": [1, 1, 1, 1, 1], \"Freq\": [24.12335351861648, 21.077297848260788, 20.499605508642233, 18.98973932843791, 15.31000379604259]}, \"tinfo\": {\"Term\": [\"wheel\", \"seat\", \"sport\", \"bmw\", \"power\", \"audi\", \"engine\", \"performance\", \"system\", \"vehicle\", \"comfort\", \"inch\", \"speed\", \"package\", \"class\", \"control\", \"price\", \"torque\", \"air\", \"foot\", \"suspension\", \"guy\", \"mercedes\", \"luxury\", \"mile\", \"transmission\", \"video\", \"turbo\", \"brand\", \"technology\", \"seat\", \"system\", \"feature\", \"point\", \"button\", \"use\", \"okay\", \"light\", \"space\", \"style\", \"screen\", \"center\", \"phone\", \"news\", \"interior\", \"country\", \"rear\", \"buy\", \"fit\", \"trunk\", \"way\", \"rest\", \"problem\", \"functionality\", \"cup\", \"color\", \"assistance\", \"issue\", \"wagon\", \"hatchback\", \"thing\", \"adult\", \"control\", \"foot\", \"dart\", \"size\", \"video\", \"air\", \"camera\", \"com\", \"ride\", \"push\", \"mind\", \"base\", \"brake\", \"change\", \"word\", \"hand\", \"headlight\", \"hour\", \"money\", \"head\", \"lane\", \"passenger\", \"track\", \"view\", \"anything\", \"position\", \"headroom\", \"sea\", \"roof\", \"leg\", \"call\", \"spot\", \"comment\", \"cruise\", \"vehicle\", \"tfl\", \"bmw\", \"corner\", \"audi\", \"comfort\", \"class\", \"package\", \"mercedes\", \"luxury\", \"transmission\", \"design\", \"technology\", \"everything\", \"siri\", \"feel\", \"coop\", \"world\", \"generation\", \"sedan\", \"coupe\", \"hood\", \"suv\", \"line\", \"quality\", \"navigation\", \"city\", \"ground\", \"yes\", \"fan\", \"sense\", \"cut\", \"answer\", \"experience\", \"challenge\", \"door\", \"bmw\", \"wheel\", \"sport\", \"inch\", \"speed\", \"price\", \"suspension\", \"guy\", \"turbo\", \"second\", \"tire\", \"setting\", \"version\", \"question\", \"clutch\", \"display\", \"face\", \"shift\", \"crossover\", \"gear\", \"life\", \"cool\", \"end\", \"traction\", \"summer\", \"jaguar\", \"drive\", \"acceleration\", \"example\", \"utility\", \"mode\", \"model\", \"option\", \"roman\", \"power\", \"engine\", \"torque\", \"mile\", \"brand\", \"fuel\", \"year\", \"level\", \"start\", \"cost\", \"cylinder\", \"family\", \"horsepower\", \"journalist\", \"forget\", \"highway\", \"diesel\", \"break\", \"gallon\", \"sound\", \"supercar\", \"offer\", \"look\", \"fast\", \"maur\", \"state\", \"segment\", \"figure\", \"water\", \"number\", \"performance\", \"talk\"], \"Freq\": [876.0, 752.0, 629.0, 949.0, 519.0, 532.0, 425.0, 326.0, 377.0, 359.0, 300.0, 271.0, 263.0, 264.0, 255.0, 346.0, 228.0, 189.0, 223.0, 324.0, 205.0, 204.0, 212.0, 209.0, 175.0, 203.0, 202.0, 183.0, 155.0, 184.0, 752.226090887892, 376.8481284697077, 195.95796939466862, 174.27408566150737, 164.487482863225, 155.7896201368964, 163.50296870957902, 145.29984575351926, 141.5754055187593, 131.60255298329648, 132.0428873736101, 97.46816244676727, 89.86682466173399, 92.4330372547608, 88.25154581877568, 98.1802496643482, 86.82840972861678, 83.96987855363048, 80.4077300119251, 77.02624262801253, 71.6572106903154, 68.43084987530082, 66.2485259334999, 68.74266324878187, 65.83722171237905, 62.18979840776026, 64.50464996465124, 59.95301843509722, 67.4272214754223, 58.59518391653819, 210.90561438474072, 104.35570599678019, 315.37797382169657, 286.2270304269217, 80.60866336090139, 96.53194492666219, 201.29984450326882, 222.8873394429533, 145.02220344275312, 138.9958951225388, 126.37814345521494, 124.20736718412721, 108.8659019927708, 105.96836069012157, 103.76212157623264, 103.95168106330868, 94.93389718123855, 91.19658094133187, 91.36243836765544, 90.78719552807864, 90.14025751715961, 86.06232508956569, 84.54291374735716, 80.62971776686084, 89.75048924036084, 76.40106588240589, 72.95102906862545, 70.2328159426593, 69.8316573769458, 71.402980507123, 67.6849631595685, 62.39669616194299, 61.39730993260838, 59.61345674104673, 57.71053750602174, 54.528851719149394, 352.6060294910258, 121.92448349061868, 818.6803121838666, 93.30069694777028, 531.7650241549894, 299.8656718043056, 255.200783726829, 263.46650672937704, 212.07548371139563, 209.1445638048638, 202.70403874825809, 175.4470878775535, 183.53186548781758, 152.732426263856, 144.41674555419613, 130.14466849835193, 134.7336262182076, 124.02023427178224, 116.58799283033207, 112.7387732100693, 105.34882073208335, 86.74999231298202, 80.22914871597986, 80.91325608605165, 73.41334491149857, 68.47231332288908, 69.37080365543858, 64.79505372961222, 61.6380213786018, 62.85431645919532, 61.703362770259886, 58.27248697515189, 57.03163805571062, 52.79742902543528, 76.2346295022195, 147.83920421019207, 110.92139183897748, 875.9631094606019, 628.4818351698566, 270.9459486310938, 262.43679436886293, 227.76890465636282, 204.32165630363622, 203.31706009973925, 182.38089998690324, 157.2330087616332, 152.63722120687572, 139.45601929670897, 119.96607921356332, 97.18534921057577, 89.24560364407694, 82.76456559053976, 83.78116997745909, 66.8490028343434, 69.09242756200413, 64.03070453221946, 65.70602580143316, 62.466225725037965, 58.29255190826245, 57.34702090111344, 56.12343155758582, 74.9004467561761, 52.795414558587964, 49.754489849767786, 50.99000178698761, 52.810717930821745, 46.815805875298075, 155.17651968998922, 81.6500470099099, 53.45621554107189, 518.5347435696993, 424.7450047504202, 188.4789758104109, 174.33415072966255, 154.8298887378038, 135.54441166268532, 131.89437596000764, 108.27837764116744, 105.18631041031267, 98.36180948615396, 94.54905483054456, 92.29015197337733, 72.09676510672831, 77.84484782874658, 82.060801294362, 69.66032118090497, 68.31181226874166, 65.20321161643639, 63.29344272909791, 61.0393632699248, 59.41331921137613, 54.87743438009662, 51.74495825274179, 49.99720102463773, 49.59770084313651, 45.59083029486261, 46.83720944735224, 39.86448391573629, 39.29084802596536, 37.47106414798636, 319.7057769270097, 61.85222658939389], \"Total\": [876.0, 752.0, 629.0, 949.0, 519.0, 532.0, 425.0, 326.0, 377.0, 359.0, 300.0, 271.0, 263.0, 264.0, 255.0, 346.0, 228.0, 189.0, 223.0, 324.0, 205.0, 204.0, 212.0, 209.0, 175.0, 203.0, 202.0, 183.0, 155.0, 184.0, 752.9380891308217, 377.56707056020826, 196.6717244478041, 174.99032638493148, 165.19839376872167, 156.5018669612114, 164.25378518439516, 146.01704302775428, 142.28376630354398, 132.35528536425267, 132.9079806521267, 98.1777889520964, 90.57455330975753, 93.1815980024867, 88.97078375895526, 98.9821006974433, 87.54920611985439, 84.71637787581057, 81.12533557904688, 77.74585026108272, 72.3787189377961, 69.14124214471077, 66.95656091072412, 69.48460631765296, 66.56108172084753, 62.90020073067455, 65.2686183375176, 60.67386295082734, 68.25090955277514, 59.32984826985692, 215.05104761580654, 105.91741865329016, 346.5127353812381, 324.5043172310654, 84.44425666878129, 111.16761696809372, 202.02946054011025, 223.99323184323242, 145.75424053963144, 139.7697985189284, 127.12548910339164, 124.97331514303502, 109.61579613211241, 106.71550650012396, 104.49411840305457, 104.71345707709007, 95.67657171225027, 91.92823761739949, 92.09816493879426, 91.5199141859631, 90.87213014467748, 86.79250938382118, 85.28043649898835, 81.35698923996307, 90.57471207382699, 77.12870148425097, 73.68703271080155, 70.96428299266103, 70.56561583279273, 72.16025890169917, 68.41549972029225, 63.13801807618455, 62.1340813044312, 60.339131558142775, 58.44816616841533, 55.25520521954053, 359.41671084672276, 124.51955206589763, 949.382460994365, 128.39608862745553, 532.5092544193684, 300.61648334598135, 255.93649105460028, 264.2365247479923, 212.81386896400426, 209.88943817373627, 203.48102612348586, 176.18516222331135, 184.33402403989973, 153.47802869545924, 145.16741095896836, 130.8842012617242, 135.50070578892814, 124.76595063513265, 117.33002328520824, 113.49136155209374, 106.09247978434749, 87.52622761296607, 80.96678470490126, 81.67151441233483, 74.14585680439346, 69.22618022420636, 70.14833749429697, 65.5505671148798, 62.37762376011915, 63.61516461280511, 62.461722701897166, 59.03730081950671, 57.799085339453896, 53.53819481316881, 77.54375273244722, 212.75766161469258, 949.382460994365, 876.7230533173752, 629.24575805658, 271.7048448247733, 263.1913382810807, 228.5282583959464, 205.07430278182105, 204.08838048641343, 183.14593043856644, 157.9927377321341, 153.39772761072294, 140.23055994670958, 120.73160804147494, 97.9602008843745, 89.9988712811421, 83.52061926635267, 84.56228996745456, 67.60105433390449, 69.90463888780903, 64.80300462330389, 66.5052869798309, 63.23849130432593, 59.047167494492754, 58.108356145375, 56.90330890362913, 75.98230231051653, 53.558903394325085, 50.511323788027006, 51.776949230832464, 53.63085083116154, 47.57110672806096, 161.41874780199188, 84.12486725485502, 68.60818443610809, 519.2948195320837, 425.4960583476782, 189.26360022154358, 175.0839468304007, 155.6122550953048, 136.29781881823783, 132.65423552536066, 109.03249057620097, 105.94347852136497, 99.12416063650659, 95.30090697047102, 93.07201206638858, 72.84975780370745, 78.66673441917943, 82.94236505932093, 70.42495199577598, 69.06205982620158, 65.96429724660959, 64.04612608869785, 61.79336024556219, 60.17383143267955, 55.66190050945175, 52.50614981070256, 50.76402199944797, 50.43016810783537, 46.35857434456535, 47.63643233153582, 40.6307610803359, 40.06503423678692, 38.23050928969212, 326.385685438216, 64.75130207306046], \"Category\": [\"Default\", \"Default\", \"Default\", \"Default\", \"Default\", \"Default\", \"Default\", \"Default\", \"Default\", \"Default\", \"Default\", \"Default\", \"Default\", \"Default\", \"Default\", \"Default\", \"Default\", \"Default\", \"Default\", \"Default\", \"Default\", \"Default\", \"Default\", \"Default\", \"Default\", \"Default\", \"Default\", \"Default\", \"Default\", \"Default\", \"Topic1\", \"Topic1\", \"Topic1\", \"Topic1\", \"Topic1\", \"Topic1\", \"Topic1\", \"Topic1\", \"Topic1\", \"Topic1\", \"Topic1\", \"Topic1\", \"Topic1\", \"Topic1\", \"Topic1\", \"Topic1\", \"Topic1\", \"Topic1\", \"Topic1\", \"Topic1\", \"Topic1\", \"Topic1\", \"Topic1\", \"Topic1\", \"Topic1\", \"Topic1\", \"Topic1\", \"Topic1\", \"Topic1\", \"Topic1\", \"Topic1\", \"Topic1\", \"Topic1\", \"Topic1\", \"Topic1\", \"Topic1\", \"Topic2\", \"Topic2\", \"Topic2\", \"Topic2\", \"Topic2\", \"Topic2\", \"Topic2\", \"Topic2\", \"Topic2\", \"Topic2\", \"Topic2\", \"Topic2\", \"Topic2\", \"Topic2\", \"Topic2\", \"Topic2\", \"Topic2\", \"Topic2\", \"Topic2\", \"Topic2\", \"Topic2\", \"Topic2\", \"Topic2\", \"Topic2\", \"Topic2\", \"Topic2\", \"Topic2\", \"Topic2\", \"Topic2\", \"Topic2\", \"Topic2\", \"Topic2\", \"Topic2\", \"Topic2\", \"Topic3\", \"Topic3\", \"Topic3\", \"Topic3\", \"Topic3\", \"Topic3\", \"Topic3\", \"Topic3\", \"Topic3\", \"Topic3\", \"Topic3\", \"Topic3\", \"Topic3\", \"Topic3\", \"Topic3\", \"Topic3\", \"Topic3\", \"Topic3\", \"Topic3\", \"Topic3\", \"Topic3\", \"Topic3\", \"Topic3\", \"Topic3\", \"Topic3\", \"Topic3\", \"Topic3\", \"Topic3\", \"Topic3\", \"Topic3\", \"Topic3\", \"Topic3\", \"Topic3\", \"Topic4\", \"Topic4\", \"Topic4\", \"Topic4\", \"Topic4\", \"Topic4\", \"Topic4\", \"Topic4\", \"Topic4\", \"Topic4\", \"Topic4\", \"Topic4\", \"Topic4\", \"Topic4\", \"Topic4\", \"Topic4\", \"Topic4\", \"Topic4\", \"Topic4\", \"Topic4\", \"Topic4\", \"Topic4\", \"Topic4\", \"Topic4\", \"Topic4\", \"Topic4\", \"Topic4\", \"Topic4\", \"Topic4\", \"Topic4\", \"Topic4\", \"Topic4\", \"Topic4\", \"Topic5\", \"Topic5\", \"Topic5\", \"Topic5\", \"Topic5\", \"Topic5\", \"Topic5\", \"Topic5\", \"Topic5\", \"Topic5\", \"Topic5\", \"Topic5\", \"Topic5\", \"Topic5\", \"Topic5\", \"Topic5\", \"Topic5\", \"Topic5\", \"Topic5\", \"Topic5\", \"Topic5\", \"Topic5\", \"Topic5\", \"Topic5\", \"Topic5\", \"Topic5\", \"Topic5\", \"Topic5\", \"Topic5\", \"Topic5\", \"Topic5\", \"Topic5\"], \"logprob\": [30.0, 29.0, 28.0, 27.0, 26.0, 25.0, 24.0, 23.0, 22.0, 21.0, 20.0, 19.0, 18.0, 17.0, 16.0, 15.0, 14.0, 13.0, 12.0, 11.0, 10.0, 9.0, 8.0, 7.0, 6.0, 5.0, 4.0, 3.0, 2.0, 1.0, -2.7421000003814697, -3.433300018310547, -4.087299823760986, -4.204500198364258, -4.26230001449585, -4.316699981689453, -4.2683000564575195, -4.38640022277832, -4.412300109863281, -4.485400199890137, -4.48199987411499, -4.785600185394287, -4.866799831390381, -4.838699817657471, -4.885000228881836, -4.77839994430542, -4.901199817657471, -4.934700012207031, -4.978099822998047, -5.020999908447266, -5.093299865722656, -5.1392998695373535, -5.1717000007629395, -5.134799957275391, -5.177999973297119, -5.235000133514404, -5.198400020599365, -5.271599769592285, -5.154099941253662, -5.29449987411499, -4.013800144195557, -4.717400074005127, -3.6113998889923096, -3.708400011062622, -4.975599765777588, -4.795300006866455, -3.9254000186920166, -3.823499917984009, -4.253300189971924, -4.2957000732421875, -4.390900135040283, -4.408199787139893, -4.54010009765625, -4.566999912261963, -4.588099956512451, -4.586299896240234, -4.677000045776367, -4.717199802398682, -4.7153000831604, -4.721700191497803, -4.728799819946289, -4.775100231170654, -4.792900085449219, -4.8403000831604, -4.733099937438965, -4.894199848175049, -4.940400123596191, -4.978400230407715, -4.984099864959717, -4.9618000984191895, -5.0152997970581055, -5.096700191497803, -5.112800121307373, -5.142300128936768, -5.174699783325195, -5.231400012969971, -3.364799976348877, -4.426799774169922, -2.5225000381469727, -4.694399833679199, -2.9261999130249023, -3.4990999698638916, -3.6603000164031982, -3.628499984741211, -3.845400094985962, -3.8594000339508057, -3.8905999660491943, -4.034999847412109, -3.990000009536743, -4.173699855804443, -4.229700088500977, -4.333700180053711, -4.299099922180176, -4.381899833679199, -4.443699836730957, -4.47730016708374, -4.545100212097168, -4.7393999099731445, -4.817500114440918, -4.809000015258789, -4.906300067901611, -4.97599983215332, -4.962900161743164, -5.031199932098389, -5.081099987030029, -5.061600208282471, -5.079999923706055, -5.13730001449585, -5.15880012512207, -5.235899925231934, -4.868599891662598, -4.206299781799316, -4.493599891662598, -2.350600004196167, -2.6826000213623047, -3.5239999294281006, -3.5559000968933105, -3.697499990463257, -3.8062000274658203, -3.8111000061035156, -3.919800043106079, -4.06820011138916, -4.097799777984619, -4.1880998611450195, -4.338699817657471, -4.549300193786621, -4.634500026702881, -4.70989990234375, -4.697700023651123, -4.923399925231934, -4.890399932861328, -4.9664998054504395, -4.940700054168701, -4.991300106048584, -5.060400009155273, -5.0767998695373535, -5.098299980163574, -4.809700012207031, -5.1595001220703125, -5.218800067901611, -5.194300174713135, -5.159200191497803, -5.279699802398682, -4.081299781799316, -4.723400115966797, -5.146999835968018, -2.6594998836517334, -2.8589999675750732, -3.6714999675750732, -3.749500036239624, -3.8682000637054443, -4.001200199127197, -4.028500080108643, -4.225800037384033, -4.254799842834473, -4.321800231933594, -4.361400127410889, -4.3856000900268555, -4.632500171661377, -4.555799961090088, -4.502999782562256, -4.666900157928467, -4.686399936676025, -4.732999801635742, -4.762700080871582, -4.798999786376953, -4.826000213623047, -4.905399799346924, -4.964200019836426, -4.998499870300293, -5.006499767303467, -5.090799808502197, -5.063799858093262, -5.224999904632568, -5.239500045776367, -5.286900043487549, -3.1431000232696533, -4.785699844360352], \"loglift\": [30.0, 29.0, 28.0, 27.0, 26.0, 25.0, 24.0, 23.0, 22.0, 21.0, 20.0, 19.0, 18.0, 17.0, 16.0, 15.0, 14.0, 13.0, 12.0, 11.0, 10.0, 9.0, 8.0, 7.0, 6.0, 5.0, 4.0, 3.0, 2.0, 1.0, 1.421, 1.4201, 1.4184, 1.4179, 1.4177, 1.4174, 1.4174, 1.4171, 1.417, 1.4163, 1.4155, 1.4147, 1.4141, 1.4139, 1.4139, 1.4139, 1.4137, 1.4131, 1.4131, 1.4127, 1.412, 1.4117, 1.4114, 1.4113, 1.4111, 1.4106, 1.4102, 1.41, 1.4098, 1.4095, 1.4025, 1.4071, 1.3278, 1.2965, 1.3755, 1.2808, 1.5534, 1.552, 1.5519, 1.5514, 1.5511, 1.5508, 1.5501, 1.5499, 1.5499, 1.5497, 1.5492, 1.549, 1.549, 1.5489, 1.5489, 1.5485, 1.5483, 1.548, 1.5478, 1.5475, 1.5469, 1.5466, 1.5465, 1.5464, 1.5462, 1.5452, 1.545, 1.5449, 1.5443, 1.5437, 1.5378, 1.5359, 1.4089, 1.2377, 1.5834, 1.5823, 1.5819, 1.5818, 1.5813, 1.5812, 1.5809, 1.5806, 1.5804, 1.5799, 1.5796, 1.5791, 1.5791, 1.5788, 1.5784, 1.5781, 1.5777, 1.5759, 1.5756, 1.5754, 1.5748, 1.5738, 1.5736, 1.5732, 1.5728, 1.5727, 1.5725, 1.5717, 1.5714, 1.5708, 1.5677, 1.2207, -0.5622, 1.6604, 1.6601, 1.6585, 1.6584, 1.6579, 1.6576, 1.6575, 1.6571, 1.6565, 1.6563, 1.6557, 1.6549, 1.6533, 1.6529, 1.6522, 1.652, 1.6501, 1.6496, 1.6493, 1.6492, 1.649, 1.6484, 1.6481, 1.6475, 1.6469, 1.6469, 1.6462, 1.646, 1.6459, 1.6453, 1.6218, 1.6314, 1.4117, 1.8752, 1.8749, 1.8725, 1.8724, 1.8716, 1.8711, 1.8709, 1.8697, 1.8695, 1.8689, 1.8687, 1.8682, 1.8663, 1.8662, 1.866, 1.8657, 1.8657, 1.8651, 1.8648, 1.8644, 1.8639, 1.8625, 1.8621, 1.8614, 1.86, 1.86, 1.8597, 1.8576, 1.8572, 1.8566, 1.856, 1.8309]}, \"token.table\": {\"Topic\": [4, 1, 3, 2, 3, 3, 2, 1, 3, 2, 2, 3, 4, 2, 5, 5, 1, 1, 2, 2, 1, 3, 2, 3, 3, 4, 1, 2, 3, 2, 1, 4, 4, 3, 2, 4, 5, 1, 3, 4, 2, 1, 3, 5, 1, 2, 4, 5, 3, 5, 4, 1, 3, 4, 4, 5, 3, 4, 3, 4, 5, 3, 5, 1, 3, 5, 1, 1, 2, 5, 5, 1, 5, 4, 3, 3, 4, 2, 1, 2, 2, 2, 5, 3, 5, 2, 4, 1, 1, 4, 5, 2, 2, 5, 4, 1, 3, 5, 3, 5, 3, 5, 2, 4, 3, 4, 2, 3, 1, 5, 5, 1, 2, 4, 3, 2, 4, 5, 1, 1, 2, 5, 4, 1, 2, 3, 4, 1, 1, 2, 1, 2, 3, 4, 5, 2, 1, 2, 1, 4, 3, 5, 3, 4, 4, 3, 1, 3, 5, 1, 4, 4, 2, 5, 5, 1, 4, 5, 4, 3, 1, 1, 5, 3, 1, 2, 3, 4, 5, 1, 3, 4, 5, 2, 4, 3, 1, 4, 1, 4, 2, 4, 4, 2, 2, 1, 5, 1, 4, 2, 3, 5, 3], \"Freq\": [0.9898770463792872, 0.98189704132078, 0.0094413177050075, 0.9955657952918525, 0.004464420606689922, 0.9861747753487643, 0.9906763417452575, 0.9958844182034233, 0.9990436702927845, 0.9932951965127661, 0.8626660314981963, 0.11691810683308887, 0.020013009277735933, 0.9952713280842405, 0.9960655084978377, 0.9853815277830592, 0.9927457298985641, 0.9915438089567434, 0.9817478382133845, 0.9948252583469339, 0.9880035090964303, 0.9800918490781108, 0.9931865769977891, 0.9836298687137051, 0.9963409240677583, 0.9889012910170641, 0.9856884283322239, 0.9944923829962868, 0.9979492696504209, 0.9923322458548322, 0.9090574972762044, 0.08657690450249567, 0.9804155463107765, 0.9963047735728543, 0.7243211299827196, 0.2725939736494106, 0.988659065264331, 0.9900779970265001, 0.9897025709402951, 0.9870589577143671, 0.9953813361378979, 0.9915704236418413, 0.9824297384008455, 0.9968425592154726, 0.9592126592778142, 0.011842131596022397, 0.011842131596022397, 0.023684263192044794, 0.9932732007147731, 0.9846216601579173, 0.9937665779908507, 0.3008117287729219, 0.6956271227873819, 0.9895646968308858, 0.9822655761668767, 0.9988341646463084, 0.9968853607286827, 0.9849943026312991, 0.9899474605924437, 0.9933505825389666, 0.9884819072609722, 0.9903299061387435, 0.9849495376970667, 0.9965845397975225, 0.9932444003691775, 0.9844757749162328, 0.9861284323693136, 0.8813442065744594, 0.11710167779660649, 0.9886383145857133, 0.9978149406878257, 0.9930257024780776, 0.9836660520692686, 0.9876085279074371, 0.9971872221962659, 0.9916008794566963, 0.9946671119452296, 0.9899025844347983, 0.994440432944365, 0.990868919570968, 0.9880761474506679, 0.991984540542621, 0.9939658887406629, 0.993987772267611, 0.9883354752393672, 0.9943191141448552, 0.9974058437374281, 0.9890887354484212, 0.9888936863740905, 0.9870719591188201, 0.9915245697676135, 0.9967115963461131, 0.981975707967086, 0.9905304320689677, 0.9924023035945377, 0.9930347649379465, 0.9917778626101561, 0.9903601804259624, 0.9957623490658923, 0.9914700243133131, 0.9961756770460204, 0.9938089879168038, 0.9943822318147447, 0.9879946722424249, 0.037170403572700496, 0.9602354256280963, 0.9904026664359142, 0.9822873337769747, 0.9873194061078974, 0.9678134214648326, 0.9881085535457175, 0.9984549203288664, 0.02377418313114278, 0.974741508376854, 0.9953203867286265, 0.9956120642701006, 0.018383159150941946, 0.9804351547169038, 0.993656570319562, 0.9943406792513031, 0.9864117137242019, 0.9994322694527372, 0.9976884329331773, 0.9857137090419034, 0.9922118162431632, 0.984545909187935, 0.9901980510890555, 0.9937268863511735, 0.9834940462550241, 0.9911466291195444, 0.029151041037421936, 0.029151041037421936, 0.05830208207484387, 0.7725025874916813, 0.10202864363097679, 0.9939268188935115, 0.9931683511579095, 0.983921081778826, 0.9987540952644531, 0.9937165609863841, 0.9956704938122696, 0.9866397985662226, 0.9926079095816687, 0.9912247376949987, 0.9911088023725833, 0.991958174694606, 0.8725562591473021, 0.1259359549284766, 0.9871610761672542, 0.9980056312050484, 0.9954734897855629, 0.9980202360673395, 0.994379575088581, 0.9910945106340386, 0.9922651990568087, 0.9973156692362161, 0.9841255469842893, 0.9804926592717834, 0.9947613973703765, 0.9880594899695612, 0.9984980931748977, 0.030887409765804428, 0.9575097027399372, 0.9981879414739656, 0.00803086730886074, 0.9797658116810102, 0.00803086730886074, 0.00803086730886074, 0.00803086730886074, 0.981162390694121, 0.01860023489467528, 0.9974072131516039, 0.993323596190369, 0.9936548285866088, 0.9809260454279223, 0.9976360148528348, 0.9904065585677172, 0.9937430745208351, 0.996793220611638, 0.9882371653370267, 0.9821468767225483, 0.01669371461851357, 0.9939402112392671, 0.994904403855962, 0.985365999134817, 0.981671899158972, 0.9734173636170507, 0.9947675374287631, 0.999175277398445, 0.9929285539799119, 0.9938609000994781, 0.9950681143141066, 0.9939461663116352], \"Term\": [\"acceleration\", \"adult\", \"adult\", \"air\", \"air\", \"answer\", \"anything\", \"assistance\", \"audi\", \"base\", \"bmw\", \"bmw\", \"bmw\", \"brake\", \"brand\", \"break\", \"button\", \"buy\", \"call\", \"camera\", \"center\", \"challenge\", \"change\", \"city\", \"class\", \"clutch\", \"color\", \"com\", \"comfort\", \"comment\", \"control\", \"control\", \"cool\", \"coop\", \"corner\", \"corner\", \"cost\", \"country\", \"coupe\", \"crossover\", \"cruise\", \"cup\", \"cut\", \"cylinder\", \"dart\", \"dart\", \"dart\", \"dart\", \"design\", \"diesel\", \"display\", \"door\", \"door\", \"drive\", \"end\", \"engine\", \"everything\", \"example\", \"experience\", \"face\", \"family\", \"fan\", \"fast\", \"feature\", \"feel\", \"figure\", \"fit\", \"foot\", \"foot\", \"forget\", \"fuel\", \"functionality\", \"gallon\", \"gear\", \"generation\", \"ground\", \"guy\", \"hand\", \"hatchback\", \"head\", \"headlight\", \"headroom\", \"highway\", \"hood\", \"horsepower\", \"hour\", \"inch\", \"interior\", \"issue\", \"jaguar\", \"journalist\", \"lane\", \"leg\", \"level\", \"life\", \"light\", \"line\", \"look\", \"luxury\", \"maur\", \"mercedes\", \"mile\", \"mind\", \"mode\", \"model\", \"model\", \"money\", \"navigation\", \"news\", \"number\", \"offer\", \"okay\", \"option\", \"option\", \"package\", \"passenger\", \"performance\", \"performance\", \"phone\", \"point\", \"position\", \"power\", \"price\", \"problem\", \"push\", \"quality\", \"question\", \"rear\", \"rest\", \"ride\", \"roman\", \"roman\", \"roman\", \"roman\", \"roman\", \"roof\", \"screen\", \"sea\", \"seat\", \"second\", \"sedan\", \"segment\", \"sense\", \"setting\", \"shift\", \"siri\", \"size\", \"size\", \"sound\", \"space\", \"speed\", \"sport\", \"spot\", \"start\", \"state\", \"style\", \"summer\", \"supercar\", \"suspension\", \"suv\", \"system\", \"talk\", \"talk\", \"technology\", \"tfl\", \"tfl\", \"tfl\", \"tfl\", \"tfl\", \"thing\", \"thing\", \"tire\", \"torque\", \"track\", \"traction\", \"transmission\", \"trunk\", \"turbo\", \"use\", \"utility\", \"vehicle\", \"vehicle\", \"version\", \"video\", \"view\", \"wagon\", \"water\", \"way\", \"wheel\", \"word\", \"world\", \"year\", \"yes\"]}, \"R\": 30, \"lambda.step\": 0.01, \"plot.opts\": {\"xlab\": \"PC1\", \"ylab\": \"PC2\"}, \"topic.order\": [1, 4, 5, 3, 2]};\n",
       "\n",
       "function LDAvis_load_lib(url, callback){\n",
       "  var s = document.createElement('script');\n",
       "  s.src = url;\n",
       "  s.async = true;\n",
       "  s.onreadystatechange = s.onload = callback;\n",
       "  s.onerror = function(){console.warn(\"failed to load library \" + url);};\n",
       "  document.getElementsByTagName(\"head\")[0].appendChild(s);\n",
       "}\n",
       "\n",
       "if(typeof(LDAvis) !== \"undefined\"){\n",
       "   // already loaded: just create the visualization\n",
       "   !function(LDAvis){\n",
       "       new LDAvis(\"#\" + \"ldavis_el1627223407455872801957299257\", ldavis_el1627223407455872801957299257_data);\n",
       "   }(LDAvis);\n",
       "}else if(typeof define === \"function\" && define.amd){\n",
       "   // require.js is available: use it to load d3/LDAvis\n",
       "   require.config({paths: {d3: \"https://cdnjs.cloudflare.com/ajax/libs/d3/3.5.5/d3.min\"}});\n",
       "   require([\"d3\"], function(d3){\n",
       "      window.d3 = d3;\n",
       "      LDAvis_load_lib(\"https://cdn.rawgit.com/bmabey/pyLDAvis/files/ldavis.v1.0.0.js\", function(){\n",
       "        new LDAvis(\"#\" + \"ldavis_el1627223407455872801957299257\", ldavis_el1627223407455872801957299257_data);\n",
       "      });\n",
       "    });\n",
       "}else{\n",
       "    // require.js not available: dynamically load d3 & LDAvis\n",
       "    LDAvis_load_lib(\"https://cdnjs.cloudflare.com/ajax/libs/d3/3.5.5/d3.min.js\", function(){\n",
       "         LDAvis_load_lib(\"https://cdn.rawgit.com/bmabey/pyLDAvis/files/ldavis.v1.0.0.js\", function(){\n",
       "                 new LDAvis(\"#\" + \"ldavis_el1627223407455872801957299257\", ldavis_el1627223407455872801957299257_data);\n",
       "            })\n",
       "         });\n",
       "}\n",
       "</script>"
      ],
      "text/plain": [
       "PreparedData(topic_coordinates=              x         y  topics  cluster       Freq\n",
       "topic                                                \n",
       "0     -0.142198 -0.284975       1        1  24.123354\n",
       "3     -0.042564  0.200920       2        1  21.077298\n",
       "4     -0.157278  0.146210       3        1  20.499606\n",
       "2      0.317884 -0.025445       4        1  18.989739\n",
       "1      0.024156 -0.036710       5        1  15.310004, topic_info=             Term        Freq       Total Category  logprob  loglift\n",
       "242         wheel  876.000000  876.000000  Default  30.0000  30.0000\n",
       "156          seat  752.000000  752.000000  Default  29.0000  29.0000\n",
       "169         sport  629.000000  629.000000  Default  28.0000  28.0000\n",
       "0             bmw  949.000000  949.000000  Default  27.0000  27.0000\n",
       "17          power  519.000000  519.000000  Default  26.0000  26.0000\n",
       "...           ...         ...         ...      ...      ...      ...\n",
       "1207       figure   39.864484   40.630761   Topic5  -5.2250   1.8576\n",
       "778         water   39.290848   40.065034   Topic5  -5.2395   1.8572\n",
       "2722       number   37.471064   38.230509   Topic5  -5.2869   1.8566\n",
       "430   performance  319.705777  326.385685   Topic5  -3.1431   1.8560\n",
       "97           talk   61.852227   64.751302   Topic5  -4.7857   1.8309\n",
       "\n",
       "[198 rows x 6 columns], token_table=      Topic      Freq          Term\n",
       "term                               \n",
       "972       4  0.989877  acceleration\n",
       "512       1  0.981897         adult\n",
       "512       3  0.009441         adult\n",
       "352       2  0.995566           air\n",
       "352       3  0.004464           air\n",
       "...     ...       ...           ...\n",
       "242       4  0.999175         wheel\n",
       "1035      2  0.992929          word\n",
       "243       3  0.993861         world\n",
       "36        5  0.995068          year\n",
       "109       3  0.993946           yes\n",
       "\n",
       "[193 rows x 3 columns], R=30, lambda_step=0.01, plot_opts={'xlab': 'PC1', 'ylab': 'PC2'}, topic_order=[1, 4, 5, 3, 2])"
      ]
     },
     "execution_count": 18,
     "metadata": {},
     "output_type": "execute_result"
    }
   ],
   "source": [
    "bow_vis"
   ]
  },
  {
   "cell_type": "raw",
   "id": "2a3f68c4",
   "metadata": {},
   "source": [
    "upon testing we found nooftopics=5 do not overlap & we can go ahead with 5 topics."
   ]
  },
  {
   "cell_type": "raw",
   "id": "c6e738e4",
   "metadata": {},
   "source": [
    "Interpretation:\n",
    "Topic 1 - features\n",
    "Topic 2 - Interiors\n",
    "topic 3- feel/experience\n",
    "topic 4- sports mode\n",
    "topic 5 - performance\n",
    "\n",
    "This model has \n",
    "\n",
    "Perplexity:  -7.859085413299386\n",
    "\n",
    "Coherence Score:  0.36017989654150556\n",
    "\n",
    "perplexity is ok but coherence seem low\n"
   ]
  },
  {
   "cell_type": "raw",
   "id": "4b8e0619",
   "metadata": {},
   "source": [
    "\n",
    "\n",
    "Now Lets try LDA with BOW Bigrams, trigrams & with TFIDF"
   ]
  },
  {
   "cell_type": "markdown",
   "id": "38a74bb4",
   "metadata": {},
   "source": [
    "<b>BOW Models - Bigrams"
   ]
  },
  {
   "cell_type": "code",
   "execution_count": 19,
   "id": "b25af91a",
   "metadata": {},
   "outputs": [
    {
     "data": {
      "text/plain": [
       "[0.632765425297856,\n",
       " 0.6734226133324328,\n",
       " 0.6815010911486751,\n",
       " 0.672944539044376,\n",
       " 0.6685734679117034,\n",
       " 0.6665367813187526,\n",
       " 0.6807276842356582,\n",
       " 0.6737369763875363,\n",
       " 0.6694510344058747,\n",
       " 0.6690943687150664,\n",
       " 0.671001637408907,\n",
       " 0.6592064997531729]"
      ]
     },
     "execution_count": 19,
     "metadata": {},
     "output_type": "execute_result"
    }
   ],
   "source": [
    "bigrams_model_list, bigrams_coherence_values = select_lda_topics(bigrams_corpus, bigrams_text, bigrams_dictionary, range(3, 15, 1))\n",
    "bigrams_coherence_values"
   ]
  },
  {
   "cell_type": "markdown",
   "id": "197a071f",
   "metadata": {},
   "source": [
    "<b>Find the optimal number of topics"
   ]
  },
  {
   "cell_type": "code",
   "execution_count": 20,
   "id": "7edfa2ca",
   "metadata": {},
   "outputs": [
    {
     "data": {
      "image/png": "[encoded data removed]",
      "text/plain": [
       "<Figure size 432x288 with 1 Axes>"
      ]
     },
     "metadata": {
      "needs_background": "light"
     },
     "output_type": "display_data"
    }
   ],
   "source": [
    "# Show graph\n",
    "x = range(3, 15, 1)\n",
    "plt.plot(x, bigrams_coherence_values)\n",
    "plt.xlabel(\"Num Topics\")\n",
    "plt.ylabel(\"Coherence score\")\n",
    "plt.legend((\"coherence_values\"), loc='best')\n",
    "plt.show()"
   ]
  },
  {
   "cell_type": "raw",
   "id": "8912a830",
   "metadata": {},
   "source": [
    "topics 5 & 9 shows high coherence sccore. Since BOW with unigrams gave good clusters with 5 topics we ll go ahead with 5 topics"
   ]
  },
  {
   "cell_type": "code",
   "execution_count": 21,
   "id": "c4bf5a98",
   "metadata": {},
   "outputs": [
    {
     "name": "stdout",
     "output_type": "stream",
     "text": [
      "\n",
      "Perplexity:  -7.8618230559092295\n",
      "\n",
      "Coherence Score:  0.6815010911486751\n"
     ]
    }
   ],
   "source": [
    "bigram_vis, bigram_lda_model = lda_modelling(bigrams_corpus, bigrams_text, bigrams_dictionary, noof_topics=5)"
   ]
  },
  {
   "cell_type": "code",
   "execution_count": 22,
   "id": "5589ca29",
   "metadata": {},
   "outputs": [
    {
     "data": {
      "text/html": [
       "\n",
       "<link rel=\"stylesheet\" type=\"text/css\" href=\"https://cdn.rawgit.com/bmabey/pyLDAvis/files/ldavis.v1.0.0.css\">\n",
       "\n",
       "\n",
       "<div id=\"ldavis_el1627223407452372161059315181\"></div>\n",
       "<script type=\"text/javascript\">\n",
       "\n",
       "var ldavis_el1627223407452372161059315181_data = {\"mdsDat\": {\"x\": [0.25791584381898186, 0.13612032494806633, -0.12819323471865127, -0.22870964180581163, -0.03713329224258521], \"y\": [-0.2160217445850892, 0.28835915854367616, -0.09710809021850333, -0.025760511381455162, 0.05053118764137125], \"topics\": [1, 2, 3, 4, 5], \"cluster\": [1, 1, 1, 1, 1], \"Freq\": [27.763196155875807, 23.8036642245052, 17.70817016239367, 16.95284704552581, 13.772122411699506]}, \"tinfo\": {\"Term\": [\"bmw\", \"beacon\", \"headroom\", \"belt\", \"power\", \"liter\", \"excuse\", \"neighbour\", \"rest\", \"catch\", \"buy\", \"system\", \"decent\", \"dealt\", \"gabe\", \"gear\", \"audi\", \"rail\", \"apple_carplay\", \"mercedes\", \"poll\", \"spot_easter\", \"control\", \"rounder\", \"canister\", \"hand\", \"bias\", \"possessor\", \"wallace_phone\", \"becomes\", \"system\", \"dealt\", \"mercedes\", \"spot_easter\", \"canister\", \"possessor\", \"coach\", \"smoothes\", \"everything\", \"ish\", \"carbon\", \"wonder\", \"squeeze\", \"delightful\", \"shuts\", \"tall\", \"bmw\", \"cost\", \"pinnacle\", \"brake\", \"roofy\", \"cup_holder\", \"grill\", \"predecessor\", \"onda\", \"girl\", \"trespass\", \"drink\", \"stereo\", \"continental\", \"coat_hook\", \"control\", \"catch\", \"belt\", \"decent\", \"hand\", \"wallace_phone\", \"orbit\", \"socket\", \"bill\", \"truck\", \"tailpipe\", \"position\", \"gadget\", \"ring\", \"lobe\", \"driving\", \"stop\", \"eyeball\", \"service\", \"jacket\", \"idea\", \"annoy\", \"clarity\", \"air\", \"forgot\", \"strain\", \"add_deal\", \"tour\", \"pop_rank\", \"someone\", \"motor\", \"program\", \"vuitton\", \"intuit\", \"catch\", \"constant\", \"quick\", \"beacon\", \"excuse\", \"gabe\", \"audi\", \"apple_carplay\", \"day\", \"adult\", \"owner\", \"purse\", \"input\", \"smoother\", \"traction\", \"spray\", \"bonnet\", \"pack\", \"cartoon\", \"pedal\", \"proposal\", \"intent\", \"response\", \"fall\", \"traffic\", \"gtc\", \"affect\", \"class\", \"center\", \"pace\", \"voice\", \"bird\", \"grotesque\", \"leather\", \"button\", \"headroom\", \"need\", \"steve\", \"power\", \"liter\", \"neighbour\", \"buy\", \"poll\", \"bias\", \"becomes\", \"fit\", \"setting\", \"hurt\", \"grace\", \"entry_level\", \"machine\", \"oil\", \"weight\", \"drive\", \"loom\", \"smartphones\", \"concierge_service\", \"shift\", \"light\", \"let\", \"assistant\", \"age\", \"stick_truth\", \"photo\", \"configure\", \"effort\", \"newton_meter\", \"ferocity\", \"top\", \"stiffens\", \"punch\", \"headroom\", \"rest\", \"gear\", \"rail\", \"rounder\", \"year\", \"version\", \"deal\", \"heck\", \"hello\", \"threesome\", \"division\", \"ren\", \"hybrid\", \"lee\", \"week\", \"start\", \"center_console\", \"sea\", \"bourbon\", \"standoff\", \"panel\", \"town\", \"centimetre\", \"pre\", \"pure\", \"squat\", \"respond\", \"proportion\", \"hiding\", \"variable\", \"oleson\"], \"Freq\": [971.0, 680.0, 932.0, 691.0, 511.0, 418.0, 340.0, 321.0, 273.0, 562.0, 259.0, 350.0, 301.0, 316.0, 221.0, 189.0, 213.0, 185.0, 207.0, 272.0, 186.0, 260.0, 326.0, 155.0, 237.0, 208.0, 167.0, 226.0, 198.0, 155.0, 349.46056255422604, 315.6990448399371, 271.5594001611368, 259.62996663100324, 236.91179356735105, 225.67068020511581, 204.5558241546759, 195.35518314327408, 186.69378320332527, 162.52201727668887, 153.6700397802747, 125.96206512601783, 122.60465575060837, 124.51081356935597, 124.05944315763463, 126.22844844739045, 965.9633569746536, 114.48022724843277, 112.094424160489, 105.44284457125515, 96.88903124045177, 96.44441597528811, 97.63576461200536, 96.4683068561287, 92.67530699579314, 87.45458212370349, 86.08284539119933, 81.84067308017976, 78.11871275402369, 77.6367620148264, 139.74678084414896, 297.0322156765902, 131.82515008398872, 691.1020355265365, 300.7785966784727, 208.0561729274686, 197.3896193563613, 178.54791331624102, 160.11466071795056, 150.24841206392205, 126.16393607271692, 120.93538174755066, 106.69683466842699, 106.43230931812035, 103.36752073976312, 96.74913293591821, 91.40722230839815, 90.75610977082673, 81.179007767327, 80.0544319280423, 79.77713504638083, 77.15489488008609, 73.87906878021177, 73.54360868558796, 73.44670584363634, 70.77067059438954, 68.50349845918919, 65.83386945923064, 62.20752268986701, 61.818318721318235, 60.75945430558811, 64.75953479641835, 61.87492005895451, 86.32925324827596, 63.10622575248829, 429.65070166493183, 125.61326492086864, 71.00649328501544, 680.1582658854087, 339.3571425083874, 221.12503737936296, 212.96974551360762, 206.69275641093327, 119.29056474411252, 79.28898035371138, 79.78658688880256, 74.78210211703801, 67.68352508155164, 63.08759805634852, 62.06056361587357, 60.992484826837355, 57.135234169374094, 55.940951818138366, 56.36465262071715, 51.46412730949542, 49.04295646452017, 46.67910446755427, 45.3850112816884, 43.640656944425366, 42.04587790487543, 39.99924150248902, 45.98110291971311, 35.23187222572635, 34.15268090979639, 34.318820234569486, 33.06400375500273, 31.48871259043564, 30.809791293176353, 122.66459000773379, 132.74979674296588, 759.6417021262522, 51.59380520303779, 34.789896897433024, 510.48477953776455, 418.15067891435325, 320.56402373407343, 258.66726097694914, 185.57006590876085, 166.9446298753045, 154.98054266609134, 150.42942381351932, 137.41630494879567, 126.62139881609428, 111.79312067711125, 93.08470626742185, 95.77949030654358, 87.96432920314476, 89.36794461616593, 78.52462713650085, 78.08255721122121, 70.98042223404521, 67.24980167677286, 65.8829707179837, 64.79328140871768, 61.24215556684119, 60.0946636782451, 49.048484638224366, 47.01470112155592, 45.66010976502758, 44.25170938235021, 43.791207112068726, 41.48526750496251, 39.92497351234515, 92.92178388595721, 62.80604558086176, 47.555650694182205, 165.85990059556016, 272.60047371823595, 188.89389217664944, 184.28199629955975, 154.42021670479127, 130.8548436916955, 119.42951929651821, 122.47631750325486, 112.74897866576892, 104.58615678816786, 102.47841481339623, 94.51546399795161, 77.98908404050782, 77.81746039469587, 81.60428520885823, 77.36978595429098, 60.62341153928358, 56.03506998985685, 54.16895690039662, 69.58322890636111, 50.768446762375, 49.295803531609735, 47.99806673848668, 47.44967754836515, 46.57721043768632, 42.99341503955319, 40.48951593876707, 41.77022547137704, 39.44104318848842, 39.214370560540885, 36.77437923933844, 39.125598891932356], \"Total\": [971.0, 680.0, 932.0, 691.0, 511.0, 418.0, 340.0, 321.0, 273.0, 562.0, 259.0, 350.0, 301.0, 316.0, 221.0, 189.0, 213.0, 185.0, 207.0, 272.0, 186.0, 260.0, 326.0, 155.0, 237.0, 208.0, 167.0, 226.0, 198.0, 155.0, 350.16688550022064, 316.42021171365667, 272.2658961125892, 260.34334798082057, 237.63336622546498, 226.37879357424518, 205.2652002970391, 196.07672149904036, 187.4016209773273, 163.23769490763877, 154.3929604415234, 126.67333723848665, 123.30650081911023, 125.22415684874781, 124.77240623009132, 126.96178383603464, 971.985121275178, 115.1950161562429, 112.81331733670588, 106.15154125993735, 97.59540138189296, 97.14888238564536, 98.35925653751794, 97.18984467654899, 93.38243542616671, 88.1626402943122, 86.8229999818176, 82.55206865637254, 78.82113000841642, 78.34285652791196, 145.12864719371996, 326.3833015688253, 562.4854806749216, 691.8106398882701, 301.5001657974775, 208.76469465830525, 198.09771582509478, 179.2762282964767, 160.8271799894138, 150.9732369297853, 126.86822354535383, 121.66461966360463, 107.41840207873608, 107.16030836562491, 104.07831621273998, 97.4846204300396, 92.11775965225412, 91.46593906171373, 81.88528283934069, 80.76277776624154, 80.49243969861534, 77.8925795035146, 74.59053092623263, 74.25688543282202, 74.16253565526347, 71.4851503991315, 69.2236153224509, 66.553737177295, 62.924898561548, 62.531633310102286, 61.463876490083315, 65.51765721024736, 62.60185328245763, 87.470646936119, 63.88981464754553, 562.4854806749216, 181.2525271022635, 80.12287114711732, 680.890706940484, 340.0934038843871, 221.842610575778, 213.70974936597977, 207.42775649531285, 120.01835497032944, 80.01183085500202, 80.52028033693854, 75.55183567528469, 68.40984036412816, 63.807546528013035, 62.78989805088319, 61.72480015236425, 57.866522392484825, 56.66382175367048, 57.116312686075496, 52.18245925599436, 49.767701212819944, 47.401091523900085, 46.10817620323912, 44.35973082328441, 42.7683900528207, 40.73342689927877, 46.911575856620054, 35.954470829499925, 34.872560945166036, 35.04946254246824, 33.7847220359372, 32.22717389972552, 31.537029166792458, 129.80362202784494, 142.97912795761715, 932.9683515523366, 131.61951055983843, 37.08094068843603, 511.2267836708491, 418.8843096893113, 321.3194406008633, 259.40116317820963, 186.32158471919763, 167.68090369815334, 155.7157169202299, 151.18496447857947, 138.2055340417011, 127.36318912516802, 112.52739693212347, 93.81656544296263, 96.545126488778, 88.69892460212758, 90.1234375517434, 79.27386820260818, 78.85915853262702, 71.71392126776622, 67.98449500730752, 66.62247073287091, 65.54606614643943, 61.984650434896324, 60.829076266995436, 49.7800345543901, 47.795504796123296, 46.43171237226062, 45.0044828727135, 44.5384818842605, 42.215693598546494, 40.65271043537591, 95.7104535113864, 67.21273799712662, 51.304438271838585, 932.9683515523366, 273.3548016053886, 189.63766991791314, 185.05240441638784, 155.1668264560384, 131.59216160558609, 120.17095416508292, 123.24919880915469, 113.48955197353622, 105.32726127003521, 103.24031829195607, 95.26925259953069, 78.73041582750622, 78.61376010141966, 82.45527631630279, 78.19969925766088, 61.36465745122399, 56.77185284343805, 54.91725300021192, 70.62298650106739, 51.52762411691953, 50.04463131509376, 48.73608701272798, 48.20023738240542, 47.351701712467545, 43.75890974589699, 41.22163528759233, 42.53958181150966, 40.20043408312079, 39.97038678512355, 37.51959987113476, 54.23144126781891], \"Category\": [\"Default\", \"Default\", \"Default\", \"Default\", \"Default\", \"Default\", \"Default\", \"Default\", \"Default\", \"Default\", \"Default\", \"Default\", \"Default\", \"Default\", \"Default\", \"Default\", \"Default\", \"Default\", \"Default\", \"Default\", \"Default\", \"Default\", \"Default\", \"Default\", \"Default\", \"Default\", \"Default\", \"Default\", \"Default\", \"Default\", \"Topic1\", \"Topic1\", \"Topic1\", \"Topic1\", \"Topic1\", \"Topic1\", \"Topic1\", \"Topic1\", \"Topic1\", \"Topic1\", \"Topic1\", \"Topic1\", \"Topic1\", \"Topic1\", \"Topic1\", \"Topic1\", \"Topic1\", \"Topic1\", \"Topic1\", \"Topic1\", \"Topic1\", \"Topic1\", \"Topic1\", \"Topic1\", \"Topic1\", \"Topic1\", \"Topic1\", \"Topic1\", \"Topic1\", \"Topic1\", \"Topic1\", \"Topic1\", \"Topic1\", \"Topic2\", \"Topic2\", \"Topic2\", \"Topic2\", \"Topic2\", \"Topic2\", \"Topic2\", \"Topic2\", \"Topic2\", \"Topic2\", \"Topic2\", \"Topic2\", \"Topic2\", \"Topic2\", \"Topic2\", \"Topic2\", \"Topic2\", \"Topic2\", \"Topic2\", \"Topic2\", \"Topic2\", \"Topic2\", \"Topic2\", \"Topic2\", \"Topic2\", \"Topic2\", \"Topic2\", \"Topic2\", \"Topic2\", \"Topic2\", \"Topic2\", \"Topic2\", \"Topic2\", \"Topic2\", \"Topic2\", \"Topic3\", \"Topic3\", \"Topic3\", \"Topic3\", \"Topic3\", \"Topic3\", \"Topic3\", \"Topic3\", \"Topic3\", \"Topic3\", \"Topic3\", \"Topic3\", \"Topic3\", \"Topic3\", \"Topic3\", \"Topic3\", \"Topic3\", \"Topic3\", \"Topic3\", \"Topic3\", \"Topic3\", \"Topic3\", \"Topic3\", \"Topic3\", \"Topic3\", \"Topic3\", \"Topic3\", \"Topic3\", \"Topic3\", \"Topic3\", \"Topic3\", \"Topic3\", \"Topic3\", \"Topic3\", \"Topic3\", \"Topic4\", \"Topic4\", \"Topic4\", \"Topic4\", \"Topic4\", \"Topic4\", \"Topic4\", \"Topic4\", \"Topic4\", \"Topic4\", \"Topic4\", \"Topic4\", \"Topic4\", \"Topic4\", \"Topic4\", \"Topic4\", \"Topic4\", \"Topic4\", \"Topic4\", \"Topic4\", \"Topic4\", \"Topic4\", \"Topic4\", \"Topic4\", \"Topic4\", \"Topic4\", \"Topic4\", \"Topic4\", \"Topic4\", \"Topic4\", \"Topic4\", \"Topic4\", \"Topic4\", \"Topic4\", \"Topic5\", \"Topic5\", \"Topic5\", \"Topic5\", \"Topic5\", \"Topic5\", \"Topic5\", \"Topic5\", \"Topic5\", \"Topic5\", \"Topic5\", \"Topic5\", \"Topic5\", \"Topic5\", \"Topic5\", \"Topic5\", \"Topic5\", \"Topic5\", \"Topic5\", \"Topic5\", \"Topic5\", \"Topic5\", \"Topic5\", \"Topic5\", \"Topic5\", \"Topic5\", \"Topic5\", \"Topic5\", \"Topic5\", \"Topic5\", \"Topic5\"], \"logprob\": [30.0, 29.0, 28.0, 27.0, 26.0, 25.0, 24.0, 23.0, 22.0, 21.0, 20.0, 19.0, 18.0, 17.0, 16.0, 15.0, 14.0, 13.0, 12.0, 11.0, 10.0, 9.0, 8.0, 7.0, 6.0, 5.0, 4.0, 3.0, 2.0, 1.0, -3.6029000282287598, -3.7044999599456787, -3.85509991645813, -3.9000000953674316, -3.9916000366210938, -4.040200233459473, -4.138400077819824, -4.1844000816345215, -4.229800224304199, -4.3684000968933105, -4.4243998527526855, -4.623300075531006, -4.650300025939941, -4.634900093078613, -4.638500213623047, -4.621200084686279, -2.5861001014709473, -4.718900203704834, -4.7399001121521, -4.80109977722168, -4.885700225830078, -4.8902997970581055, -4.877999782562256, -4.889999866485596, -4.930200099945068, -4.988100051879883, -5.003900051116943, -5.054500102996826, -5.10099983215332, -5.1072001457214355, -4.519400119781494, -3.765399932861328, -4.5777997970581055, -2.7671000957489014, -3.5989999771118164, -3.967600107192993, -4.020199775695801, -4.120500087738037, -4.229499816894531, -4.293099880218506, -4.467800140380859, -4.5100998878479, -4.63539981842041, -4.637899875640869, -4.667099952697754, -4.73330020904541, -4.79010009765625, -4.7972002029418945, -4.908699989318848, -4.922699928283691, -4.92609977722168, -4.95959997177124, -5.002999782562256, -5.007500171661377, -5.008800029754639, -5.045899868011475, -5.078499794006348, -5.118199825286865, -5.174900054931641, -5.18120002746582, -5.198500156402588, -5.134699821472168, -5.180300235748291, -4.8471999168396, -5.160600185394287, -3.2423999309539795, -4.4721999168396, -5.042600154876709, -2.4872000217437744, -3.182499885559082, -3.61080002784729, -3.648400068283081, -3.678299903869629, -4.228000164031982, -4.636499881744385, -4.630199909210205, -4.695000171661377, -4.7947001457214355, -4.864999771118164, -4.881499767303467, -4.898799896240234, -4.964099884033203, -4.985300064086914, -4.977700233459473, -5.068699836730957, -5.1168999671936035, -5.166299819946289, -5.194399833679199, -5.23360013961792, -5.2708001136779785, -5.320700168609619, -5.181300163269043, -5.4475998878479, -5.478700160980225, -5.473899841308594, -5.511099815368652, -5.559899806976318, -5.581699848175049, -4.200099945068359, -4.121099948883057, -2.376699924468994, -5.066199779510498, -5.46019983291626, -2.730600118637085, -2.9300999641418457, -3.1958999633789062, -3.410399913787842, -3.742500066757202, -3.848299980163574, -3.9226999282836914, -3.952500104904175, -4.043000221252441, -4.124800205230713, -4.249300003051758, -4.432499885559082, -4.403900146484375, -4.488999843597412, -4.473199844360352, -4.60260009765625, -4.6082000732421875, -4.70359992980957, -4.757599830627441, -4.77810001373291, -4.7947998046875, -4.851099967956543, -4.870100021362305, -5.073200225830078, -5.115499973297119, -5.144800186157227, -5.17609977722168, -5.186500072479248, -5.240600109100342, -5.2789998054504395, -4.434199810028076, -4.825900077819824, -5.104100227355957, -3.85479998588562, -3.1501998901367188, -3.5169999599456787, -3.5416998863220215, -3.7184998989105225, -3.8840999603271484, -3.9755001068115234, -3.9502999782562256, -4.0329999923706055, -4.1082000732421875, -4.128499984741211, -4.209400177001953, -4.401599884033203, -4.403800010681152, -4.356299877166748, -4.409599781036377, -4.653500080108643, -4.7322001457214355, -4.76609992980957, -4.515699863433838, -4.830900192260742, -4.860400199890137, -4.88700008392334, -4.898499965667725, -4.917099952697754, -4.997099876403809, -5.05709981918335, -5.026000022888184, -5.083399772644043, -5.089099884033203, -5.15339994430542, -5.091400146484375], \"loglift\": [30.0, 29.0, 28.0, 27.0, 26.0, 25.0, 24.0, 23.0, 22.0, 21.0, 20.0, 19.0, 18.0, 17.0, 16.0, 15.0, 14.0, 13.0, 12.0, 11.0, 10.0, 9.0, 8.0, 7.0, 6.0, 5.0, 4.0, 3.0, 2.0, 1.0, 1.2794, 1.2792, 1.2789, 1.2787, 1.2784, 1.2783, 1.278, 1.2778, 1.2777, 1.2771, 1.2768, 1.2758, 1.2758, 1.2757, 1.2757, 1.2757, 1.2752, 1.2752, 1.2751, 1.2748, 1.2742, 1.2742, 1.2741, 1.274, 1.2739, 1.2734, 1.2729, 1.2728, 1.2725, 1.2724, 1.2437, 1.1872, -0.1694, 1.4343, 1.4329, 1.4319, 1.4317, 1.4313, 1.4309, 1.4305, 1.4298, 1.4293, 1.4286, 1.4285, 1.4285, 1.4278, 1.4276, 1.4275, 1.4267, 1.4265, 1.4264, 1.4258, 1.4257, 1.4257, 1.4256, 1.4253, 1.4249, 1.4245, 1.4239, 1.4239, 1.4238, 1.4237, 1.4237, 1.4222, 1.423, 1.1659, 1.0686, 1.3145, 1.7301, 1.729, 1.7279, 1.7277, 1.7276, 1.7251, 1.7221, 1.722, 1.7209, 1.7205, 1.7198, 1.7195, 1.7192, 1.7184, 1.7183, 1.7179, 1.7173, 1.7165, 1.7158, 1.7153, 1.7148, 1.7141, 1.713, 1.7111, 1.7108, 1.7103, 1.7101, 1.7096, 1.708, 1.7078, 1.6746, 1.6569, 1.5256, 0.7946, 1.6674, 1.7733, 1.773, 1.7724, 1.7719, 1.7707, 1.7703, 1.77, 1.7697, 1.769, 1.7689, 1.7682, 1.7669, 1.7668, 1.7664, 1.7663, 1.7652, 1.7648, 1.7645, 1.7639, 1.7636, 1.7632, 1.7627, 1.7626, 1.7599, 1.7583, 1.758, 1.7579, 1.7578, 1.7573, 1.7567, 1.7452, 1.7069, 1.6989, 0.0475, 1.9798, 1.9786, 1.9784, 1.9777, 1.9769, 1.9763, 1.9762, 1.976, 1.9755, 1.9751, 1.9746, 1.9731, 1.9723, 1.9721, 1.9719, 1.9704, 1.9695, 1.9688, 1.9677, 1.9677, 1.9674, 1.9673, 1.9668, 1.966, 1.9649, 1.9646, 1.9643, 1.9635, 1.9634, 1.9625, 1.656]}, \"token.table\": {\"Topic\": [2, 3, 3, 4, 2, 2, 3, 4, 3, 3, 4, 2, 4, 2, 3, 1, 5, 3, 5, 1, 2, 3, 4, 1, 1, 3, 1, 2, 5, 3, 5, 5, 2, 3, 1, 1, 2, 4, 4, 1, 2, 1, 1, 3, 1, 1, 3, 5, 1, 2, 1, 5, 1, 4, 2, 4, 4, 1, 3, 2, 3, 4, 4, 2, 3, 2, 5, 1, 4, 1, 3, 3, 2, 1, 3, 4, 5, 5, 5, 4, 5, 2, 3, 3, 2, 1, 2, 1, 3, 5, 4, 4, 4, 2, 4, 4, 1, 2, 1, 3, 4, 4, 4, 1, 2, 3, 4, 5, 1, 2, 3, 3, 3, 5, 3, 4, 1, 4, 2, 2, 1, 4, 5, 1, 2, 5, 3, 1, 2, 3, 4, 5, 5, 3, 2, 4, 5, 5, 5, 3, 5, 2, 1, 5, 5, 2, 4, 4, 1, 4, 3, 1, 2, 2, 1, 3, 5, 1, 5, 5, 1, 1, 3, 4, 5, 4, 2, 3, 4, 5, 2, 2, 1, 2, 1, 5, 1, 4, 2, 5, 3, 3, 1, 2, 5, 5, 3, 2, 2, 5, 4, 1, 5], \"Freq\": [0.9916798484836413, 0.9873539844771748, 0.9805682107246582, 0.9843303733841762, 0.984324488840735, 0.9920830309303382, 0.9979378049372939, 0.9863703952472269, 0.9966789097451781, 0.9986918503492487, 0.9954036950515628, 0.9988282344307381, 0.9959392889521931, 0.9935535797630283, 0.9619211444495922, 0.9938423735670707, 0.005144111664425832, 0.9850254973573915, 0.9911787007045083, 0.9891519120092894, 0.06994027829687328, 0.9302057013484147, 0.998453502778112, 0.9973346915228055, 0.9974548033770475, 0.9804554490026166, 0.23467272407034276, 0.7644641768958136, 0.0017778236671995664, 0.9749785813970456, 0.9864043041616659, 0.9750989321300824, 0.9965405843333625, 0.9734533478735891, 0.9987080114083863, 0.9646613725622747, 0.03445219187722409, 0.9855188303273902, 0.9776803818509705, 0.3034440450530587, 0.69516272139428, 0.9956236402001781, 0.9099730242705779, 0.08885258486143689, 0.9896261470667962, 0.9881740030617674, 0.9915150064289651, 0.9898644468181167, 0.9986719820728869, 0.9983410762108387, 0.9982099552164, 0.9971737723118024, 0.9933124794404541, 0.9965452902852144, 0.9878659700748945, 0.9879097386915922, 0.991296148616109, 0.9978568969935651, 0.9967849894414336, 0.989188742975003, 0.991890599500762, 0.983944233277791, 0.9921621539372895, 0.993213270218742, 0.9962017640633102, 0.9891722188623608, 0.996637430115076, 0.9868125513207071, 0.9953131686460179, 0.9963475065777779, 0.9829714725520838, 0.9819944710006279, 0.9963370499041667, 0.007502934036672221, 0.8146042668386982, 0.1779267214410841, 0.9956863696699554, 0.996892910096692, 0.9757223568953625, 0.9971483979973909, 0.992192714091937, 0.9885408917100463, 0.9940090436997561, 0.9915383483585425, 0.9860726681951688, 0.9985438724323248, 0.9938821620954817, 0.05392761689268107, 0.9475852682571103, 0.9944785059653876, 0.9841146085686081, 0.9916689714800055, 0.9978888927829089, 0.9950287498899646, 0.9891051521647729, 0.9943536612504065, 0.9990233954513377, 0.9920989664116623, 0.607812623369614, 0.39507820519024905, 0.9990058472644359, 0.971202804101545, 0.9921202584443644, 0.12907641464719508, 0.05531846342022646, 0.09219743903371076, 0.018439487806742153, 0.719140024462944, 0.9959046321246453, 0.9984592028787003, 0.9935385180632579, 0.9700576708930517, 0.988284910316211, 0.9791260063738607, 0.9773399093708194, 0.990702208680149, 0.9927905910764203, 0.9982740340058707, 0.9914981700947127, 0.9961049310859289, 0.9983267267738974, 0.9976003141657794, 0.9925725644538992, 0.9877575205464231, 0.9903860149356587, 0.970138778087851, 0.9845743083543873, 0.019491491061678926, 0.019491491061678926, 0.019491491061678926, 0.9355915709605884, 0.019491491061678926, 0.9826570234426796, 0.9926959329266805, 0.8861389885746057, 0.11232747742495001, 0.99431293843651, 0.9907225711965434, 0.9873157706650593, 0.9759657333147507, 0.9987020472905364, 0.9896393768464138, 0.9938992885580424, 0.992480180959498, 0.9832975440303181, 0.9905553302234191, 0.9912772375573806, 0.9906567449987442, 0.9938094787667481, 0.9900448719698289, 0.9873440279096376, 0.9945086724685692, 0.9948567152053015, 0.9924528598491805, 0.9986811724459891, 0.9882575536806093, 0.9703642206557478, 0.9975143174360299, 0.9897603639608471, 0.9940575330105307, 0.9895823618828005, 0.026968032132794775, 0.943881124647817, 0.026968032132794775, 0.026968032132794775, 0.9833560750217702, 0.029756264356995858, 0.014878132178497929, 0.9373223272453695, 0.029756264356995858, 0.9949058735252327, 0.9967696670939639, 0.9966676303541561, 0.9945372807193886, 0.9924246193856512, 0.987986105501452, 0.020896359035244418, 0.9716806951388653, 0.9853015486287461, 0.9848964687596741, 0.9874199819492767, 0.9820336923631751, 0.9905209451183448, 0.9931564932408512, 0.9861512416731686, 0.9902559302019494, 0.9767728728061612, 0.983186966283752, 0.9944587153843613, 0.9846585182673404, 0.9875344573813178, 0.9946844596253198, 0.9955000237220745], \"Term\": [\"add_deal\", \"adult\", \"affect\", \"age\", \"air\", \"annoy\", \"apple_carplay\", \"assistant\", \"audi\", \"beacon\", \"becomes\", \"belt\", \"bias\", \"bill\", \"bird\", \"bmw\", \"bmw\", \"bonnet\", \"bourbon\", \"brake\", \"button\", \"button\", \"buy\", \"canister\", \"carbon\", \"cartoon\", \"catch\", \"catch\", \"catch\", \"center\", \"center_console\", \"centimetre\", \"clarity\", \"class\", \"coach\", \"coat_hook\", \"coat_hook\", \"concierge_service\", \"configure\", \"constant\", \"constant\", \"continental\", \"control\", \"control\", \"cost\", \"cup_holder\", \"day\", \"deal\", \"dealt\", \"decent\", \"delightful\", \"division\", \"drink\", \"drive\", \"driving\", \"effort\", \"entry_level\", \"everything\", \"excuse\", \"eyeball\", \"fall\", \"ferocity\", \"fit\", \"forgot\", \"gabe\", \"gadget\", \"gear\", \"girl\", \"grace\", \"grill\", \"grotesque\", \"gtc\", \"hand\", \"headroom\", \"headroom\", \"headroom\", \"heck\", \"hello\", \"hiding\", \"hurt\", \"hybrid\", \"idea\", \"input\", \"intent\", \"intuit\", \"ish\", \"jacket\", \"leather\", \"leather\", \"lee\", \"let\", \"light\", \"liter\", \"lobe\", \"loom\", \"machine\", \"mercedes\", \"motor\", \"need\", \"need\", \"neighbour\", \"newton_meter\", \"oil\", \"oleson\", \"oleson\", \"oleson\", \"oleson\", \"oleson\", \"onda\", \"orbit\", \"owner\", \"pace\", \"pack\", \"panel\", \"pedal\", \"photo\", \"pinnacle\", \"poll\", \"pop_rank\", \"position\", \"possessor\", \"power\", \"pre\", \"predecessor\", \"program\", \"proportion\", \"proposal\", \"punch\", \"punch\", \"punch\", \"punch\", \"punch\", \"pure\", \"purse\", \"quick\", \"quick\", \"rail\", \"ren\", \"respond\", \"response\", \"rest\", \"ring\", \"roofy\", \"rounder\", \"sea\", \"service\", \"setting\", \"shift\", \"shuts\", \"smartphones\", \"smoother\", \"smoothes\", \"socket\", \"someone\", \"spot_easter\", \"spray\", \"squat\", \"squeeze\", \"standoff\", \"start\", \"stereo\", \"steve\", \"steve\", \"steve\", \"steve\", \"stick_truth\", \"stiffens\", \"stiffens\", \"stiffens\", \"stiffens\", \"stop\", \"strain\", \"system\", \"tailpipe\", \"tall\", \"threesome\", \"top\", \"top\", \"tour\", \"town\", \"traction\", \"traffic\", \"trespass\", \"truck\", \"variable\", \"version\", \"voice\", \"vuitton\", \"wallace_phone\", \"week\", \"weight\", \"wonder\", \"year\"]}, \"R\": 30, \"lambda.step\": 0.01, \"plot.opts\": {\"xlab\": \"PC1\", \"ylab\": \"PC2\"}, \"topic.order\": [4, 1, 2, 5, 3]};\n",
       "\n",
       "function LDAvis_load_lib(url, callback){\n",
       "  var s = document.createElement('script');\n",
       "  s.src = url;\n",
       "  s.async = true;\n",
       "  s.onreadystatechange = s.onload = callback;\n",
       "  s.onerror = function(){console.warn(\"failed to load library \" + url);};\n",
       "  document.getElementsByTagName(\"head\")[0].appendChild(s);\n",
       "}\n",
       "\n",
       "if(typeof(LDAvis) !== \"undefined\"){\n",
       "   // already loaded: just create the visualization\n",
       "   !function(LDAvis){\n",
       "       new LDAvis(\"#\" + \"ldavis_el1627223407452372161059315181\", ldavis_el1627223407452372161059315181_data);\n",
       "   }(LDAvis);\n",
       "}else if(typeof define === \"function\" && define.amd){\n",
       "   // require.js is available: use it to load d3/LDAvis\n",
       "   require.config({paths: {d3: \"https://cdnjs.cloudflare.com/ajax/libs/d3/3.5.5/d3.min\"}});\n",
       "   require([\"d3\"], function(d3){\n",
       "      window.d3 = d3;\n",
       "      LDAvis_load_lib(\"https://cdn.rawgit.com/bmabey/pyLDAvis/files/ldavis.v1.0.0.js\", function(){\n",
       "        new LDAvis(\"#\" + \"ldavis_el1627223407452372161059315181\", ldavis_el1627223407452372161059315181_data);\n",
       "      });\n",
       "    });\n",
       "}else{\n",
       "    // require.js not available: dynamically load d3 & LDAvis\n",
       "    LDAvis_load_lib(\"https://cdnjs.cloudflare.com/ajax/libs/d3/3.5.5/d3.min.js\", function(){\n",
       "         LDAvis_load_lib(\"https://cdn.rawgit.com/bmabey/pyLDAvis/files/ldavis.v1.0.0.js\", function(){\n",
       "                 new LDAvis(\"#\" + \"ldavis_el1627223407452372161059315181\", ldavis_el1627223407452372161059315181_data);\n",
       "            })\n",
       "         });\n",
       "}\n",
       "</script>"
      ],
      "text/plain": [
       "PreparedData(topic_coordinates=              x         y  topics  cluster       Freq\n",
       "topic                                                \n",
       "3      0.257916 -0.216022       1        1  27.763196\n",
       "0      0.136120  0.288359       2        1  23.803664\n",
       "1     -0.128193 -0.097108       3        1  17.708170\n",
       "4     -0.228710 -0.025761       4        1  16.952847\n",
       "2     -0.037133  0.050531       5        1  13.772122, topic_info=            Term        Freq       Total Category  logprob  loglift\n",
       "0            bmw  971.000000  971.000000  Default  30.0000  30.0000\n",
       "169       beacon  680.000000  680.000000  Default  29.0000  29.0000\n",
       "242     headroom  932.000000  932.000000  Default  28.0000  28.0000\n",
       "156         belt  691.000000  691.000000  Default  27.0000  27.0000\n",
       "17         power  511.000000  511.000000  Default  26.0000  26.0000\n",
       "...          ...         ...         ...      ...      ...      ...\n",
       "814      respond   41.770225   42.539582   Topic5  -5.0260   1.9643\n",
       "501   proportion   39.441043   40.200434   Topic5  -5.0834   1.9635\n",
       "1066      hiding   39.214371   39.970387   Topic5  -5.0891   1.9634\n",
       "1703    variable   36.774379   37.519600   Topic5  -5.1534   1.9625\n",
       "5243      oleson   39.125599   54.231441   Topic5  -5.0914   1.6560\n",
       "\n",
       "[198 rows x 6 columns], token_table=      Topic      Freq           Term\n",
       "term                                \n",
       "388       2  0.991680       add_deal\n",
       "507       3  0.987354          adult\n",
       "235       3  0.980568         affect\n",
       "972       4  0.984330            age\n",
       "345       2  0.984324            air\n",
       "...     ...       ...            ...\n",
       "232       2  0.994459  wallace_phone\n",
       "1545      5  0.984659           week\n",
       "471       4  0.987534         weight\n",
       "792       1  0.994684         wonder\n",
       "36        5  0.995500           year\n",
       "\n",
       "[193 rows x 3 columns], R=30, lambda_step=0.01, plot_opts={'xlab': 'PC1', 'ylab': 'PC2'}, topic_order=[4, 1, 2, 5, 3])"
      ]
     },
     "execution_count": 22,
     "metadata": {},
     "output_type": "execute_result"
    }
   ],
   "source": [
    "bigram_vis"
   ]
  },
  {
   "cell_type": "raw",
   "id": "ffde1837",
   "metadata": {},
   "source": [
    "Interpretation:\n",
    "Topic 1 - specifications\n",
    "Topic 2 - safety\n",
    "topic 3- features\n",
    "topic 4- horse power\n",
    "topic 5 - parts\n",
    "\n",
    "this model has\n",
    "Perplexity:  -7.8618230559092295\n",
    "\n",
    "Coherence Score:  0.6815010911486751\n",
    "\n",
    "coherence score is higher here. Performance is better.."
   ]
  },
  {
   "cell_type": "markdown",
   "id": "ab42879a",
   "metadata": {},
   "source": [
    "<b>BOW Models - Trigrams"
   ]
  },
  {
   "cell_type": "code",
   "execution_count": 24,
   "id": "c2d71e2a",
   "metadata": {},
   "outputs": [
    {
     "data": {
      "text/plain": [
       "[0.632765425297856,\n",
       " 0.6734226133324328,\n",
       " 0.6815010911486751,\n",
       " 0.672944539044376,\n",
       " 0.6685734679117034,\n",
       " 0.6665367813187526,\n",
       " 0.6807276842356582,\n",
       " 0.6737369763875363,\n",
       " 0.6694510344058747,\n",
       " 0.6690943687150664,\n",
       " 0.671001637408907,\n",
       " 0.6592064997531729]"
      ]
     },
     "execution_count": 24,
     "metadata": {},
     "output_type": "execute_result"
    }
   ],
   "source": [
    "trigrams_model_list, trigrams_coherence_values = select_lda_topics(trigrams_corpus, trigrams_text, trigrams_dictionary, range(3, 15, 1))\n",
    "trigrams_coherence_values"
   ]
  },
  {
   "cell_type": "raw",
   "id": "6ddba02a",
   "metadata": {},
   "source": [
    "Trigrams has given the same coherence score of Bigrams. so we wont explore this"
   ]
  },
  {
   "cell_type": "markdown",
   "id": "2c3f2190",
   "metadata": {},
   "source": [
    "<b>LDA with tfidf"
   ]
  },
  {
   "cell_type": "code",
   "execution_count": 25,
   "id": "c1efb5ec",
   "metadata": {},
   "outputs": [],
   "source": [
    "#creating tfifd corpus\n",
    "tfidf = models.TfidfModel(bow_corpus)\n",
    "corpus_tfidf = tfidf[bow_corpus]"
   ]
  },
  {
   "cell_type": "code",
   "execution_count": 26,
   "id": "3b8924f8",
   "metadata": {},
   "outputs": [
    {
     "name": "stdout",
     "output_type": "stream",
     "text": [
      "\n",
      "Perplexity:  -9.020345783850354\n",
      "\n",
      "Coherence Score:  0.4078840811306107\n"
     ]
    }
   ],
   "source": [
    "tfidf_lda_vis, tfidf_lda_model = lda_modelling(corpus_tfidf, processed_train_text, dictionary, noof_topics=5)"
   ]
  },
  {
   "cell_type": "code",
   "execution_count": 27,
   "id": "ffba5e80",
   "metadata": {},
   "outputs": [
    {
     "data": {
      "text/html": [
       "\n",
       "<link rel=\"stylesheet\" type=\"text/css\" href=\"https://cdn.rawgit.com/bmabey/pyLDAvis/files/ldavis.v1.0.0.css\">\n",
       "\n",
       "\n",
       "<div id=\"ldavis_el1627223406983738081678333291\"></div>\n",
       "<script type=\"text/javascript\">\n",
       "\n",
       "var ldavis_el1627223406983738081678333291_data = {\"mdsDat\": {\"x\": [0.24597881898461788, -0.09164129412258863, -0.06706838403679011, -0.04869737964551438, -0.038571761179724676], \"y\": [-0.021804515214147394, -0.18743325145803105, 0.1114582366732887, 0.055929850168987334, 0.04184967982990237], \"topics\": [1, 2, 3, 4, 5], \"cluster\": [1, 1, 1, 1, 1], \"Freq\": [39.90340290348494, 26.793457761860957, 15.26736846634537, 12.368726854798341, 5.6670440135103926]}, \"tinfo\": {\"Term\": [\"seat\", \"wheel\", \"bmw\", \"inch\", \"package\", \"audi\", \"price\", \"sport\", \"power\", \"luxury\", \"cost\", \"comfort\", \"door\", \"foot\", \"performance\", \"coop\", \"turbo\", \"class\", \"brand\", \"forget\", \"transmission\", \"system\", \"style\", \"engine\", \"mercedes\", \"setting\", \"vehicle\", \"okay\", \"design\", \"feature\", \"wheel\", \"bmw\", \"sport\", \"power\", \"performance\", \"engine\", \"vehicle\", \"torque\", \"speed\", \"suspension\", \"guy\", \"technology\", \"tire\", \"feel\", \"fuel\", \"siri\", \"second\", \"air\", \"everything\", \"mile\", \"ride\", \"video\", \"sedan\", \"mind\", \"version\", \"money\", \"generation\", \"family\", \"crossover\", \"com\", \"audi\", \"inch\", \"comfort\", \"foot\", \"coop\", \"class\", \"transmission\", \"system\", \"mercedes\", \"design\", \"model\", \"interior\", \"point\", \"camera\", \"coupe\", \"thing\", \"use\", \"button\", \"sunroof\", \"screen\", \"news\", \"city\", \"display\", \"quality\", \"cut\", \"knee\", \"someone\", \"material\", \"weight\", \"leg\", \"gene\", \"jaguar\", \"assistance\", \"seat\", \"cost\", \"door\", \"feature\", \"start\", \"forget\", \"adult\", \"face\", \"space\", \"year\", \"clutch\", \"headroom\", \"size\", \"trunk\", \"fast\", \"line\", \"suv\", \"maur\", \"passenger\", \"fit\", \"roof\", \"help\", \"end\", \"tailgate\", \"baby\", \"wagon\", \"supercar\", \"hatchback\", \"cargo\", \"area\", \"shut\", \"row\", \"price\", \"brand\", \"style\", \"okay\", \"setting\", \"light\", \"base\", \"buy\", \"head\", \"navigation\", \"summer\", \"drive\", \"rear\", \"center\", \"sense\", \"ground\", \"way\", \"traction\", \"cruise\", \"country\", \"mode\", \"keep\", \"touch\", \"response\", \"take\", \"gas\", \"couple\", \"force\", \"place\", \"top\", \"package\", \"luxury\", \"turbo\", \"level\", \"push\", \"question\", \"offer\", \"look\", \"cool\", \"life\", \"position\", \"ability\", \"hell\", \"house\", \"safety\", \"kid\", \"entry\", \"adjustment\", \"plenty\", \"litre\", \"field\", \"matter\", \"bolster\", \"support\", \"turbos\", \"notice\", \"dollar\", \"read\", \"massage\", \"surface\", \"mileage\"], \"Freq\": [88.0, 128.0, 119.0, 80.0, 35.0, 79.0, 43.0, 99.0, 86.0, 23.0, 36.0, 51.0, 33.0, 48.0, 71.0, 47.0, 18.0, 43.0, 26.0, 28.0, 41.0, 40.0, 23.0, 58.0, 38.0, 22.0, 56.0, 21.0, 36.0, 24.0, 127.50697964566446, 118.78416511585219, 98.69510169334679, 85.49310282819191, 71.10229257960394, 57.580010837547505, 56.09312077334562, 47.34873589145925, 44.32672465235859, 39.0507074351517, 39.15606312744618, 36.96166060169412, 35.523893452039104, 32.07914016368493, 31.63949806296015, 31.63015009147474, 30.39120115164892, 30.220191007323905, 29.157571097044112, 29.00313671188127, 27.738116635812826, 27.060112317629617, 28.045452387950096, 27.053211279021856, 24.407462648298885, 24.089010057535727, 23.08847984064644, 23.365265783211797, 25.042110067461177, 23.668078640341278, 79.20363819203007, 80.12333592509738, 50.58111205238624, 48.44088032416419, 46.95078009337477, 43.06466604839302, 40.87278829842685, 39.73735443645648, 37.58405448975171, 35.60791286868859, 31.902988798675903, 31.100769763849595, 29.965345799545332, 26.571046783399463, 26.6352958333193, 25.552497759703712, 22.38753591530235, 21.418236028541916, 20.3512230827553, 19.19834293466107, 18.453014035004355, 18.367724196552953, 17.618383442901038, 16.346638923310874, 17.239782867825262, 17.072020726540796, 16.142788241790807, 15.520253087074337, 15.015792140176295, 14.995109317235581, 16.20309307176717, 16.802261486417024, 16.136565909031805, 88.32882723937738, 35.76305829104132, 32.99013905161404, 23.543505474328583, 22.44554154582675, 27.66623465179444, 22.556402368005706, 20.574266514051647, 19.733698216030636, 19.59719671632584, 18.29460743508718, 18.025541057038325, 17.081184319626846, 17.27678025861218, 17.302939803136855, 17.671596685763127, 15.865285306204674, 16.06640642674646, 14.093959850009805, 14.164310507245174, 13.827274432301627, 12.814782562140751, 12.413644793382602, 13.4844396426555, 11.948768161718462, 14.262843538319526, 10.209069153064995, 10.2413094052264, 8.38706486672108, 8.187804899544686, 8.46143768317388, 9.976085650893568, 43.448523755067235, 25.50601560790446, 23.265664825169697, 21.297508015547898, 22.310178217857942, 19.811355940861077, 19.52625583170125, 17.44405166788295, 15.745527098918268, 12.533825091674187, 14.238349627945524, 12.499146514294079, 12.15966898852472, 11.324208380329456, 11.17392058392914, 11.171617766168595, 10.348958205114453, 9.790955153484827, 9.067415752929373, 9.800227345631782, 8.183837371640344, 8.011231890019035, 7.772568892974955, 7.4087830848860365, 7.39637497887072, 7.347769836938745, 6.626499747536209, 6.626067969206107, 6.7911329410837284, 5.898973060673145, 34.56068448179956, 22.771052859634388, 18.342107346993338, 12.312762862875607, 12.717616111293495, 10.807648928930716, 11.997260446002082, 7.167603905867568, 7.138203627567709, 7.006189874379539, 6.7470010067986825, 5.168418476525054, 5.643947322745733, 4.854386003785174, 4.619992194323792, 4.696468017922378, 4.021195640392758, 3.799091373352291, 3.2082722233309693, 2.960674735766227, 2.678596189822321, 2.5754584825436004, 2.544588783470222, 2.311557629317158, 2.2578361082629996, 2.115458777908535, 2.1239930369896913, 2.0223163767225136, 2.7401316519742736, 1.8569056184244017, 1.8698282521414225], \"Total\": [88.0, 128.0, 119.0, 80.0, 35.0, 79.0, 43.0, 99.0, 86.0, 23.0, 36.0, 51.0, 33.0, 48.0, 71.0, 47.0, 18.0, 43.0, 26.0, 28.0, 41.0, 40.0, 23.0, 58.0, 38.0, 22.0, 56.0, 21.0, 36.0, 24.0, 128.02389041793722, 119.31505755053425, 99.21215257212951, 86.00829042828859, 71.6277598403035, 58.08974161283531, 56.611413465702284, 47.88760087662521, 44.8365019696051, 39.5608840435846, 39.673194442909086, 37.48066249880999, 36.045184082771186, 32.590471753335486, 32.15432352529463, 32.154959808287344, 30.90329369962484, 30.73183335798434, 29.669486588390118, 29.51277478149208, 28.25253798445098, 27.570951421543032, 28.581374685715442, 27.5741475548853, 24.91910345353112, 24.60042507122754, 23.60039016011009, 23.889757021888904, 25.605349522294617, 24.208013361963495, 79.70920515705522, 80.64194439694953, 51.09576446186698, 48.94866996115742, 47.48398011928881, 43.56820362223867, 41.38794337133927, 40.238303035822966, 38.088592282795645, 36.11536799965448, 32.4073438542791, 31.613856108006086, 30.46924462634328, 27.077297825543166, 27.15113256104285, 26.052717853094716, 22.89102204363284, 21.921866972745175, 20.878583244446165, 19.699272679041453, 18.971112584562594, 18.88497013759497, 18.12140497150086, 16.847618268470896, 17.77077345189579, 17.605537292169142, 16.66390353514654, 16.029757695624294, 15.522893647878877, 15.506925194968868, 18.57764030530083, 24.207612773367767, 22.06553501703562, 88.86748818065959, 36.31387399402548, 33.526201745127494, 24.077568980187014, 22.982274153164546, 28.339151874824047, 23.13928670519213, 21.12868792246574, 20.266413468282902, 20.134033636391703, 18.839785418205732, 18.572225251127396, 17.623606523286906, 17.82646309032483, 17.854564838496767, 18.249484362423733, 16.40175091561336, 16.662090660213934, 14.626559922011717, 14.709673306240555, 14.36686310214941, 13.357431347934748, 12.946829968049512, 14.069926842417262, 12.512603668823248, 14.95469287457052, 10.75132964896551, 10.789124975798087, 8.931251976747804, 8.721343769547438, 9.05737704774132, 12.651271922352743, 43.99935890333009, 26.06952888079368, 23.837816184156875, 21.85796734117489, 22.90701949377982, 20.366486831421597, 20.08312897046954, 18.027380297748365, 16.29200705318132, 13.083355126826532, 14.866213072245909, 13.057601584015455, 12.70305033251234, 11.868707543435889, 11.728386332310272, 11.735165544552272, 10.907822567143207, 10.345813320127796, 9.609403518692476, 10.408773961835758, 8.732556076305585, 8.566025972000876, 8.31848996382713, 7.957896052173994, 7.955474696679919, 7.9058858042813505, 7.174326892233668, 7.184231037204444, 7.3693090943739525, 6.447966166205522, 35.24803626307469, 23.42549947091374, 18.979889908805042, 12.927465463095928, 13.393995023668355, 11.45439318140361, 12.744835679229455, 7.770316549504657, 7.758518752914694, 7.635163525135315, 7.359164115940763, 5.794423416965735, 6.327905218459659, 5.497937665619983, 5.2408988565675, 5.332530106917503, 4.6291688188845015, 4.436725253027593, 3.8209760288426526, 3.57415232231398, 3.2772514154844425, 3.1867526280974445, 3.1564903172537147, 2.9159253934685427, 2.9260153246162424, 2.7434696813454034, 2.767145946222979, 2.6498647564875712, 3.602375374825244, 2.4889285530454623, 2.5673140413613007], \"Category\": [\"Default\", \"Default\", \"Default\", \"Default\", \"Default\", \"Default\", \"Default\", \"Default\", \"Default\", \"Default\", \"Default\", \"Default\", \"Default\", \"Default\", \"Default\", \"Default\", \"Default\", \"Default\", \"Default\", \"Default\", \"Default\", \"Default\", \"Default\", \"Default\", \"Default\", \"Default\", \"Default\", \"Default\", \"Default\", \"Default\", \"Topic1\", \"Topic1\", \"Topic1\", \"Topic1\", \"Topic1\", \"Topic1\", \"Topic1\", \"Topic1\", \"Topic1\", \"Topic1\", \"Topic1\", \"Topic1\", \"Topic1\", \"Topic1\", \"Topic1\", \"Topic1\", \"Topic1\", \"Topic1\", \"Topic1\", \"Topic1\", \"Topic1\", \"Topic1\", \"Topic1\", \"Topic1\", \"Topic1\", \"Topic1\", \"Topic1\", \"Topic1\", \"Topic1\", \"Topic1\", \"Topic2\", \"Topic2\", \"Topic2\", \"Topic2\", \"Topic2\", \"Topic2\", \"Topic2\", \"Topic2\", \"Topic2\", \"Topic2\", \"Topic2\", \"Topic2\", \"Topic2\", \"Topic2\", \"Topic2\", \"Topic2\", \"Topic2\", \"Topic2\", \"Topic2\", \"Topic2\", \"Topic2\", \"Topic2\", \"Topic2\", \"Topic2\", \"Topic2\", \"Topic2\", \"Topic2\", \"Topic2\", \"Topic2\", \"Topic2\", \"Topic2\", \"Topic2\", \"Topic2\", \"Topic3\", \"Topic3\", \"Topic3\", \"Topic3\", \"Topic3\", \"Topic3\", \"Topic3\", \"Topic3\", \"Topic3\", \"Topic3\", \"Topic3\", \"Topic3\", \"Topic3\", \"Topic3\", \"Topic3\", \"Topic3\", \"Topic3\", \"Topic3\", \"Topic3\", \"Topic3\", \"Topic3\", \"Topic3\", \"Topic3\", \"Topic3\", \"Topic3\", \"Topic3\", \"Topic3\", \"Topic3\", \"Topic3\", \"Topic3\", \"Topic3\", \"Topic3\", \"Topic4\", \"Topic4\", \"Topic4\", \"Topic4\", \"Topic4\", \"Topic4\", \"Topic4\", \"Topic4\", \"Topic4\", \"Topic4\", \"Topic4\", \"Topic4\", \"Topic4\", \"Topic4\", \"Topic4\", \"Topic4\", \"Topic4\", \"Topic4\", \"Topic4\", \"Topic4\", \"Topic4\", \"Topic4\", \"Topic4\", \"Topic4\", \"Topic4\", \"Topic4\", \"Topic4\", \"Topic4\", \"Topic4\", \"Topic4\", \"Topic5\", \"Topic5\", \"Topic5\", \"Topic5\", \"Topic5\", \"Topic5\", \"Topic5\", \"Topic5\", \"Topic5\", \"Topic5\", \"Topic5\", \"Topic5\", \"Topic5\", \"Topic5\", \"Topic5\", \"Topic5\", \"Topic5\", \"Topic5\", \"Topic5\", \"Topic5\", \"Topic5\", \"Topic5\", \"Topic5\", \"Topic5\", \"Topic5\", \"Topic5\", \"Topic5\", \"Topic5\", \"Topic5\", \"Topic5\", \"Topic5\"], \"logprob\": [30.0, 29.0, 28.0, 27.0, 26.0, 25.0, 24.0, 23.0, 22.0, 21.0, 20.0, 19.0, 18.0, 17.0, 16.0, 15.0, 14.0, 13.0, 12.0, 11.0, 10.0, 9.0, 8.0, 7.0, 6.0, 5.0, 4.0, 3.0, 2.0, 1.0, -3.7227001190185547, -3.793600082397461, -3.9788999557495117, -4.122499942779541, -4.30679988861084, -4.5177001953125, -4.543900012969971, -4.713399887084961, -4.779300212860107, -4.906000137329102, -4.903299808502197, -4.960999965667725, -5.000699996948242, -5.102700233459473, -5.116499900817871, -5.116799831390381, -5.156700134277344, -5.162399768829346, -5.198200225830078, -5.203499794006348, -5.2480998039245605, -5.272799968719482, -5.237100124359131, -5.273099899291992, -5.375999927520752, -5.389100074768066, -5.431600093841553, -5.419600009918213, -5.350299835205078, -5.406799793243408, -3.800600051879883, -3.7890000343322754, -4.249000072479248, -4.292200088500977, -4.323500156402588, -4.409900188446045, -4.462100028991699, -4.490300178527832, -4.546000003814697, -4.599999904632568, -4.70989990234375, -4.735400199890137, -4.772600173950195, -4.8927998542785645, -4.890399932861328, -4.9319000244140625, -5.0640997886657715, -5.10830020904541, -5.1595001220703125, -5.217800140380859, -5.257400035858154, -5.26200008392334, -5.303599834442139, -5.378600120544434, -5.325399875640869, -5.33519983291626, -5.39109992980957, -5.4303998947143555, -5.463500022888184, -5.464900016784668, -5.387400150299072, -5.351099967956543, -5.391499996185303, -3.1291000843048096, -4.033199787139893, -4.113900184631348, -4.451300144195557, -4.499100208282471, -4.289899826049805, -4.494100093841553, -4.586100101470947, -4.627799987792969, -4.634799957275391, -4.703499794006348, -4.718400001525879, -4.772200107574463, -4.760799884796143, -4.759300231933594, -4.7382001876831055, -4.8460001945495605, -4.833399772644043, -4.964399814605713, -4.959400177001953, -4.983500003814697, -5.059599876403809, -5.091400146484375, -5.008600234985352, -5.129499912261963, -4.952499866485596, -5.286900043487549, -5.283699989318848, -5.483500003814697, -5.507500171661377, -5.474599838256836, -5.309999942779541, -3.628000020980835, -4.160699844360352, -4.252600193023682, -4.341000080108643, -4.294600009918213, -4.413300037384033, -4.427800178527832, -4.540599822998047, -4.64300012588501, -4.871200084686279, -4.74370002746582, -4.873899936676025, -4.901500225067139, -4.972700119018555, -4.986000061035156, -4.986199855804443, -5.062699794769287, -5.118100166320801, -5.194900035858154, -5.117199897766113, -5.297399997711182, -5.31879997253418, -5.348999977111816, -5.396900177001953, -5.398600101470947, -5.405200004577637, -5.508500099182129, -5.508600234985352, -5.484000205993652, -5.624800205230713, -3.0764000415802, -3.4935998916625977, -3.70989990234375, -4.108500003814697, -4.076099872589111, -4.238800048828125, -4.134399890899658, -4.649499893188477, -4.653600215911865, -4.672299861907959, -4.710000038146973, -4.976500034332275, -4.888500213623047, -5.0391998291015625, -5.088699817657471, -5.072299957275391, -5.227499961853027, -5.284299850463867, -5.453400135040283, -5.533699989318848, -5.633800029754639, -5.673099994659424, -5.685100078582764, -5.781199932098389, -5.804699897766113, -5.869800090789795, -5.865799903869629, -5.914899826049805, -5.611100196838379, -6.000199794769287, -5.993299961090088], \"loglift\": [30.0, 29.0, 28.0, 27.0, 26.0, 25.0, 24.0, 23.0, 22.0, 21.0, 20.0, 19.0, 18.0, 17.0, 16.0, 15.0, 14.0, 13.0, 12.0, 11.0, 10.0, 9.0, 8.0, 7.0, 6.0, 5.0, 4.0, 3.0, 2.0, 1.0, 0.9147, 0.9142, 0.9135, 0.9127, 0.9113, 0.9099, 0.9095, 0.9074, 0.9073, 0.9057, 0.9056, 0.9048, 0.9041, 0.9029, 0.9026, 0.9023, 0.902, 0.9019, 0.9013, 0.9013, 0.9003, 0.9, 0.8998, 0.8996, 0.898, 0.8977, 0.8968, 0.8965, 0.8965, 0.8962, 1.3106, 1.3106, 1.3069, 1.3066, 1.3057, 1.3054, 1.3045, 1.3045, 1.3037, 1.3029, 1.3013, 1.3006, 1.3003, 1.2981, 1.2978, 1.2976, 1.2948, 1.2938, 1.2914, 1.2913, 1.2893, 1.2892, 1.2889, 1.2868, 1.2867, 1.2862, 1.2852, 1.2847, 1.2838, 1.2834, 1.1803, 0.9519, 1.0041, 1.8734, 1.8642, 1.8633, 1.857, 1.8558, 1.8554, 1.8539, 1.8529, 1.8528, 1.8524, 1.8501, 1.8496, 1.8482, 1.8481, 1.8481, 1.8473, 1.8462, 1.843, 1.8424, 1.8417, 1.8412, 1.838, 1.8374, 1.8369, 1.8333, 1.8321, 1.8277, 1.8273, 1.8166, 1.8163, 1.8114, 1.6419, 2.0774, 2.0681, 2.0657, 2.064, 2.0636, 2.0624, 2.0619, 2.0571, 2.0559, 2.0471, 2.0468, 2.0463, 2.0463, 2.043, 2.0416, 2.0408, 2.0374, 2.0349, 2.0319, 2.0298, 2.0251, 2.023, 2.0221, 2.0185, 2.0171, 2.0168, 2.0106, 2.0091, 2.0083, 2.001, 2.8508, 2.8422, 2.8363, 2.8218, 2.8187, 2.8124, 2.8101, 2.7898, 2.7872, 2.7845, 2.7837, 2.7562, 2.7561, 2.746, 2.7444, 2.7435, 2.7297, 2.7153, 2.6957, 2.6822, 2.6688, 2.6575, 2.655, 2.6382, 2.6113, 2.6106, 2.606, 2.6002, 2.5969, 2.5776, 2.5535]}, \"token.table\": {\"Topic\": [5, 5, 3, 1, 3, 1, 2, 2, 3, 4, 1, 5, 4, 2, 4, 2, 3, 4, 2, 2, 3, 1, 2, 5, 2, 3, 4, 2, 4, 1, 4, 2, 2, 2, 5, 3, 4, 3, 1, 5, 1, 3, 1, 3, 3, 1, 5, 3, 2, 4, 3, 1, 4, 1, 2, 1, 4, 1, 3, 4, 3, 5, 3, 5, 2, 2, 1, 2, 3, 4, 4, 5, 2, 2, 5, 5, 4, 3, 5, 5, 5, 5, 2, 5, 3, 2, 1, 5, 1, 4, 2, 1, 4, 2, 5, 5, 4, 5, 3, 1, 4, 5, 2, 5, 1, 4, 5, 2, 5, 5, 4, 4, 1, 3, 2, 3, 5, 2, 3, 1, 1, 4, 4, 3, 1, 3, 2, 3, 1, 1, 3, 4, 4, 2, 3, 5, 5, 1, 3, 2, 3, 4, 1, 2, 1, 4, 1, 4, 4, 2, 3, 5, 5, 2, 1, 1, 1, 3, 4, 2, 1, 3], \"Freq\": [0.8628986251436667, 0.9015658558686783, 0.99398050998863, 0.9761864725264039, 0.9172898364508719, 0.27191726805480676, 0.725112714812818, 0.9911025940396992, 0.9590330132408441, 0.9958607560310062, 0.9973594485306198, 0.9504226842077348, 0.9973329444842824, 0.9579476066572566, 0.9430100058477888, 0.9971452902707948, 0.8957310823642324, 0.9268068961800027, 0.9531389178194554, 0.986958295844251, 0.9554248947339808, 0.9914072518527963, 0.9981257847323441, 0.9022340762365579, 0.98980750733041, 0.9913566370231631, 0.9607279432395645, 0.9944336553658282, 0.9757012894934604, 0.9763584745536265, 0.9365825862648969, 0.9566269046205436, 0.9968055704248788, 0.9933004658473341, 0.7227663588651346, 0.9843047611200404, 0.9190049124097855, 0.9268678147171068, 0.998455121156616, 0.8640860069052065, 0.9774351812123337, 0.9939093273118531, 0.9627557106975316, 0.9521374591749101, 0.9967783715934593, 0.9818820740673981, 0.9154012370932306, 0.9517546520941782, 0.9806190860362451, 0.9743561925764386, 0.9880323915012664, 0.9952005357794814, 0.8854162801351396, 0.05382814951555856, 0.861250392248937, 0.9745601595551211, 0.9373536281391827, 0.9830315039572164, 0.9268592237490776, 0.9820766678882391, 0.9691891928193871, 0.948181079339953, 0.9732410117915364, 0.9094319186749396, 0.9920395719405073, 0.9805826879862773, 0.24785591442543878, 0.7022584242054098, 0.041309319070906465, 0.041309319070906465, 0.9339219874127159, 0.9376412134108468, 0.9656052932597244, 0.9673097542810526, 0.9282562025987564, 0.9168107502813362, 0.9820053976684787, 0.986329237721509, 0.8393598619931615, 0.9008641997276464, 0.9818360555580871, 0.8327838406194784, 0.9981435966663166, 0.941397199628595, 0.9602636503596222, 0.9976740468080869, 0.9826253280049544, 0.7790242906705381, 0.9791780487957975, 0.9161120673140296, 0.9874305078469023, 0.9755928985174409, 0.9936289181163004, 0.9488109840562109, 0.7290038645585454, 0.9415578436649967, 0.9607480728750702, 0.9929631182508023, 0.9571628649967927, 0.991235802408129, 0.9498855198439297, 0.7851397070681648, 0.9845994007367818, 0.9511949848811262, 0.9882768228124558, 0.9772869667140888, 0.9705842041174324, 0.9496891338013544, 0.9603302266468969, 0.754755500296183, 0.9446549990664097, 0.879629484238826, 0.9910614053650696, 0.9744646343783617, 0.1580868716027141, 0.7904343580135704, 0.9540348205221278, 0.9645026143637564, 0.9902384077864779, 0.9707703098444874, 0.9796589669983227, 0.9378954349155726, 0.9604042990391608, 0.8832579186923656, 0.9951808427312229, 0.9646152719953828, 0.9601591827661343, 0.986854434372424, 0.9813432820835986, 0.9978616271633127, 0.9572594884815047, 0.9648534841579278, 0.9417327689280155, 0.9579194031434162, 0.9301175135079405, 0.6858886048593191, 0.8035586226662844, 0.9858222570818521, 0.9755056080487773, 0.9940777066167326, 0.9239564743725814, 0.8798972112778298, 0.9871757203111003, 0.997976493147779, 0.9987464599246482, 0.9305259744454987, 0.9814649124120465, 0.9617130073833016, 0.9665745640842933, 0.9906266574335773, 0.9536384146346234, 0.948372202709645, 0.6835234194346905, 0.9610754800753565, 0.9891998198195014, 0.9631165119866749, 0.9792915589740254, 0.9361609842089159, 0.9167732550144544, 0.9663146794830789, 0.9998133909393064, 0.9933429317337863], \"Term\": [\"ability\", \"adjustment\", \"adult\", \"air\", \"area\", \"assistance\", \"assistance\", \"audi\", \"baby\", \"base\", \"bmw\", \"bolster\", \"brand\", \"button\", \"buy\", \"camera\", \"cargo\", \"center\", \"city\", \"class\", \"clutch\", \"com\", \"comfort\", \"cool\", \"coop\", \"cost\", \"country\", \"coupe\", \"couple\", \"crossover\", \"cruise\", \"cut\", \"design\", \"display\", \"dollar\", \"door\", \"drive\", \"end\", \"engine\", \"entry\", \"everything\", \"face\", \"family\", \"fast\", \"feature\", \"feel\", \"field\", \"fit\", \"foot\", \"force\", \"forget\", \"fuel\", \"gas\", \"gene\", \"gene\", \"generation\", \"ground\", \"guy\", \"hatchback\", \"head\", \"headroom\", \"hell\", \"help\", \"house\", \"inch\", \"interior\", \"jaguar\", \"jaguar\", \"jaguar\", \"jaguar\", \"keep\", \"kid\", \"knee\", \"leg\", \"level\", \"life\", \"light\", \"line\", \"litre\", \"look\", \"luxury\", \"massage\", \"material\", \"matter\", \"maur\", \"mercedes\", \"mile\", \"mileage\", \"mind\", \"mode\", \"model\", \"money\", \"navigation\", \"news\", \"notice\", \"offer\", \"okay\", \"package\", \"passenger\", \"performance\", \"place\", \"plenty\", \"point\", \"position\", \"power\", \"price\", \"push\", \"quality\", \"question\", \"read\", \"rear\", \"response\", \"ride\", \"roof\", \"row\", \"row\", \"safety\", \"screen\", \"seat\", \"second\", \"sedan\", \"sense\", \"setting\", \"shut\", \"siri\", \"size\", \"someone\", \"space\", \"speed\", \"sport\", \"start\", \"style\", \"summer\", \"sunroof\", \"supercar\", \"support\", \"surface\", \"suspension\", \"suv\", \"system\", \"tailgate\", \"take\", \"technology\", \"thing\", \"tire\", \"top\", \"torque\", \"touch\", \"traction\", \"transmission\", \"trunk\", \"turbo\", \"turbos\", \"use\", \"vehicle\", \"version\", \"video\", \"wagon\", \"way\", \"weight\", \"wheel\", \"year\"]}, \"R\": 30, \"lambda.step\": 0.01, \"plot.opts\": {\"xlab\": \"PC1\", \"ylab\": \"PC2\"}, \"topic.order\": [4, 5, 2, 1, 3]};\n",
       "\n",
       "function LDAvis_load_lib(url, callback){\n",
       "  var s = document.createElement('script');\n",
       "  s.src = url;\n",
       "  s.async = true;\n",
       "  s.onreadystatechange = s.onload = callback;\n",
       "  s.onerror = function(){console.warn(\"failed to load library \" + url);};\n",
       "  document.getElementsByTagName(\"head\")[0].appendChild(s);\n",
       "}\n",
       "\n",
       "if(typeof(LDAvis) !== \"undefined\"){\n",
       "   // already loaded: just create the visualization\n",
       "   !function(LDAvis){\n",
       "       new LDAvis(\"#\" + \"ldavis_el1627223406983738081678333291\", ldavis_el1627223406983738081678333291_data);\n",
       "   }(LDAvis);\n",
       "}else if(typeof define === \"function\" && define.amd){\n",
       "   // require.js is available: use it to load d3/LDAvis\n",
       "   require.config({paths: {d3: \"https://cdnjs.cloudflare.com/ajax/libs/d3/3.5.5/d3.min\"}});\n",
       "   require([\"d3\"], function(d3){\n",
       "      window.d3 = d3;\n",
       "      LDAvis_load_lib(\"https://cdn.rawgit.com/bmabey/pyLDAvis/files/ldavis.v1.0.0.js\", function(){\n",
       "        new LDAvis(\"#\" + \"ldavis_el1627223406983738081678333291\", ldavis_el1627223406983738081678333291_data);\n",
       "      });\n",
       "    });\n",
       "}else{\n",
       "    // require.js not available: dynamically load d3 & LDAvis\n",
       "    LDAvis_load_lib(\"https://cdnjs.cloudflare.com/ajax/libs/d3/3.5.5/d3.min.js\", function(){\n",
       "         LDAvis_load_lib(\"https://cdn.rawgit.com/bmabey/pyLDAvis/files/ldavis.v1.0.0.js\", function(){\n",
       "                 new LDAvis(\"#\" + \"ldavis_el1627223406983738081678333291\", ldavis_el1627223406983738081678333291_data);\n",
       "            })\n",
       "         });\n",
       "}\n",
       "</script>"
      ],
      "text/plain": [
       "PreparedData(topic_coordinates=              x         y  topics  cluster       Freq\n",
       "topic                                                \n",
       "3      0.245979 -0.021805       1        1  39.903403\n",
       "4     -0.091641 -0.187433       2        1  26.793458\n",
       "1     -0.067068  0.111458       3        1  15.267368\n",
       "0     -0.048697  0.055930       4        1  12.368727\n",
       "2     -0.038572  0.041850       5        1   5.667044, topic_info=         Term        Freq       Total Category  logprob  loglift\n",
       "156      seat   88.000000   88.000000  Default  30.0000  30.0000\n",
       "242     wheel  128.000000  128.000000  Default  29.0000  29.0000\n",
       "0         bmw  119.000000  119.000000  Default  28.0000  28.0000\n",
       "528      inch   80.000000   80.000000  Default  27.0000  27.0000\n",
       "167   package   35.000000   35.000000  Default  26.0000  26.0000\n",
       "...       ...         ...         ...      ...      ...      ...\n",
       "463    dollar    2.123993    2.767146   Topic5  -5.8658   2.6060\n",
       "738      read    2.022316    2.649865   Topic5  -5.9149   2.6002\n",
       "2039  massage    2.740132    3.602375   Topic5  -5.6111   2.5969\n",
       "1570  surface    1.856906    2.488929   Topic5  -6.0002   2.5776\n",
       "664   mileage    1.869828    2.567314   Topic5  -5.9933   2.5535\n",
       "\n",
       "[186 rows x 6 columns], token_table=      Topic      Freq        Term\n",
       "term                             \n",
       "1405      5  0.862899     ability\n",
       "146       5  0.901566  adjustment\n",
       "512       3  0.993981       adult\n",
       "352       1  0.976186         air\n",
       "81        3  0.917290        area\n",
       "...     ...       ...         ...\n",
       "2316      3  0.936161       wagon\n",
       "388       4  0.916773         way\n",
       "478       2  0.966315      weight\n",
       "242       1  0.999813       wheel\n",
       "36        3  0.993343        year\n",
       "\n",
       "[162 rows x 3 columns], R=30, lambda_step=0.01, plot_opts={'xlab': 'PC1', 'ylab': 'PC2'}, topic_order=[4, 5, 2, 1, 3])"
      ]
     },
     "execution_count": 27,
     "metadata": {},
     "output_type": "execute_result"
    }
   ],
   "source": [
    "tfidf_lda_vis"
   ]
  },
  {
   "cell_type": "raw",
   "id": "1ee68cd3",
   "metadata": {},
   "source": [
    "for LDA with tfidf, 5 topics are overlapping. so we will have to reduce the no of topis here"
   ]
  },
  {
   "cell_type": "code",
   "execution_count": 28,
   "id": "bb7dbd05",
   "metadata": {},
   "outputs": [
    {
     "name": "stdout",
     "output_type": "stream",
     "text": [
      "\n",
      "Perplexity:  -8.764215296395935\n",
      "\n",
      "Coherence Score:  0.3759966081365692\n"
     ]
    },
    {
     "data": {
      "text/html": [
       "\n",
       "<link rel=\"stylesheet\" type=\"text/css\" href=\"https://cdn.rawgit.com/bmabey/pyLDAvis/files/ldavis.v1.0.0.css\">\n",
       "\n",
       "\n",
       "<div id=\"ldavis_el1627223407000283683863670619\"></div>\n",
       "<script type=\"text/javascript\">\n",
       "\n",
       "var ldavis_el1627223407000283683863670619_data = {\"mdsDat\": {\"x\": [-0.18346762995500646, 0.13319638157702623, 0.03404616470699047, 0.016225083670989775], \"y\": [0.05952130294668765, 0.120389323729482, -0.12323185906915572, -0.056678767607013784], \"topics\": [1, 2, 3, 4], \"cluster\": [1, 1, 1, 1], \"Freq\": [48.10820974031562, 38.055304528064696, 10.073639622045318, 3.762846109574374]}, \"tinfo\": {\"Term\": [\"audi\", \"cost\", \"performance\", \"sport\", \"turbo\", \"fuel\", \"wheel\", \"foot\", \"luxury\", \"coop\", \"speed\", \"engine\", \"vehicle\", \"clutch\", \"power\", \"comfort\", \"fast\", \"tire\", \"control\", \"cylinder\", \"horsepower\", \"class\", \"second\", \"gallon\", \"interior\", \"suspension\", \"guy\", \"transmission\", \"door\", \"system\", \"engine\", \"vehicle\", \"comfort\", \"class\", \"suspension\", \"door\", \"guy\", \"transmission\", \"mercedes\", \"technology\", \"system\", \"design\", \"feel\", \"model\", \"brand\", \"air\", \"siri\", \"everything\", \"feature\", \"style\", \"ride\", \"camera\", \"okay\", \"thing\", \"level\", \"version\", \"coupe\", \"money\", \"light\", \"setting\", \"sedan\", \"forget\", \"adult\", \"torque\", \"price\", \"bmw\", \"package\", \"seat\", \"wheel\", \"inch\", \"audi\", \"performance\", \"foot\", \"speed\", \"luxury\", \"coop\", \"control\", \"tire\", \"second\", \"interior\", \"video\", \"start\", \"push\", \"base\", \"family\", \"headroom\", \"offer\", \"lane\", \"com\", \"brake\", \"headlight\", \"assistance\", \"change\", \"display\", \"shift\", \"passenger\", \"gear\", \"news\", \"sea\", \"track\", \"option\", \"sport\", \"summer\", \"mile\", \"wheel\", \"power\", \"seat\", \"inch\", \"bmw\", \"package\", \"cost\", \"turbo\", \"fuel\", \"clutch\", \"cylinder\", \"horsepower\", \"fast\", \"diesel\", \"look\", \"gallon\", \"end\", \"liter\", \"day\", \"supercar\", \"acceleration\", \"mpg\", \"competition\", \"exhaust\", \"trip\", \"carbon\", \"entry\", \"race\", \"state\", \"plenty\", \"litre\", \"order\", \"choice\", \"efficiency\", \"horse\", \"hold\", \"accelerate\", \"poser\", \"intuit\", \"touching\", \"specie\", \"continent\", \"beacon\", \"terry\", \"swoopy\", \"sushi\", \"strat\", \"manky\", \"insist\", \"starvation\", \"restaurant\", \"persia\", \"invigorate\", \"yellowish\", \"free\", \"rearward\", \"carrie\", \"slender\", \"yara\", \"dap\", \"dancy\", \"plague\", \"likewise\", \"prodigy\", \"barmy\", \"queen\", \"humphrey\", \"garish\", \"dunce\", \"bobby\", \"wicket\", \"training\", \"tantamount\", \"showroom\", \"nutter\", \"pawnee\", \"poser\", \"plane\", \"pothole\", \"erickson\", \"shaken\", \"mishmash\", \"promotion\", \"finding\", \"export\", \"strawberry\", \"choke\", \"intoxicating\", \"sexier\", \"hagan\", \"kayak\", \"miami\", \"embargo\", \"downside\", \"nevertheless\", \"maiden\", \"goto\", \"cozy\", \"stroller\", \"variance\", \"lax\", \"autobahn\", \"disclaimer\", \"puffed\", \"justus\", \"tuckey\", \"lesson\", \"rent\", \"grown\", \"scorpion\", \"dodge\", \"dart\", \"canyon\", \"prius\", \"buying\", \"price\"], \"Freq\": [75.0, 28.0, 70.0, 98.0, 25.0, 21.0, 127.0, 46.0, 45.0, 44.0, 44.0, 59.0, 57.0, 14.0, 85.0, 49.0, 13.0, 35.0, 35.0, 13.0, 12.0, 42.0, 30.0, 11.0, 29.0, 40.0, 40.0, 40.0, 39.0, 39.0, 58.75452477296732, 57.22829951130511, 49.53070200008029, 42.185853259509436, 39.858093459690686, 39.012932936875146, 39.9543111331001, 40.01504807664122, 36.81956984110295, 37.712505985654474, 38.88217049742067, 34.88062007632972, 32.74571325275724, 31.25758705013968, 32.09151896898738, 30.84306466715304, 32.26489441959597, 29.765207543565953, 27.852343327498797, 29.271708770128686, 28.28756946720798, 26.035596079872732, 26.80161434523099, 25.046948748664224, 25.226837441194544, 24.920359641573416, 26.084974095369372, 24.59568238083903, 24.937583153067205, 28.055971735355463, 28.564990921557555, 32.62691989497884, 26.65356915606606, 46.49923069118588, 44.39566680804802, 68.36395871720026, 43.227699471189126, 40.979078966916816, 35.489055799640845, 29.09663022079113, 75.0777062192334, 70.21073425657949, 45.92446778189308, 43.79199808638201, 45.137241638983696, 44.471948694075735, 34.6591167403157, 35.08361727476668, 30.02790447397811, 29.480641327742756, 26.744976944113045, 25.70313951365102, 25.24658237078654, 23.786603244876186, 23.0708753816296, 20.636360833492702, 23.838015184535408, 20.648877015494232, 23.315191629175743, 18.775713933018967, 17.945537511120246, 20.59116481125206, 17.65687925637269, 16.721326281944997, 16.91738657956536, 16.15245737525904, 16.966113467825526, 17.484946933715214, 17.622029819627887, 15.455338605151196, 17.142386154982788, 85.98783854998116, 17.32313861375871, 26.13895662598807, 91.77938664081097, 64.92135169476947, 61.6021689420868, 47.99481110489337, 51.342845273743556, 26.87501918477776, 27.531389818040065, 24.456839585667783, 21.0010582927931, 14.052568367058198, 12.77977214404294, 12.09315433866045, 13.2663819496287, 9.988527918254391, 9.57219231676238, 10.718780021207301, 9.568300495156581, 8.294493949050352, 7.365065548734714, 7.8316530950535395, 6.61246167544692, 6.797745255045521, 6.969002771597882, 5.807523190088922, 5.932830542636434, 5.0743802854619675, 5.352870976834957, 4.9752048869445336, 4.853287605615715, 4.279684578401941, 3.959791727460009, 4.577823542041339, 4.648493440507119, 3.5398331656635715, 4.078298470619857, 2.797188014212322, 8.273915360862238, 3.826430629978298, 0.07623284871419078, 0.07623284871419078, 0.07623284871419078, 0.07623284871419078, 0.07623284871419078, 0.07624314353661082, 0.07624742218643518, 0.07624742218643518, 0.07624742218643518, 0.07624742218643518, 0.07624652446633667, 0.07624457699289716, 0.0762459090936885, 0.0762459090936885, 0.0762459090936885, 0.0762459090936885, 0.0762459090936885, 0.07625226553116021, 0.07625226553116021, 0.07625226553116021, 0.07625067280195318, 0.07625779664531557, 0.07625779664531557, 0.07625779664531557, 0.07625779664531557, 0.07625779664531557, 0.07625779664531557, 0.07625779664531557, 0.07625779664531557, 0.07625779664531557, 0.07625779664531557, 0.07625779664531557, 0.07625779664531557, 0.07625779664531557, 0.07625779664531557, 0.07625779664531557, 0.07625779664531557, 0.07625779664531557, 1.1827146068752972, 0.8113758156667418, 0.8468012986896734, 0.6899656590946553, 0.6779731610921961, 0.6779731610921961, 0.45761864091784366, 0.45761864091784366, 0.40449472198759684, 0.3717850160149417, 0.3717850160149417, 0.3717850160149417, 0.3329859877379401, 0.4088311444441033, 0.3137183370984256, 0.27392223137910565, 0.3325771775885628, 0.4711397245783663, 0.2356779506849153, 0.22727850497996865, 0.3230155318605972, 0.22687832452702222, 0.212135762358266, 0.21208094351483106, 0.22046816864295277, 0.22957338161825064, 0.2218731150764807, 0.2199887281929216, 0.257645089098725, 0.2067246386296327, 0.5385333678138692, 0.5283484726678332, 0.4218029971566136, 0.26023961601827655, 0.2806660205939802, 0.31346778631480215, 0.31193899794574886, 0.32856323935841225, 0.29305922030621734, 0.37244796782833645], \"Total\": [75.0, 28.0, 70.0, 98.0, 25.0, 21.0, 127.0, 46.0, 45.0, 44.0, 44.0, 59.0, 57.0, 14.0, 85.0, 49.0, 13.0, 35.0, 35.0, 13.0, 12.0, 42.0, 30.0, 11.0, 29.0, 40.0, 40.0, 40.0, 39.0, 39.0, 59.174626800254394, 57.66487698572968, 49.96804517658313, 42.601862126698165, 40.27612753969496, 39.430289826829345, 40.38807428156088, 40.46359702771795, 37.23738549563185, 38.15083967922628, 39.34115303413504, 35.30472800661017, 33.165816975170294, 31.675768221669873, 32.5323640209008, 31.269622808973363, 32.7162720780405, 30.18618865494862, 28.26667455795588, 29.722828147106892, 28.729703125758117, 26.457486079674002, 27.23847584321841, 25.456258070586703, 25.648654885343493, 25.340761392103488, 26.527118406637058, 25.015823908607576, 25.366153235585088, 28.539972299714123, 29.064888595835768, 33.247614590721476, 27.13749074331435, 48.69837997669273, 54.30456795391914, 119.93225584874368, 70.33008834405786, 102.79456292204661, 127.48503018477133, 77.31283453867806, 75.50929518730008, 70.66942258948905, 46.35862801994234, 44.218310515596755, 45.58966789744012, 44.966914213200425, 35.08089951256598, 35.53497668013661, 30.459647610038797, 29.92981422712773, 27.170090373112348, 26.1294340736815, 25.711295220598277, 24.230232085131227, 23.531362882283258, 21.08146191546613, 24.35318363982229, 21.11441636665098, 23.841656675755086, 19.200303030864834, 18.37609936083922, 21.093369625497164, 18.103531999830974, 17.14566440912406, 17.35173359829711, 16.572938056986498, 17.414260590642105, 17.94855077890665, 18.09361903455844, 15.8873770008552, 17.65638540859349, 98.28765193821175, 17.85604829910473, 28.264625198050442, 127.48503018477133, 85.5152432587879, 102.79456292204661, 77.31283453867806, 119.93225584874368, 70.33008834405786, 28.114492373011455, 25.034741346368836, 21.595128818125506, 14.652390033428727, 13.326767774960441, 12.642747970528708, 13.904383811235876, 10.517361116768054, 10.084195191315446, 11.296094934265993, 10.08397708134953, 8.815123527356102, 7.891495029733043, 8.411148262813242, 7.145697455313275, 7.354081904672221, 7.563910346547432, 6.326606228395864, 6.477973381400614, 5.591842380904372, 5.903372314539259, 5.497721155029331, 5.413096183422765, 4.818182293743987, 4.4840272942857915, 5.201164424112695, 5.380178010685314, 4.135202498589151, 4.813239937805051, 3.329511808377764, 9.94187664786662, 24.13799885148325, 0.5963745494689869, 0.5963745494689869, 0.5963745494689869, 0.5963745494689869, 0.5963745494689869, 0.5965737482823987, 0.5966133932270172, 0.5966133932270172, 0.5966133932270172, 0.5966133932270172, 0.5966146809461996, 0.5966042517449166, 0.5966150392784788, 0.5966150392784788, 0.5966150392784788, 0.5966150392784788, 0.5966150392784788, 0.5967057373537732, 0.5967057373537732, 0.5967057373537732, 0.59670574807068, 0.5967679534773032, 0.5967679534773032, 0.5967679534773032, 0.5967679534773032, 0.5967679534773032, 0.5967679534773032, 0.5967679534773032, 0.5967679534773032, 0.5967679534773032, 0.5967679534773032, 0.5967679534773032, 0.5967679534773032, 0.5967679534773032, 0.5967679534773032, 0.5967679534773032, 0.5967679534773032, 0.5967679534773032, 24.13799885148325, 16.30922138289664, 17.916751905654376, 13.531255729455866, 13.260094409946465, 13.260094409946465, 8.567639663708743, 8.567639663708743, 7.30454326279819, 6.658553417295408, 6.658553417295408, 6.658553417295408, 5.6996010085910465, 8.001940953637481, 5.336039229342436, 4.514339169890313, 6.2368406599252015, 11.379851449451087, 3.7301918024172935, 3.5312264107652718, 6.286188506166271, 3.6026986056505512, 3.2377090711889704, 3.2383754497276027, 3.481200038394008, 3.7263651051003177, 3.5237839060985907, 3.482127758827538, 4.562406817292536, 3.1470967047882663, 16.817666104061544, 17.006888310405127, 12.103174257930991, 5.189325657902552, 6.4916740480586705, 12.471245872591322, 12.720949809613431, 15.657564410787645, 13.291784811729494, 54.30456795391914], \"Category\": [\"Default\", \"Default\", \"Default\", \"Default\", \"Default\", \"Default\", \"Default\", \"Default\", \"Default\", \"Default\", \"Default\", \"Default\", \"Default\", \"Default\", \"Default\", \"Default\", \"Default\", \"Default\", \"Default\", \"Default\", \"Default\", \"Default\", \"Default\", \"Default\", \"Default\", \"Default\", \"Default\", \"Default\", \"Default\", \"Default\", \"Topic1\", \"Topic1\", \"Topic1\", \"Topic1\", \"Topic1\", \"Topic1\", \"Topic1\", \"Topic1\", \"Topic1\", \"Topic1\", \"Topic1\", \"Topic1\", \"Topic1\", \"Topic1\", \"Topic1\", \"Topic1\", \"Topic1\", \"Topic1\", \"Topic1\", \"Topic1\", \"Topic1\", \"Topic1\", \"Topic1\", \"Topic1\", \"Topic1\", \"Topic1\", \"Topic1\", \"Topic1\", \"Topic1\", \"Topic1\", \"Topic1\", \"Topic1\", \"Topic1\", \"Topic1\", \"Topic1\", \"Topic1\", \"Topic1\", \"Topic1\", \"Topic1\", \"Topic1\", \"Topic2\", \"Topic2\", \"Topic2\", \"Topic2\", \"Topic2\", \"Topic2\", \"Topic2\", \"Topic2\", \"Topic2\", \"Topic2\", \"Topic2\", \"Topic2\", \"Topic2\", \"Topic2\", \"Topic2\", \"Topic2\", \"Topic2\", \"Topic2\", \"Topic2\", \"Topic2\", \"Topic2\", \"Topic2\", \"Topic2\", \"Topic2\", \"Topic2\", \"Topic2\", \"Topic2\", \"Topic2\", \"Topic2\", \"Topic2\", \"Topic2\", \"Topic2\", \"Topic2\", \"Topic2\", \"Topic2\", \"Topic2\", \"Topic2\", \"Topic2\", \"Topic2\", \"Topic2\", \"Topic3\", \"Topic3\", \"Topic3\", \"Topic3\", \"Topic3\", \"Topic3\", \"Topic3\", \"Topic3\", \"Topic3\", \"Topic3\", \"Topic3\", \"Topic3\", \"Topic3\", \"Topic3\", \"Topic3\", \"Topic3\", \"Topic3\", \"Topic3\", \"Topic3\", \"Topic3\", \"Topic3\", \"Topic3\", \"Topic3\", \"Topic3\", \"Topic3\", \"Topic3\", \"Topic3\", \"Topic3\", \"Topic3\", \"Topic3\", \"Topic3\", \"Topic3\", \"Topic4\", \"Topic4\", \"Topic4\", \"Topic4\", \"Topic4\", \"Topic4\", \"Topic4\", \"Topic4\", \"Topic4\", \"Topic4\", \"Topic4\", \"Topic4\", \"Topic4\", \"Topic4\", \"Topic4\", \"Topic4\", \"Topic4\", \"Topic4\", \"Topic4\", \"Topic4\", \"Topic4\", \"Topic4\", \"Topic4\", \"Topic4\", \"Topic4\", \"Topic4\", \"Topic4\", \"Topic4\", \"Topic4\", \"Topic4\", \"Topic4\", \"Topic4\", \"Topic4\", \"Topic4\", \"Topic4\", \"Topic4\", \"Topic4\", \"Topic4\", \"Topic4\", \"Topic4\", \"Topic4\", \"Topic4\", \"Topic4\", \"Topic4\", \"Topic4\", \"Topic4\", \"Topic4\", \"Topic4\", \"Topic4\", \"Topic4\", \"Topic4\", \"Topic4\", \"Topic4\", \"Topic4\", \"Topic4\", \"Topic4\", \"Topic4\", \"Topic4\", \"Topic4\", \"Topic4\", \"Topic4\", \"Topic4\", \"Topic4\", \"Topic4\", \"Topic4\", \"Topic4\", \"Topic4\", \"Topic4\", \"Topic4\", \"Topic4\", \"Topic4\", \"Topic4\", \"Topic4\", \"Topic4\", \"Topic4\", \"Topic4\", \"Topic4\", \"Topic4\"], \"logprob\": [30.0, 29.0, 28.0, 27.0, 26.0, 25.0, 24.0, 23.0, 22.0, 21.0, 20.0, 19.0, 18.0, 17.0, 16.0, 15.0, 14.0, 13.0, 12.0, 11.0, 10.0, 9.0, 8.0, 7.0, 6.0, 5.0, 4.0, 3.0, 2.0, 1.0, -4.684500217437744, -4.7108001708984375, -4.855299949645996, -5.0157999992370605, -5.0725998878479, -5.093999862670898, -5.070199966430664, -5.068600177764893, -5.151899814605713, -5.127900123596191, -5.097400188446045, -5.205999851226807, -5.269100189208984, -5.3155999183654785, -5.289299964904785, -5.328999996185303, -5.283899784088135, -5.364500045776367, -5.431000232696533, -5.38129997253418, -5.415500164031982, -5.4984002113342285, -5.469399929046631, -5.537099838256836, -5.53000020980835, -5.542200088500977, -5.496500015258789, -5.555300235748291, -5.541500091552734, -5.423699855804443, -5.405700206756592, -5.27269983291626, -5.474999904632568, -4.918499946594238, -4.964700222015381, -4.5329999923706055, -4.991399765014648, -5.0447998046875, -5.188700199127197, -5.38730001449585, -4.204999923706055, -4.271999835968018, -4.696499824523926, -4.74399995803833, -4.713799953460693, -4.728600025177002, -4.97790002822876, -4.965700149536133, -5.121300220489502, -5.139699935913086, -5.237100124359131, -5.276899814605713, -5.2947998046875, -5.354400157928467, -5.384900093078613, -5.496399879455566, -5.352200031280518, -5.495800018310547, -5.3744001388549805, -5.59089994430542, -5.636099815368652, -5.498600006103516, -5.652299880981445, -5.7067999839782715, -5.695099830627441, -5.741399765014648, -5.692299842834473, -5.662099838256836, -5.654300212860107, -5.7855000495910645, -5.6819000244140625, -4.069300174713135, -5.67140007019043, -5.260000228881836, -4.0040998458862305, -4.350299835205078, -4.4028000831604, -4.652400016784668, -4.58489990234375, -5.2322998046875, -3.878999948501587, -3.9974000453948975, -4.149799823760986, -4.551599979400635, -4.646500110626221, -4.701700210571289, -4.609099864959717, -4.892899990081787, -4.935500144958496, -4.822400093078613, -4.9359002113342285, -5.078800201416016, -5.1975998878479, -5.136199951171875, -5.3053998947143555, -5.2778000831604, -5.252900123596191, -5.435200214385986, -5.413899898529053, -5.570199966430664, -5.51669979095459, -5.589900016784668, -5.614699840545654, -5.740499973297119, -5.81820011138916, -5.673099994659424, -5.657800197601318, -5.930300235748291, -5.788700103759766, -6.1656999588012695, -5.081200122833252, -5.852399826049805, -8.783599853515625, -8.783599853515625, -8.783599853515625, -8.783599853515625, -8.783599853515625, -8.78339958190918, -8.78339958190918, -8.78339958190918, -8.78339958190918, -8.78339958190918, -8.78339958190918, -8.78339958190918, -8.78339958190918, -8.78339958190918, -8.78339958190918, -8.78339958190918, -8.78339958190918, -8.783300399780273, -8.783300399780273, -8.783300399780273, -8.783300399780273, -8.78320026397705, -8.78320026397705, -8.78320026397705, -8.78320026397705, -8.78320026397705, -8.78320026397705, -8.78320026397705, -8.78320026397705, -8.78320026397705, -8.78320026397705, -8.78320026397705, -8.78320026397705, -8.78320026397705, -8.78320026397705, -8.78320026397705, -8.78320026397705, -8.78320026397705, -6.041800022125244, -6.418600082397461, -6.375899791717529, -6.580699920654297, -6.598299980163574, -6.598299980163574, -6.991300106048584, -6.991300106048584, -7.114699840545654, -7.198999881744385, -7.198999881744385, -7.198999881744385, -7.309299945831299, -7.104100227355957, -7.368899822235107, -7.504499912261963, -7.310500144958496, -6.962200164794922, -7.654900074005127, -7.691199779510498, -7.339700222015381, -7.692999839782715, -7.7600998878479, -7.76039981842041, -7.72160005569458, -7.681099891662598, -7.7153000831604, -7.723800182342529, -7.565800189971924, -7.785999774932861, -6.828499794006348, -6.847599983215332, -7.072800159454346, -7.555799961090088, -7.480199813842773, -7.369699954986572, -7.374599933624268, -7.3225998878479, -7.436999797821045, -7.197299957275391], \"loglift\": [30.0, 29.0, 28.0, 27.0, 26.0, 25.0, 24.0, 23.0, 22.0, 21.0, 20.0, 19.0, 18.0, 17.0, 16.0, 15.0, 14.0, 13.0, 12.0, 11.0, 10.0, 9.0, 8.0, 7.0, 6.0, 5.0, 4.0, 3.0, 2.0, 1.0, 0.7246, 0.7241, 0.7229, 0.7219, 0.7213, 0.7211, 0.7209, 0.7206, 0.7204, 0.7202, 0.72, 0.7196, 0.719, 0.7184, 0.7181, 0.718, 0.7178, 0.7177, 0.717, 0.7164, 0.7162, 0.7156, 0.7155, 0.7155, 0.7151, 0.715, 0.7149, 0.7148, 0.7147, 0.7146, 0.7144, 0.7129, 0.7137, 0.6855, 0.5303, 0.1696, 0.245, -0.188, -0.5471, -0.2455, 0.9604, 0.9596, 0.9567, 0.9564, 0.9562, 0.9551, 0.954, 0.9533, 0.9519, 0.951, 0.9504, 0.9497, 0.9479, 0.9477, 0.9464, 0.9448, 0.9447, 0.9438, 0.9438, 0.9438, 0.9424, 0.942, 0.9411, 0.9411, 0.9408, 0.9404, 0.9401, 0.94, 0.9397, 0.9386, 0.9366, 0.8324, 0.9358, 0.8879, 0.6375, 0.6906, 0.4541, 0.4894, 0.1177, 0.0041, 2.2743, 2.2719, 2.2674, 2.2534, 2.2533, 2.2508, 2.2483, 2.2437, 2.2431, 2.2428, 2.2428, 2.2344, 2.2262, 2.2239, 2.2177, 2.2166, 2.2133, 2.2096, 2.2073, 2.1981, 2.1974, 2.1954, 2.1861, 2.1767, 2.1709, 2.1676, 2.1491, 2.1398, 2.1296, 2.121, 2.1116, 0.4534, 1.2229, 1.2229, 1.2229, 1.2229, 1.2229, 1.2227, 1.2227, 1.2227, 1.2227, 1.2227, 1.2227, 1.2227, 1.2227, 1.2227, 1.2227, 1.2227, 1.2227, 1.2226, 1.2226, 1.2226, 1.2226, 1.2226, 1.2226, 1.2226, 1.2226, 1.2226, 1.2226, 1.2226, 1.2226, 1.2226, 1.2226, 1.2226, 1.2226, 1.2226, 1.2226, 1.2226, 1.2226, 1.2226, 0.264, 0.2792, 0.228, 0.3039, 0.3066, 0.3066, 0.3503, 0.3503, 0.3864, 0.3947, 0.3947, 0.3947, 0.4399, 0.3059, 0.4463, 0.4778, 0.3486, 0.0955, 0.5182, 0.5368, 0.3116, 0.515, 0.5546, 0.5541, 0.5206, 0.493, 0.5148, 0.5182, 0.406, 0.5571, -0.1613, -0.1916, -0.0767, 0.2872, 0.1389, -0.4035, -0.4282, -0.584, -0.5345, -1.7023]}, \"token.table\": {\"Topic\": [1, 2, 3, 3, 1, 1, 2, 2, 1, 2, 3, 2, 1, 2, 2, 1, 1, 2, 3, 1, 1, 2, 3, 3, 2, 3, 1, 2, 3, 1, 3, 2, 1, 3, 2, 2, 3, 1, 1, 2, 3, 3, 1, 2, 3, 3, 1, 3, 1, 2, 3, 2, 1, 2, 3, 1, 1, 2, 3, 3, 1, 2, 3, 3, 1, 3, 1, 2, 3, 4, 1, 3, 1, 2, 3, 2, 3, 1, 1, 1, 2, 3, 2, 1, 3, 3, 2, 1, 2, 3, 1, 2, 3, 1, 1, 2, 3, 2, 2, 3, 3, 3, 1, 2, 2, 1, 2, 3, 1, 2, 3, 1, 2, 3, 2, 1, 2, 3, 1, 2, 3, 4, 1, 1, 3, 3, 3, 2, 1, 2, 3, 1, 1, 2, 3, 2, 3, 1, 2, 3, 4, 1, 1, 3, 1, 2, 3, 2, 2, 1, 2, 3, 1, 2, 2, 2, 1, 2, 3, 4, 3, 1, 2, 3, 4, 1, 2, 3, 4, 1, 2, 1, 2, 1, 2, 3, 1, 2, 3, 1, 2, 3, 2, 3, 1, 2, 3, 4, 1, 1, 2, 3, 2, 1, 2, 2, 1, 1, 1, 2, 3, 1, 2, 3, 4, 2, 1, 2, 1, 2, 2, 3, 1, 2, 3, 1, 2, 3, 1, 2, 3, 1, 1, 1, 1, 2, 1, 2, 2, 1, 3, 1, 2, 3, 3, 1, 2, 3, 1, 1, 2, 1, 2], \"Freq\": [0.10058463159614692, 0.10058463159614692, 0.8046770527691753, 0.9796104640275611, 0.994933549877001, 0.9913774844480698, 0.9955735083035618, 0.993255198766764, 0.2683580303581334, 0.2683580303581334, 0.2683580303581334, 0.9904981477551547, 0.5669867503014396, 0.42524006272607967, 0.9895677151270559, 0.983635864256321, 0.6018755278779645, 0.30093776393898225, 0.07523444098474556, 0.9827086338325445, 0.4716628938717847, 0.3930524115598206, 0.07861048231196412, 0.8941596810873176, 0.9942811159815698, 0.9293372803036888, 0.450548311620897, 0.450548311620897, 0.150182770540299, 0.9858723986076424, 0.9554755209259151, 0.9646980624206799, 1.0006395051738355, 0.9254472461053388, 0.9976939156723448, 0.9784972077777893, 0.9959276386181042, 0.9801290740080847, 0.27756970800487674, 0.27756970800487674, 0.27756970800487674, 0.9754803429850107, 0.48110670427775776, 0.40092225356479816, 0.08018445071295963, 0.887030907784377, 0.9913686346329275, 0.9508088472931471, 0.283785846875941, 0.283785846875941, 0.283785846875941, 0.9915043006996833, 0.4621304116304403, 0.4621304116304403, 0.15404347054348008, 0.9890873278203356, 0.4393730464944846, 0.4393730464944846, 0.08787460929889691, 0.9673045035556833, 0.3206751797991238, 0.3206751797991238, 0.1603375898995619, 0.9916722260798423, 0.9970489581481629, 0.8469735150679271, 0.36951485508588977, 0.36951485508588977, 0.1478059420343559, 0.07390297101717795, 0.9938319919391978, 0.9483757615686671, 0.4107032968479913, 0.4107032968479913, 0.13690109894933045, 0.977418949980015, 0.9349569298781109, 0.9905657611966661, 0.9950003651261046, 0.3501547821516768, 0.3501547821516768, 0.11671826071722559, 0.9922640501831058, 0.9925524103377156, 0.972441524978263, 0.9737878500500374, 0.9762114165866614, 0.4772367225477297, 0.3181578150318198, 0.1590789075159099, 0.41311476588247836, 0.41311476588247836, 0.08262295317649566, 0.9903913645682766, 0.3749090398669182, 0.3749090398669182, 0.1249696799556394, 0.9795332320829352, 0.9961358507397267, 0.9010329960240292, 0.8310410558556308, 0.9491607384702276, 0.37509942783810213, 0.6208542253872035, 0.9689335115790674, 0.450548311620897, 0.450548311620897, 0.150182770540299, 0.4383651173804921, 0.4383651173804921, 0.21918255869024605, 0.3748098381665124, 0.3748098381665124, 0.1874049190832562, 0.9945811257737773, 0.28725726444072225, 0.28725726444072225, 0.28725726444072225, 0.41622897949611853, 0.4756902622812783, 0.11892256557031958, 0.05946128278515979, 0.9747099842762453, 0.9855652833054944, 0.9075312416409689, 0.8920552301493324, 0.9916507773086388, 0.9870657558031206, 0.28318773244088996, 0.28318773244088996, 0.28318773244088996, 0.993625076184264, 0.443032728541882, 0.443032728541882, 0.221516364270941, 0.9198777559517526, 0.07075982738090404, 0.3770712217742186, 0.3770712217742186, 0.15082848870968746, 0.07541424435484373, 0.978666082636393, 0.9993674440360075, 0.9518523305475747, 0.26808272951325596, 0.26808272951325596, 0.26808272951325596, 0.947151678673612, 0.9854974345430235, 0.9912448903311973, 0.9628244743528297, 0.9613231946330917, 0.611402616041688, 0.38390396821222267, 0.9654293007663195, 0.9905274082487181, 0.4292050390180397, 0.367890033444034, 0.183945016722017, 0.06131500557400567, 0.830188597304355, 0.4142845503278128, 0.3728560952950315, 0.16571382013112512, 0.04142845503278128, 0.39069581567353506, 0.39069581567353506, 0.16744106386008645, 0.055813687953362154, 0.2338764322926102, 0.7600984049509831, 0.8102449141541239, 0.16573191425879807, 0.4470682550842446, 0.38320136150078105, 0.12773378716692702, 0.3501547821516768, 0.3501547821516768, 0.11671826071722559, 0.2871807323740208, 0.2871807323740208, 0.2871807323740208, 0.972335301878202, 0.9094677338129428, 0.47039763265249723, 0.4115979285709351, 0.11759940816312431, 0.058799704081562154, 0.9746010906355698, 0.38540653099199984, 0.38540653099199984, 0.19270326549599992, 0.9948258535575647, 0.39885378014683526, 0.6031447407098485, 0.9849096215450862, 0.9977674576105182, 0.9810801393202637, 0.35090175557646697, 0.35090175557646697, 0.17545087778823348, 0.3770712217742186, 0.3770712217742186, 0.15082848870968746, 0.07541424435484373, 0.9797291955697367, 0.978106549660306, 0.9950628933342048, 0.1220906163018704, 0.8749827501634045, 0.9950464264432014, 0.923685785468242, 0.450548311620897, 0.450548311620897, 0.150182770540299, 0.3088603633039747, 0.3088603633039747, 0.3088603633039747, 0.9756810440941418, 0.9520583566551143, 0.9511186522973348, 0.9931441388097002, 0.991328341753506, 0.9960462291133159, 0.9820767816966044, 0.9849450673641317, 0.9445899436904434, 0.04106912798654102, 0.9441457831077192, 0.9885428616887326, 0.9262155996545218, 0.31775318453942425, 0.31775318453942425, 0.31775318453942425, 0.9586677836190658, 0.30879680738813514, 0.30879680738813514, 0.30879680738813514, 0.9884699834546735, 0.9865528352984029, 0.9937397936195063, 0.2745420379888721, 0.721653356999321], \"Term\": [\"accelerate\", \"accelerate\", \"accelerate\", \"acceleration\", \"adult\", \"air\", \"assistance\", \"audi\", \"autobahn\", \"autobahn\", \"autobahn\", \"base\", \"bmw\", \"bmw\", \"brake\", \"brand\", \"buying\", \"buying\", \"buying\", \"camera\", \"canyon\", \"canyon\", \"canyon\", \"carbon\", \"change\", \"choice\", \"choke\", \"choke\", \"choke\", \"class\", \"clutch\", \"com\", \"comfort\", \"competition\", \"control\", \"coop\", \"cost\", \"coupe\", \"cozy\", \"cozy\", \"cozy\", \"cylinder\", \"dart\", \"dart\", \"dart\", \"day\", \"design\", \"diesel\", \"disclaimer\", \"disclaimer\", \"disclaimer\", \"display\", \"dodge\", \"dodge\", \"dodge\", \"door\", \"downside\", \"downside\", \"downside\", \"efficiency\", \"embargo\", \"embargo\", \"embargo\", \"end\", \"engine\", \"entry\", \"erickson\", \"erickson\", \"erickson\", \"erickson\", \"everything\", \"exhaust\", \"export\", \"export\", \"export\", \"family\", \"fast\", \"feature\", \"feel\", \"finding\", \"finding\", \"finding\", \"foot\", \"forget\", \"fuel\", \"gallon\", \"gear\", \"goto\", \"goto\", \"goto\", \"grown\", \"grown\", \"grown\", \"guy\", \"hagan\", \"hagan\", \"hagan\", \"headlight\", \"headroom\", \"hold\", \"horse\", \"horsepower\", \"inch\", \"inch\", \"interior\", \"intoxicating\", \"intoxicating\", \"intoxicating\", \"justus\", \"justus\", \"justus\", \"kayak\", \"kayak\", \"kayak\", \"lane\", \"lax\", \"lax\", \"lax\", \"lesson\", \"lesson\", \"lesson\", \"lesson\", \"level\", \"light\", \"liter\", \"litre\", \"look\", \"luxury\", \"maiden\", \"maiden\", \"maiden\", \"mercedes\", \"miami\", \"miami\", \"miami\", \"mile\", \"mile\", \"mishmash\", \"mishmash\", \"mishmash\", \"mishmash\", \"model\", \"money\", \"mpg\", \"nevertheless\", \"nevertheless\", \"nevertheless\", \"news\", \"offer\", \"okay\", \"option\", \"order\", \"package\", \"package\", \"passenger\", \"performance\", \"plane\", \"plane\", \"plane\", \"plane\", \"plenty\", \"poser\", \"poser\", \"poser\", \"poser\", \"pothole\", \"pothole\", \"pothole\", \"pothole\", \"power\", \"power\", \"price\", \"price\", \"prius\", \"prius\", \"prius\", \"promotion\", \"promotion\", \"promotion\", \"puffed\", \"puffed\", \"puffed\", \"push\", \"race\", \"rent\", \"rent\", \"rent\", \"rent\", \"ride\", \"scorpion\", \"scorpion\", \"scorpion\", \"sea\", \"seat\", \"seat\", \"second\", \"sedan\", \"setting\", \"sexier\", \"sexier\", \"sexier\", \"shaken\", \"shaken\", \"shaken\", \"shaken\", \"shift\", \"siri\", \"speed\", \"sport\", \"sport\", \"start\", \"state\", \"strawberry\", \"strawberry\", \"strawberry\", \"stroller\", \"stroller\", \"stroller\", \"style\", \"summer\", \"supercar\", \"suspension\", \"system\", \"technology\", \"thing\", \"tire\", \"torque\", \"torque\", \"track\", \"transmission\", \"trip\", \"tuckey\", \"tuckey\", \"tuckey\", \"turbo\", \"variance\", \"variance\", \"variance\", \"vehicle\", \"version\", \"video\", \"wheel\", \"wheel\"]}, \"R\": 30, \"lambda.step\": 0.01, \"plot.opts\": {\"xlab\": \"PC1\", \"ylab\": \"PC2\"}, \"topic.order\": [1, 4, 2, 3]};\n",
       "\n",
       "function LDAvis_load_lib(url, callback){\n",
       "  var s = document.createElement('script');\n",
       "  s.src = url;\n",
       "  s.async = true;\n",
       "  s.onreadystatechange = s.onload = callback;\n",
       "  s.onerror = function(){console.warn(\"failed to load library \" + url);};\n",
       "  document.getElementsByTagName(\"head\")[0].appendChild(s);\n",
       "}\n",
       "\n",
       "if(typeof(LDAvis) !== \"undefined\"){\n",
       "   // already loaded: just create the visualization\n",
       "   !function(LDAvis){\n",
       "       new LDAvis(\"#\" + \"ldavis_el1627223407000283683863670619\", ldavis_el1627223407000283683863670619_data);\n",
       "   }(LDAvis);\n",
       "}else if(typeof define === \"function\" && define.amd){\n",
       "   // require.js is available: use it to load d3/LDAvis\n",
       "   require.config({paths: {d3: \"https://cdnjs.cloudflare.com/ajax/libs/d3/3.5.5/d3.min\"}});\n",
       "   require([\"d3\"], function(d3){\n",
       "      window.d3 = d3;\n",
       "      LDAvis_load_lib(\"https://cdn.rawgit.com/bmabey/pyLDAvis/files/ldavis.v1.0.0.js\", function(){\n",
       "        new LDAvis(\"#\" + \"ldavis_el1627223407000283683863670619\", ldavis_el1627223407000283683863670619_data);\n",
       "      });\n",
       "    });\n",
       "}else{\n",
       "    // require.js not available: dynamically load d3 & LDAvis\n",
       "    LDAvis_load_lib(\"https://cdnjs.cloudflare.com/ajax/libs/d3/3.5.5/d3.min.js\", function(){\n",
       "         LDAvis_load_lib(\"https://cdn.rawgit.com/bmabey/pyLDAvis/files/ldavis.v1.0.0.js\", function(){\n",
       "                 new LDAvis(\"#\" + \"ldavis_el1627223407000283683863670619\", ldavis_el1627223407000283683863670619_data);\n",
       "            })\n",
       "         });\n",
       "}\n",
       "</script>"
      ],
      "text/plain": [
       "PreparedData(topic_coordinates=              x         y  topics  cluster       Freq\n",
       "topic                                                \n",
       "0     -0.183468  0.059521       1        1  48.108210\n",
       "3      0.133196  0.120389       2        1  38.055305\n",
       "1      0.034046 -0.123232       3        1  10.073640\n",
       "2      0.016225 -0.056679       4        1   3.762846, topic_info=             Term       Freq      Total Category  logprob  loglift\n",
       "172          audi  75.000000  75.000000  Default  30.0000  30.0000\n",
       "1            cost  28.000000  28.000000  Default  29.0000  29.0000\n",
       "430   performance  70.000000  70.000000  Default  28.0000  28.0000\n",
       "169         sport  98.000000  98.000000  Default  27.0000  27.0000\n",
       "371         turbo  25.000000  25.000000  Default  26.0000  26.0000\n",
       "...           ...        ...        ...      ...      ...      ...\n",
       "380          dart   0.313468  12.471246   Topic4  -7.3697  -0.4035\n",
       "5246       canyon   0.311939  12.720950   Topic4  -7.3746  -0.4282\n",
       "4765        prius   0.328563  15.657564   Topic4  -7.3226  -0.5840\n",
       "46         buying   0.293059  13.291785   Topic4  -7.4370  -0.5345\n",
       "892         price   0.372448  54.304568   Topic4  -7.1973  -1.7023\n",
       "\n",
       "[220 rows x 6 columns], token_table=      Topic      Freq          Term\n",
       "term                               \n",
       "304       1  0.100585    accelerate\n",
       "304       2  0.100585    accelerate\n",
       "304       3  0.804677    accelerate\n",
       "972       3  0.979610  acceleration\n",
       "512       1  0.994934         adult\n",
       "...     ...       ...           ...\n",
       "939       1  0.988470       vehicle\n",
       "35        1  0.986553       version\n",
       "79        2  0.993740         video\n",
       "242       1  0.274542         wheel\n",
       "242       2  0.721653         wheel\n",
       "\n",
       "[243 rows x 3 columns], R=30, lambda_step=0.01, plot_opts={'xlab': 'PC1', 'ylab': 'PC2'}, topic_order=[1, 4, 2, 3])"
      ]
     },
     "execution_count": 28,
     "metadata": {},
     "output_type": "execute_result"
    }
   ],
   "source": [
    "tfidf_lda_vis, tfidf_lda_model = lda_modelling(corpus_tfidf, processed_train_text, dictionary, noof_topics=4)\n",
    "tfidf_lda_vis"
   ]
  },
  {
   "cell_type": "raw",
   "id": "8388cd6b",
   "metadata": {},
   "source": [
    "Interpretation:\n",
    "Topic 1 - specifications\n",
    "Topic 2 - sports mode\n",
    "topic 3- performance\n",
    "topic 4- since the relevance is low we ll exclude this\n",
    "\n",
    "model has \n",
    "Perplexity:  -8.764215296395935\n",
    "\n",
    "Coherence Score:  0.3759966081365692\n",
    "\n",
    "coherence score is low & 2 clusters seem bog & 2 clusters seem small"
   ]
  },
  {
   "cell_type": "raw",
   "id": "72a01f92",
   "metadata": {},
   "source": [
    "4 topics seem to work well. Lets go ahead with LSA now"
   ]
  },
  {
   "cell_type": "markdown",
   "id": "b4744cd8",
   "metadata": {},
   "source": [
    "# LSA"
   ]
  },
  {
   "cell_type": "raw",
   "id": "9a0730eb",
   "metadata": {},
   "source": [
    "Unfortunately there is no out-of-the-box coherence model for LSA & NMF. We will have to write a custom implementation for this. This custom implemention is not done yet but i plan to do it in future.\n",
    "\n",
    "Now lets get into modelling.."
   ]
  },
  {
   "cell_type": "code",
   "execution_count": 30,
   "id": "ea40f64c",
   "metadata": {},
   "outputs": [],
   "source": [
    "# get Tfidf of words\n",
    "vect, tfidf_text = get_tfidf(processed_train_text)"
   ]
  },
  {
   "cell_type": "code",
   "execution_count": 31,
   "id": "b104a645",
   "metadata": {},
   "outputs": [],
   "source": [
    "lsa_model, lsa_tops = lsa_modelling(tfidf_text, 5)"
   ]
  },
  {
   "cell_type": "code",
   "execution_count": 33,
   "id": "833363e6",
   "metadata": {},
   "outputs": [
    {
     "name": "stdout",
     "output_type": "stream",
     "text": [
      "Topic 0: \n",
      "seat wheel sport engine bmw control power audi class thing \n",
      "\n",
      "Topic 1: \n",
      "seat space door passenger boot storage head practicality floor problem \n",
      "\n",
      "Topic 2: \n",
      "engine power seat diesel mile turbo foot speed second petrol \n",
      "\n",
      "Topic 3: \n",
      "class bmw engine mercedes video mile audi siri diesel boot \n",
      "\n",
      "Topic 4: \n",
      "bmw sport guy seat siri comfort eye mile performance vehicle \n",
      "\n"
     ]
    }
   ],
   "source": [
    "vocab = vect.get_feature_names()\n",
    "\n",
    "for i, comp in enumerate(lsa_model.components_):\n",
    "    vocab_comp = zip(vocab, comp)\n",
    "    sorted_words = sorted(vocab_comp, key= lambda x:x[1], reverse=True)[:10]\n",
    "    print(\"Topic \"+str(i)+\": \")\n",
    "    for t in sorted_words:\n",
    "        print(t[0],end=\" \")\n",
    "    print(\"\\n\")"
   ]
  },
  {
   "cell_type": "raw",
   "id": "6db70b20",
   "metadata": {},
   "source": [
    "Interpretation:\n",
    "Topic 1 - features \n",
    "Topic 2 - interiors\n",
    "topic 3- engine specification\n",
    "topic 4- experience\n",
    "topic 5 - sports mode"
   ]
  },
  {
   "cell_type": "markdown",
   "id": "e29164c0",
   "metadata": {},
   "source": [
    "# NMF"
   ]
  },
  {
   "cell_type": "code",
   "execution_count": 38,
   "id": "55488312",
   "metadata": {},
   "outputs": [
    {
     "name": "stderr",
     "output_type": "stream",
     "text": [
      "C:\\Users\\Dell\\anaconda3\\lib\\site-packages\\sklearn\\decomposition\\_nmf.py:312: FutureWarning: The 'init' value, when 'init=None' and n_components is less than n_samples and n_features, will be changed from 'nndsvd' to 'nndsvda' in 1.1 (renaming of 0.26).\n",
      "  warnings.warn((\"The 'init' value, when 'init=None' and \"\n"
     ]
    }
   ],
   "source": [
    "nmf_model = nmf_modelling(tfidf_text, 5)"
   ]
  },
  {
   "cell_type": "code",
   "execution_count": 39,
   "id": "a6505f39",
   "metadata": {},
   "outputs": [
    {
     "name": "stdout",
     "output_type": "stream",
     "text": [
      "TOPIC - #0\n",
      "['gearbox', 'model', 'air', 'inch', 'button', 'corner', 'comfort', 'speed', 'power', 'thing', 'audi', 'suspension', 'control', 'sport', 'wheel']\n",
      "\n",
      "\n",
      "TOPIC - #1\n",
      "['rest', 'button', 'feature', 'practicality', 'point', 'floor', 'storage', 'problem', 'head', 'boot', 'passenger', 'foot', 'space', 'door', 'seat']\n",
      "\n",
      "\n",
      "TOPIC - #2\n",
      "['transmission', 'gearbox', 'sound', 'performance', 'hour', 'cylinder', 'petrol', 'second', 'foot', 'speed', 'turbo', 'diesel', 'mile', 'power', 'engine']\n",
      "\n",
      "\n",
      "TOPIC - #3\n",
      "['channel', 'year', 'watch', 'audi', 'luxury', 'feel', 'quality', 'price', 'click', 'design', 'boot', 'thing', 'video', 'mercedes', 'class']\n",
      "\n",
      "\n",
      "TOPIC - #4\n",
      "['channel', 'phone', 'feature', 'start', 'year', 'version', 'eye', 'design', 'price', 'vehicle', 'audi', 'video', 'siri', 'guy', 'bmw']\n",
      "\n",
      "\n"
     ]
    }
   ],
   "source": [
    "for index,topic in enumerate(nmf_model.components_):\n",
    "    print(f'TOPIC - #{index}')\n",
    "    print([vect.get_feature_names()[i] for i in topic.argsort()[-15:]])\n",
    "    print('\\n')"
   ]
  },
  {
   "cell_type": "raw",
   "id": "9a3a9e24",
   "metadata": {},
   "source": [
    "Interpretation:\n",
    "Topic 1 - parts \n",
    "Topic 2 - features\n",
    "topic 3- specifications/performance\n",
    "topic 4- experience\n",
    "topic 5 - design"
   ]
  },
  {
   "cell_type": "markdown",
   "id": "fb423e35",
   "metadata": {},
   "source": [
    "<b>Analysis:<br>\n",
    " Interpretation is every users individual perspective. This is mine. It can look different to others.<br>\n",
    " \n",
    "LSA & NMF has some overlapping words- so we can say this model can be imporoved more by performing more preprocessing & also we can try with diff no of topics<br>\n",
    "    \n",
    "LDA- we have coherence score & perplexity evaluation metrics which helps a lot in deciding the topics. And among the variants such as LDA-bow, \n",
    "LDA-bigrams, LDA-tfidf, coherence score of LDA bigrams was better.\n",
    "    \n",
    "Thus we can get better insights with LDA -bigrams in this paper"
   ]
  },
  {
   "cell_type": "markdown",
   "id": "e73877c8",
   "metadata": {},
   "source": [
    "<b> Conclusion<br></br>\n",
    "\n",
    "We started with understanding what topic modeling can do. We built basic topic models using Gensim’s LDA and visualize the topics using pyLDAvis. \n",
    "We saw how to find the optimal number of topics using coherence scores and how you can come to a logical understanding of how to choose the \n",
    "optimal model. Then we built LSA & NMF implementation & analysed the topics\n",
    "\n",
    "We have generated insights in a more meaningful way.\n",
    "\n",
    "Thank You."
   ]
  },
  {
   "cell_type": "code",
   "execution_count": null,
   "id": "9b96cb83",
   "metadata": {},
   "outputs": [],
   "source": []
  }
 ],
 "metadata": {
  "kernelspec": {
   "display_name": "Python 3",
   "language": "python",
   "name": "python3"
  },
  "language_info": {
   "codemirror_mode": {
    "name": "ipython",
    "version": 3
   },
   "file_extension": ".py",
   "mimetype": "text/x-python",
   "name": "python",
   "nbconvert_exporter": "python",
   "pygments_lexer": "ipython3",
   "version": "3.8.8"
  }
 },
 "nbformat": 4,
 "nbformat_minor": 5
}
