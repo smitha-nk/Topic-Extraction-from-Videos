{
 "cells": [
  {
   "cell_type": "code",
   "execution_count": null,
   "id": "2b350bf1",
   "metadata": {},
   "outputs": [],
   "source": [
    "from gensim.models.coherencemodel import CoherenceModel\n",
    "from gensim.models import LdaModel\n",
    "import import_ipynb\n",
    "import pyLDAvis\n",
    "import pyLDAvis.gensim  # don't skip this\n",
    "\n",
    "from sklearn.decomposition import NMF\n",
    "from sklearn.decomposition import TruncatedSVD"
   ]
  },
  {
   "cell_type": "code",
   "execution_count": 10,
   "id": "d56831f7",
   "metadata": {},
   "outputs": [],
   "source": [
    "def lda_modelling(corpus, train_lemmatized, dictionary, noof_topics):\n",
    "    \"\"\"\n",
    "    lda_topics performs LDA topic modeling on the input data\n",
    "\n",
    "    :param processed_data: list of preprocessed segments\n",
    "    :param max_iter: max. number of iterations\n",
    "    :param n_words: number of topic representatives\n",
    "\n",
    "    :return:\n",
    "        - topics - list of topics (and their representatives\n",
    "        - doc_topics - list of predicted topics, one for each segment\n",
    "    \"\"\"\n",
    "\n",
    "    lda_model = LdaModel(corpus, id2word=dictionary, num_topics=noof_topics, random_state=42, update_every=1,\n",
    "                             chunksize=100, passes=5, alpha='auto', eta='auto', per_word_topics=True)\n",
    "    \n",
    "#     print(lda_model.print_topics())\n",
    "    doc_lda = lda_model[corpus]\n",
    "    \n",
    "    # Compute Perplexity\n",
    "    print('\\nPerplexity: ', lda_model.log_perplexity(corpus))  # a measure of how good the model is. lower the better.\n",
    "\n",
    "    # Compute Coherence Score\n",
    "    coherence_model_lda = CoherenceModel(model=lda_model, texts=train_lemmatized, dictionary=dictionary, coherence='c_v')\n",
    "    coherence_lda = coherence_model_lda.get_coherence()\n",
    "    print('\\nCoherence Score: ', coherence_lda)\n",
    "    \n",
    "    pyLDAvis.enable_notebook()\n",
    "    vis = pyLDAvis.gensim.prepare(lda_model, corpus, dictionary)\n",
    "\n",
    "    return vis, lda_model\n"
   ]
  },
  {
   "cell_type": "code",
   "execution_count": null,
   "id": "d0f09ccb",
   "metadata": {},
   "outputs": [],
   "source": [
    "def select_lda_topics(corpus, train_lemmatized, dictionary, topics_range):\n",
    "    \"\"\"\n",
    "    lda_topics performs LDA topic modeling on the input data\n",
    "\n",
    "    :param processed_data: list of preprocessed segments\n",
    "    :param max_iter: max. number of iterations\n",
    "    :param n_words: number of topic representatives\n",
    "\n",
    "    :return:\n",
    "        - topics - list of topics (and their representatives\n",
    "        - doc_topics - list of predicted topics, one for each segment\n",
    "    \"\"\"\n",
    "    coherence_values = []\n",
    "    model_list = []\n",
    "\n",
    "    for k in topics_range:\n",
    "        \n",
    "        # calculate LDA model\n",
    "        ldamodel = LdaModel(corpus, id2word=dictionary, num_topics=k, random_state=42, \n",
    "                             alpha='auto', eta='auto', per_word_topics=True)\n",
    "        \n",
    "        model_list.append(ldamodel)\n",
    "        \n",
    "        coherencemodel = CoherenceModel(model=ldamodel, texts=train_lemmatized, dictionary=dictionary, coherence='c_v')\n",
    "        coherence_values.append(coherencemodel.get_coherence())\n",
    "\n",
    "\n",
    "    return model_list, coherence_values\n"
   ]
  },
  {
   "cell_type": "code",
   "execution_count": null,
   "id": "05763119",
   "metadata": {},
   "outputs": [],
   "source": [
    "def lsa_modelling(vect_text, nooftopics):\n",
    "    lsa_model = TruncatedSVD(n_components=nooftopics, n_iter=10, random_state=42)\n",
    "    lsa_tops=lsa_model.fit_transform(vect_text)\n",
    "    return lsa_model, lsa_tops   "
   ]
  },
  {
   "cell_type": "code",
   "execution_count": null,
   "id": "e4662c4a",
   "metadata": {},
   "outputs": [],
   "source": [
    "def nmf_modelling(vect_text, nooftopics):\n",
    "    nmf_model = NMF(n_components=nooftopics,random_state=42)\n",
    "    nmf_model.fit(vect_text)\n",
    "    return nmf_model    "
   ]
  }
 ],
 "metadata": {
  "kernelspec": {
   "display_name": "Python 3",
   "language": "python",
   "name": "python3"
  },
  "language_info": {
   "codemirror_mode": {
    "name": "ipython",
    "version": 3
   },
   "file_extension": ".py",
   "mimetype": "text/x-python",
   "name": "python",
   "nbconvert_exporter": "python",
   "pygments_lexer": "ipython3",
   "version": "3.8.8"
  }
 },
 "nbformat": 4,
 "nbformat_minor": 5
}
